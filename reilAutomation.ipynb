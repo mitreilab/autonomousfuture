{
  "nbformat": 4,
  "nbformat_minor": 0,
  "metadata": {
    "colab": {
      "name": "reilAutomation.ipynb",
      "version": "0.3.2",
      "provenance": [],
      "toc_visible": true,
      "include_colab_link": true
    },
    "kernelspec": {
      "name": "python3",
      "display_name": "Python 3"
    },
    "accelerator": "GPU"
  },
  "cells": [
    {
      "cell_type": "markdown",
      "metadata": {
        "id": "view-in-github",
        "colab_type": "text"
      },
      "source": [
        "[View in Colaboratory](https://colab.research.google.com/github/mitreilab/autonomousfuture/blob/master/reilAutomation.ipynb)"
      ]
    },
    {
      "metadata": {
        "id": "wEAKnMja1sHx",
        "colab_type": "text"
      },
      "cell_type": "markdown",
      "source": [
        "## Import OES Data"
      ]
    },
    {
      "metadata": {
        "id": "8xQ0hltz1zjV",
        "colab_type": "code",
        "colab": {
          "base_uri": "https://localhost:8080/",
          "height": 36
        },
        "outputId": "fd54c908-57be-429b-c827-832be6ba7be2"
      },
      "cell_type": "code",
      "source": [
        "import pandas\n",
        "oes = pandas.read_csv(\"https://raw.githubusercontent.com/mitreilab/autonomousfuture/master/oes/realestate_oes_nat4d_2007-2016.csv\", low_memory = False)\n",
        "\n",
        "from google.colab import drive\n",
        "drive.mount('/content/drive')\n",
        "\n"
      ],
      "execution_count": 0,
      "outputs": [
        {
          "output_type": "stream",
          "text": [
            "Mounted at /content/drive\n"
          ],
          "name": "stdout"
        }
      ]
    },
    {
      "metadata": {
        "id": "E9aKZf1ryXKn",
        "colab_type": "code",
        "colab": {
          "base_uri": "https://localhost:8080/",
          "height": 36
        },
        "outputId": "89ca3852-1d1c-4bb9-dfc4-878db31073fe"
      },
      "cell_type": "code",
      "source": [
        "!ls \"/content/drive/My Drive\""
      ],
      "execution_count": 0,
      "outputs": [
        {
          "output_type": "stream",
          "text": [
            "onet.sqlite\n"
          ],
          "name": "stdout"
        }
      ]
    },
    {
      "metadata": {
        "id": "e5vWN1Jw1oQM",
        "colab_type": "text"
      },
      "cell_type": "markdown",
      "source": [
        "## Import ONet Data"
      ]
    },
    {
      "metadata": {
        "id": "rwfccGxUFpgf",
        "colab_type": "code",
        "colab": {}
      },
      "cell_type": "code",
      "source": [
        "import sqlite3\n",
        "onetConnection = sqlite3.connect('onet.sqlite')\n",
        "onetConnection."
      ],
      "execution_count": 0,
      "outputs": []
    }
  ]
}