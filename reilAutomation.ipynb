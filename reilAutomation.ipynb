{
  "nbformat": 4,
  "nbformat_minor": 0,
  "metadata": {
    "colab": {
      "name": "reilAutomation.ipynb",
      "version": "0.3.2",
      "provenance": [],
      "toc_visible": true,
      "include_colab_link": true
    },
    "kernelspec": {
      "name": "python3",
      "display_name": "Python 3"
    },
    "accelerator": "GPU"
  },
  "cells": [
    {
      "cell_type": "markdown",
      "metadata": {
        "id": "view-in-github",
        "colab_type": "text"
      },
      "source": [
        "[View in Colaboratory](https://colab.research.google.com/github/mitreilab/autonomousfuture/blob/master/reilAutomation.ipynb)"
      ]
    },
    {
      "metadata": {
        "id": "wEAKnMja1sHx",
        "colab_type": "text"
      },
      "cell_type": "markdown",
      "source": [
        "## Import OES Data"
      ]
    },
    {
      "metadata": {
        "id": "8xQ0hltz1zjV",
        "colab_type": "code",
        "colab": {}
      },
      "cell_type": "code",
      "source": [
        "import pandas\n",
        "oes = pandas.read_csv(\"https://raw.githubusercontent.com/mitreilab/autonomousfuture/master/oes/realestate_oes_nat4d_2007-2016.csv\", low_memory = False)\n"
      ],
      "execution_count": 0,
      "outputs": []
    },
    {
      "metadata": {
        "id": "e5vWN1Jw1oQM",
        "colab_type": "text"
      },
      "cell_type": "markdown",
      "source": [
        "## Import ONet Data"
      ]
    },
    {
      "metadata": {
        "id": "rwfccGxUFpgf",
        "colab_type": "code",
        "colab": {
          "base_uri": "https://localhost:8080/",
          "height": 193
        },
        "outputId": "6c7b8bd0-49b4-438c-e441-e99e519fd88c"
      },
      "cell_type": "code",
      "source": [
        "import sqlite3\n",
        "onetConnection = sqlite3.connect(\"https://github.com/mitreilab/autonomousfuture/blob/master/onet/onet.sqlite\")"
      ],
      "execution_count": 0,
      "outputs": [
        {
          "output_type": "error",
          "ename": "OperationalError",
          "evalue": "ignored",
          "traceback": [
            "\u001b[0;31m---------------------------------------------------------------------------\u001b[0m",
            "\u001b[0;31mOperationalError\u001b[0m                          Traceback (most recent call last)",
            "\u001b[0;32m<ipython-input-35-e27fd994bcad>\u001b[0m in \u001b[0;36m<module>\u001b[0;34m()\u001b[0m\n\u001b[1;32m      1\u001b[0m \u001b[0;32mimport\u001b[0m \u001b[0msqlite3\u001b[0m\u001b[0;34m\u001b[0m\u001b[0m\n\u001b[0;32m----> 2\u001b[0;31m \u001b[0monetConnection\u001b[0m \u001b[0;34m=\u001b[0m \u001b[0msqlite3\u001b[0m\u001b[0;34m.\u001b[0m\u001b[0mconnect\u001b[0m\u001b[0;34m(\u001b[0m\u001b[0;34m\"https://github.com/mitreilab/autonomousfuture/blob/master/onet/onet.sqlite\"\u001b[0m\u001b[0;34m)\u001b[0m\u001b[0;34m\u001b[0m\u001b[0m\n\u001b[0m",
            "\u001b[0;31mOperationalError\u001b[0m: unable to open database file"
          ]
        }
      ]
    },
    {
      "metadata": {
        "id": "LwXgnxK5zdTy",
        "colab_type": "text"
      },
      "cell_type": "markdown",
      "source": [
        "# New Section"
      ]
    }
  ]
}