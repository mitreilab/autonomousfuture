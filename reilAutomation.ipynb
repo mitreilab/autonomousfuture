{
  "nbformat": 4,
  "nbformat_minor": 0,
  "metadata": {
    "colab": {
      "name": "reilAutomation.ipynb",
      "version": "0.3.2",
      "provenance": [],
      "toc_visible": true,
      "include_colab_link": true
    },
    "kernelspec": {
      "name": "python3",
      "display_name": "Python 3"
    },
    "accelerator": "GPU"
  },
  "cells": [
    {
      "cell_type": "markdown",
      "metadata": {
        "id": "view-in-github",
        "colab_type": "text"
      },
      "source": [
        "[View in Colaboratory](https://colab.research.google.com/github/mitreilab/autonomousfuture/blob/master/reilAutomation.ipynb)"
      ]
    },
    {
      "metadata": {
        "id": "wEAKnMja1sHx",
        "colab_type": "text"
      },
      "cell_type": "markdown",
      "source": [
        "## Import OES Data"
      ]
    },
    {
      "metadata": {
        "id": "8xQ0hltz1zjV",
        "colab_type": "code",
        "colab": {}
      },
      "cell_type": "code",
      "source": [
        "import numpy as np\n",
        "import pandas as pd\n",
        "import matplotlib\n",
        "import matplotlib.pyplot as pp\n",
        "!wget \"https://www.dropbox.com/s/nb634owp9471quf/rawdatanaics.csv?dl=0\" -q -O \"rawdatanaics.csv\" \n",
        "#Download raw csv file from Dropbox and rename to \"rawdatanaics.csv\"\n",
        "oes = pd.read_csv(\"rawdatanaics.csv\",low_memory=False)\n",
        "\n"
      ],
      "execution_count": 0,
      "outputs": []
    },
    {
      "metadata": {
        "id": "SaW5pHN8D0E2",
        "colab_type": "text"
      },
      "cell_type": "markdown",
      "source": [
        "## Import ONet Data ##"
      ]
    },
    {
      "metadata": {
        "id": "P0atFUe0D2JX",
        "colab_type": "code",
        "colab": {}
      },
      "cell_type": "code",
      "source": [
        "!wget \"https://www.dropbox.com/s/2y7c9yo93nyq8uh/combined.sqlite?dl=0\" -q -O  \"onet.sqlite\"  \n",
        "#Download raw SQLite file from Dropbox and rename to \"onet.sqlite\"\n",
        "import sqlite3\n",
        "onetConnection = sqlite3.connect('onet.sqlite')\n",
        "cur = onetConnection.cursor()\n",
        "query = \"SELECT * FROM occupation_data\";\n",
        "occdata = pandas.read_sql_query(query, onetConnection)\n",
        "len(occdata)\n",
        "# Onet surveyed 1109 occupations.\n"
      ],
      "execution_count": 0,
      "outputs": []
    },
    {
      "metadata": {
        "id": "7Z35kElLdrlP",
        "colab_type": "text"
      },
      "cell_type": "markdown",
      "source": [
        "## Data cleaning"
      ]
    },
    {
      "metadata": {
        "id": "T5WcmXpTZX_L",
        "colab_type": "text"
      },
      "cell_type": "markdown",
      "source": [
        "### Target the occupations that are 1. In Real Estate industry 2. Not General Group 3. Onet has surveyed\n"
      ]
    },
    {
      "metadata": {
        "id": "MpdkLpRlZ9UR",
        "colab_type": "code",
        "colab": {
          "base_uri": "https://localhost:8080/",
          "height": 68
        },
        "outputId": "02878034-246c-43bc-ce9d-28ee434953b2"
      },
      "cell_type": "code",
      "source": [
        "!wget \"https://www.dropbox.com/s/329edv8yrn3ik25/Occupation%20Data.csv?dl=0\"-q -O  \"Occupation Data.csv\" \n",
        "occ_onet=pd.read_csv(\"Occupation Data.csv\",low_memory=False)\n",
        "#Download 'Occupation Data' CSV that changes the 8-digit Onet-code to 6-digit, ommiting the last two digits.\n",
        "del_occ_endwith_00_and_in_Onet=oes.loc[oes['occ_code'].isin(occ_onet['O*NET-SOC Code'])]\n",
        "#Delete the occupation if the code is not in 'Occupation Data'\n",
        "del_occ_endwith_00_and_in_Onet.shape"
      ],
      "execution_count": 21,
      "outputs": [
        {
          "output_type": "stream",
          "text": [
            "\n",
            "Redirecting output to ‘wget-log.15’.\n"
          ],
          "name": "stdout"
        },
        {
          "output_type": "execute_result",
          "data": {
            "text/plain": [
              "(22026, 61)"
            ]
          },
          "metadata": {
            "tags": []
          },
          "execution_count": 21
        }
      ]
    },
    {
      "metadata": {
        "id": "NGLAv20Bd5qR",
        "colab_type": "code",
        "colab": {
          "base_uri": "https://localhost:8080/",
          "height": 34
        },
        "outputId": "02c828e1-ef2a-4b2d-9d43-0027671a1613"
      },
      "cell_type": "code",
      "source": [
        "target_occ=set(del_occ_endwith_00_and_in_Onet['occ_code'])\n",
        "target_occ=list(target_occ)\n",
        "target=pd.DataFrame({'target_occ': target_occ})\n",
        "len(target)\n",
        "# we target 558 occupations."
      ],
      "execution_count": 26,
      "outputs": [
        {
          "output_type": "execute_result",
          "data": {
            "text/plain": [
              "558"
            ]
          },
          "metadata": {
            "tags": []
          },
          "execution_count": 26
        }
      ]
    },
    {
      "metadata": {
        "id": "k6rLO1XWeu6n",
        "colab_type": "text"
      },
      "cell_type": "markdown",
      "source": [
        "### Drop the columns in the oes.csv that contains duplicated or redundant data."
      ]
    },
    {
      "metadata": {
        "id": "LmSKkbK8fJon",
        "colab_type": "code",
        "colab": {
          "base_uri": "https://localhost:8080/",
          "height": 34
        },
        "outputId": "c6114f66-a386-429b-e9f1-13d45cac46d0"
      },
      "cell_type": "code",
      "source": [
        "del_occ_endwith_00_and_in_Onet.columns\n",
        "#drop the colomuns that contain duplicate information\n",
        "del_duplicated_column=del_occ_endwith_00_and_in_Onet.drop(['title_code','occ_title_code', 'occ_title_mid', 'year.1', 'naics.1', 'naics_title.1', 'occ_code.1', 'occ_title.1', 'group', 'naics_codedescription', 'year-naics-occ_code', 'year-naics-occ_code.1','year.2', 'naics.2', 'naics_title.2', 'occ_code.2', 'title_code.1', 'dominant_lifecycle.1', 'occ_title.2', 'occ_title_code.1', 'occ_title_mid.1','group.1', 'naics_codedescription.1', 'keepsy'],axis=1)\n",
        "# the columns # decrease to 37 from 61\n",
        "del_duplicated_column.shape"
      ],
      "execution_count": 27,
      "outputs": [
        {
          "output_type": "execute_result",
          "data": {
            "text/plain": [
              "(22026, 37)"
            ]
          },
          "metadata": {
            "tags": []
          },
          "execution_count": 27
        }
      ]
    },
    {
      "metadata": {
        "id": "j0QACoI1gpG3",
        "colab_type": "text"
      },
      "cell_type": "markdown",
      "source": [
        "## Call OES data by 6-digit occupation code"
      ]
    },
    {
      "metadata": {
        "id": "zK-dVy5ShHTW",
        "colab_type": "code",
        "colab": {
          "base_uri": "https://localhost:8080/",
          "height": 142
        },
        "outputId": "691aeae4-e9e9-4ec4-a5cc-516278f6b57a"
      },
      "cell_type": "code",
      "source": [
        "# try to extract data by occ_code \n",
        "dx = del_duplicated_column[del_duplicated_column['occ_code'] == '11-1011']\n",
        "dx[['year','naics_title', 'tot_emp_num']].head(3)"
      ],
      "execution_count": 28,
      "outputs": [
        {
          "output_type": "execute_result",
          "data": {
            "text/html": [
              "<div>\n",
              "<style scoped>\n",
              "    .dataframe tbody tr th:only-of-type {\n",
              "        vertical-align: middle;\n",
              "    }\n",
              "\n",
              "    .dataframe tbody tr th {\n",
              "        vertical-align: top;\n",
              "    }\n",
              "\n",
              "    .dataframe thead th {\n",
              "        text-align: right;\n",
              "    }\n",
              "</style>\n",
              "<table border=\"1\" class=\"dataframe\">\n",
              "  <thead>\n",
              "    <tr style=\"text-align: right;\">\n",
              "      <th></th>\n",
              "      <th>year</th>\n",
              "      <th>naics_title</th>\n",
              "      <th>tot_emp_num</th>\n",
              "    </tr>\n",
              "  </thead>\n",
              "  <tbody>\n",
              "    <tr>\n",
              "      <th>2</th>\n",
              "      <td>2007</td>\n",
              "      <td>Residential Building Construction</td>\n",
              "      <td>2700.0</td>\n",
              "    </tr>\n",
              "    <tr>\n",
              "      <th>203</th>\n",
              "      <td>2007</td>\n",
              "      <td>Nonresidential Building Construction</td>\n",
              "      <td>3580.0</td>\n",
              "    </tr>\n",
              "    <tr>\n",
              "      <th>405</th>\n",
              "      <td>2007</td>\n",
              "      <td>Land Subdivision</td>\n",
              "      <td>550.0</td>\n",
              "    </tr>\n",
              "  </tbody>\n",
              "</table>\n",
              "</div>"
            ],
            "text/plain": [
              "     year                           naics_title  tot_emp_num\n",
              "2    2007     Residential Building Construction       2700.0\n",
              "203  2007  Nonresidential Building Construction       3580.0\n",
              "405  2007                      Land Subdivision        550.0"
            ]
          },
          "metadata": {
            "tags": []
          },
          "execution_count": 28
        }
      ]
    },
    {
      "metadata": {
        "id": "8S8H1sX4hOnm",
        "colab_type": "code",
        "colab": {}
      },
      "cell_type": "code",
      "source": [
        "# assign the matrix of \"year\" and \"naics_code\" to a specific occ_code, call it 'labour_economy_data'\n",
        "# first, create a function that generate the lb_econ_matrix for an occ_code\n",
        "def lb_econ (occ_code,field,data):\n",
        "    # this function yield a data frame for a given occ_code and a field\n",
        "    # get all unique naics titles in the data\n",
        "    feature_list = data['naics_title'].unique()\n",
        "    # get all unique year in the data\n",
        "    years = sorted(data['year'].unique())    \n",
        "    mt_result = pd.DataFrame(0.00, index = years, columns = feature_list)   \n",
        "    # filter out all rows and columns that have the given occ_code and fields\n",
        "    df_occ = data[data['occ_code'] == occ_code][['year','naics_title', field]]\n",
        "    for index, row in df_occ.iterrows():\n",
        "        try:\n",
        "            mt_result.loc[row['year']][row['naics_title']] = float(row[field])\n",
        "        except:\n",
        "            mt_result.loc[row['year']][row['naics_title']] = np.nan\n",
        "    return mt_result.round(2)\n"
      ],
      "execution_count": 0,
      "outputs": []
    },
    {
      "metadata": {
        "id": "7JNwpGFQhdRp",
        "colab_type": "code",
        "colab": {
          "base_uri": "https://localhost:8080/",
          "height": 272
        },
        "outputId": "d82a62c5-922e-40f2-a55c-0cf12f1fa3b2"
      },
      "cell_type": "code",
      "source": [
        "# An example of how to use the function\n",
        "data1=del_duplicated_column\n",
        "# the lb_Econ_features contains all the fields' name that we can choose from, there're 17 all together.\n",
        "lb_econ_features=['occ_code','tot_emp_num', 'emp_prse', 'pct_total', 'pct_rpt', 'h_mean', 'a_mean', 'mean_prse', 'h_pct10', 'h_pct25', 'h_median', 'h_pct75', 'h_pct90', 'a_pct10', 'a_pct25', 'a_median_num', 'a_pct75', 'a_pct90']\n",
        "#try to input a field name called 'tot_emp_num'\n",
        "aa=lb_econ ('11-1011','tot_emp_num',data1)\n",
        "aa.head()"
      ],
      "execution_count": 31,
      "outputs": [
        {
          "output_type": "execute_result",
          "data": {
            "text/html": [
              "<div>\n",
              "<style scoped>\n",
              "    .dataframe tbody tr th:only-of-type {\n",
              "        vertical-align: middle;\n",
              "    }\n",
              "\n",
              "    .dataframe tbody tr th {\n",
              "        vertical-align: top;\n",
              "    }\n",
              "\n",
              "    .dataframe thead th {\n",
              "        text-align: right;\n",
              "    }\n",
              "</style>\n",
              "<table border=\"1\" class=\"dataframe\">\n",
              "  <thead>\n",
              "    <tr style=\"text-align: right;\">\n",
              "      <th></th>\n",
              "      <th>Residential Building Construction</th>\n",
              "      <th>Nonresidential Building Construction</th>\n",
              "      <th>Land Subdivision</th>\n",
              "      <th>Foundation, Structure, and Building Exterior Contractors</th>\n",
              "      <th>Building Equipment Contractors</th>\n",
              "      <th>Building Finishing Contractors</th>\n",
              "      <th>Other Specialty Trade Contractors</th>\n",
              "      <th>Lessors of Real Estate</th>\n",
              "      <th>Offices of Real Estate Agents and Brokers</th>\n",
              "      <th>Activities Related to Real Estate</th>\n",
              "      <th>Architectural, Engineering, and Related Services</th>\n",
              "      <th>Specialized Design Services</th>\n",
              "      <th>Services to Buildings and Dwellings</th>\n",
              "    </tr>\n",
              "  </thead>\n",
              "  <tbody>\n",
              "    <tr>\n",
              "      <th>2007</th>\n",
              "      <td>2700.0</td>\n",
              "      <td>3580.0</td>\n",
              "      <td>550.0</td>\n",
              "      <td>1780.0</td>\n",
              "      <td>5170.0</td>\n",
              "      <td>1420.0</td>\n",
              "      <td>1580.0</td>\n",
              "      <td>930.0</td>\n",
              "      <td>910.0</td>\n",
              "      <td>1470.0</td>\n",
              "      <td>6280.0</td>\n",
              "      <td>710.0</td>\n",
              "      <td>2300.0</td>\n",
              "    </tr>\n",
              "    <tr>\n",
              "      <th>2008</th>\n",
              "      <td>2380.0</td>\n",
              "      <td>3900.0</td>\n",
              "      <td>460.0</td>\n",
              "      <td>1780.0</td>\n",
              "      <td>4850.0</td>\n",
              "      <td>1400.0</td>\n",
              "      <td>1530.0</td>\n",
              "      <td>970.0</td>\n",
              "      <td>810.0</td>\n",
              "      <td>1590.0</td>\n",
              "      <td>5800.0</td>\n",
              "      <td>610.0</td>\n",
              "      <td>2220.0</td>\n",
              "    </tr>\n",
              "    <tr>\n",
              "      <th>2009</th>\n",
              "      <td>1780.0</td>\n",
              "      <td>3730.0</td>\n",
              "      <td>490.0</td>\n",
              "      <td>1690.0</td>\n",
              "      <td>4750.0</td>\n",
              "      <td>1190.0</td>\n",
              "      <td>1400.0</td>\n",
              "      <td>920.0</td>\n",
              "      <td>690.0</td>\n",
              "      <td>1600.0</td>\n",
              "      <td>5670.0</td>\n",
              "      <td>590.0</td>\n",
              "      <td>2140.0</td>\n",
              "    </tr>\n",
              "    <tr>\n",
              "      <th>2010</th>\n",
              "      <td>1320.0</td>\n",
              "      <td>3030.0</td>\n",
              "      <td>410.0</td>\n",
              "      <td>1430.0</td>\n",
              "      <td>3980.0</td>\n",
              "      <td>1010.0</td>\n",
              "      <td>1040.0</td>\n",
              "      <td>1010.0</td>\n",
              "      <td>550.0</td>\n",
              "      <td>1550.0</td>\n",
              "      <td>5050.0</td>\n",
              "      <td>400.0</td>\n",
              "      <td>1700.0</td>\n",
              "    </tr>\n",
              "    <tr>\n",
              "      <th>2011</th>\n",
              "      <td>1080.0</td>\n",
              "      <td>2780.0</td>\n",
              "      <td>400.0</td>\n",
              "      <td>1400.0</td>\n",
              "      <td>4150.0</td>\n",
              "      <td>890.0</td>\n",
              "      <td>910.0</td>\n",
              "      <td>990.0</td>\n",
              "      <td>530.0</td>\n",
              "      <td>1410.0</td>\n",
              "      <td>4870.0</td>\n",
              "      <td>420.0</td>\n",
              "      <td>1590.0</td>\n",
              "    </tr>\n",
              "  </tbody>\n",
              "</table>\n",
              "</div>"
            ],
            "text/plain": [
              "      Residential Building Construction  Nonresidential Building Construction  \\\n",
              "2007                             2700.0                                3580.0   \n",
              "2008                             2380.0                                3900.0   \n",
              "2009                             1780.0                                3730.0   \n",
              "2010                             1320.0                                3030.0   \n",
              "2011                             1080.0                                2780.0   \n",
              "\n",
              "      Land Subdivision  \\\n",
              "2007             550.0   \n",
              "2008             460.0   \n",
              "2009             490.0   \n",
              "2010             410.0   \n",
              "2011             400.0   \n",
              "\n",
              "      Foundation, Structure, and Building Exterior Contractors  \\\n",
              "2007                                             1780.0          \n",
              "2008                                             1780.0          \n",
              "2009                                             1690.0          \n",
              "2010                                             1430.0          \n",
              "2011                                             1400.0          \n",
              "\n",
              "      Building Equipment Contractors  Building Finishing Contractors  \\\n",
              "2007                          5170.0                          1420.0   \n",
              "2008                          4850.0                          1400.0   \n",
              "2009                          4750.0                          1190.0   \n",
              "2010                          3980.0                          1010.0   \n",
              "2011                          4150.0                           890.0   \n",
              "\n",
              "      Other Specialty Trade Contractors  Lessors of Real Estate  \\\n",
              "2007                             1580.0                   930.0   \n",
              "2008                             1530.0                   970.0   \n",
              "2009                             1400.0                   920.0   \n",
              "2010                             1040.0                  1010.0   \n",
              "2011                              910.0                   990.0   \n",
              "\n",
              "      Offices of Real Estate Agents and Brokers  \\\n",
              "2007                                      910.0   \n",
              "2008                                      810.0   \n",
              "2009                                      690.0   \n",
              "2010                                      550.0   \n",
              "2011                                      530.0   \n",
              "\n",
              "      Activities Related to Real Estate  \\\n",
              "2007                             1470.0   \n",
              "2008                             1590.0   \n",
              "2009                             1600.0   \n",
              "2010                             1550.0   \n",
              "2011                             1410.0   \n",
              "\n",
              "      Architectural, Engineering, and Related Services  \\\n",
              "2007                                            6280.0   \n",
              "2008                                            5800.0   \n",
              "2009                                            5670.0   \n",
              "2010                                            5050.0   \n",
              "2011                                            4870.0   \n",
              "\n",
              "      Specialized Design Services  Services to Buildings and Dwellings  \n",
              "2007                        710.0                               2300.0  \n",
              "2008                        610.0                               2220.0  \n",
              "2009                        590.0                               2140.0  \n",
              "2010                        400.0                               1700.0  \n",
              "2011                        420.0                               1590.0  "
            ]
          },
          "metadata": {
            "tags": []
          },
          "execution_count": 31
        }
      ]
    },
    {
      "metadata": {
        "id": "gcJHcg70dnSg",
        "colab_type": "text"
      },
      "cell_type": "markdown",
      "source": [
        ""
      ]
    }
  ]
}