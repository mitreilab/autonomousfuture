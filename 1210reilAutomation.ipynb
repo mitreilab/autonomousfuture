{
  "nbformat": 4,
  "nbformat_minor": 0,
  "metadata": {
    "colab": {
      "name": "1210reilAutomation.ipynb",
      "version": "0.3.2",
      "provenance": [],
      "collapsed_sections": [
        "wEAKnMja1sHx",
        "SaW5pHN8D0E2"
      ],
      "toc_visible": true,
      "include_colab_link": true
    },
    "kernelspec": {
      "name": "python3",
      "display_name": "Python 3"
    },
    "accelerator": "GPU"
  },
  "cells": [
    {
      "cell_type": "markdown",
      "metadata": {
        "id": "view-in-github",
        "colab_type": "text"
      },
      "source": [
        "<a href=\"https://colab.research.google.com/github/mitreilab/autonomousfuture/blob/master/1210reilAutomation.ipynb\" target=\"_parent\"><img src=\"https://colab.research.google.com/assets/colab-badge.svg\" alt=\"Open In Colab\"/></a>"
      ]
    },
    {
      "metadata": {
        "id": "wEAKnMja1sHx",
        "colab_type": "text"
      },
      "cell_type": "markdown",
      "source": [
        "## Import OES Data"
      ]
    },
    {
      "metadata": {
        "id": "8xQ0hltz1zjV",
        "colab_type": "code",
        "colab": {}
      },
      "cell_type": "code",
      "source": [
        "import numpy as np\n",
        "import pandas as pd\n",
        "import matplotlib\n",
        "import matplotlib.pyplot as pp\n",
        "!wget \"https://www.dropbox.com/s/t4444pduqc7rtgs/recentyears.csv?dl=0\" -q -O \"recent.csv\" \n",
        "!wget \"https://www.dropbox.com/s/6gglwj5jedmfvhi/oldyears.csv?dl=0\" -q -O \"old.csv\" \n",
        "#Download raw csv file from Dropbox and rename to \"rawdatanaics.csv\"\n",
        "new = pd.read_csv(\"recent.csv\",low_memory=False)\n",
        "old=pd.read_csv(\"old.csv\",low_memory=False)\n"
      ],
      "execution_count": 0,
      "outputs": []
    },
    {
      "metadata": {
        "id": "SaW5pHN8D0E2",
        "colab_type": "text"
      },
      "cell_type": "markdown",
      "source": [
        "## Import ONet Data ##"
      ]
    },
    {
      "metadata": {
        "id": "P0atFUe0D2JX",
        "colab_type": "code",
        "outputId": "dd4f6e3f-1805-4251-acfc-9369dac5ece4",
        "colab": {
          "base_uri": "https://localhost:8080/",
          "height": 34
        }
      },
      "cell_type": "code",
      "source": [
        "!wget \"https://www.dropbox.com/s/5cjlzvxqtoq5mm4/combined.sqlite?dl=0\" -q -O  \"onet.sqlite\"  \n",
        "#Download raw SQLite file from Dropbox and rename to \"onet.sqlite\"\n",
        "import sqlite3\n",
        "onetConnection = sqlite3.connect('onet.sqlite')\n",
        "cur = onetConnection.cursor()\n",
        "query = \"SELECT * FROM occupation_data\";\n",
        "occdata = pd.read_sql_query(query, onetConnection)\n",
        "len(occdata)\n",
        "# Onet surveyed 1109 occupations.\n"
      ],
      "execution_count": 2,
      "outputs": [
        {
          "output_type": "execute_result",
          "data": {
            "text/plain": [
              "1109"
            ]
          },
          "metadata": {
            "tags": []
          },
          "execution_count": 2
        }
      ]
    },
    {
      "metadata": {
        "id": "R7b1aU2rark-",
        "colab_type": "code",
        "colab": {}
      },
      "cell_type": "code",
      "source": [
        "#Download the CSV files that we need for Autor Method\n",
        "!wget \"https://www.dropbox.com/s/pnvz35bcthloy6n/Abilities.csv?dl=0\" -q -O \"Abilities.csv\" \n",
        "Abilities=pd.read_csv(\"Abilities.csv\",low_memory=False)\n",
        "!wget \"https://www.dropbox.com/s/5btim1otk24j05d/Skills.csv?dl=0\" -q -O \"Skills.csv\" \n",
        "Skills=pd.read_csv(\"Skills.csv\",low_memory=False)\n",
        "!wget \"https://www.dropbox.com/s/9ajd56nnhlrfo2m/Task%20Statements.csv?dl=0\" -q -O \"Task Statements.csv\" \n",
        "Tasks = pd.read_csv(\"Task Statements.csv\",low_memory=False)\n",
        "!wget \"https://www.dropbox.com/s/9ez75cfcojjpyur/Work%20Activities.csv?dl=0\" -q -O \"Work Activities.csv\" \n",
        "Activities = pd.read_csv(\"Work Activities.csv\",low_memory=False)\n"
      ],
      "execution_count": 0,
      "outputs": []
    },
    {
      "metadata": {
        "id": "7Z35kElLdrlP",
        "colab_type": "text"
      },
      "cell_type": "markdown",
      "source": [
        "## OES Data cleaning"
      ]
    },
    {
      "metadata": {
        "id": "q_N-45psJbRe",
        "colab_type": "text"
      },
      "cell_type": "markdown",
      "source": [
        "##Link old occ code with occ code after 2010\n"
      ]
    },
    {
      "metadata": {
        "id": "bZIxrCojJkT2",
        "colab_type": "code",
        "colab": {}
      },
      "cell_type": "code",
      "source": [
        "!wget \"https://www.dropbox.com/s/30fryvdkh5qnk1z/crosswalktable.csv?dl=0\" -q -O \"crosswalk.csv\" \n",
        "match=pd.read_csv(\"crosswalk.csv\",low_memory=False)\n"
      ],
      "execution_count": 0,
      "outputs": []
    },
    {
      "metadata": {
        "id": "dlcwSkzcLH-C",
        "colab_type": "code",
        "colab": {
          "base_uri": "https://localhost:8080/",
          "height": 122
        },
        "outputId": "e5d26c8d-94f4-4540-f545-ee8f6c9c868f"
      },
      "cell_type": "code",
      "source": [
        "old.columns"
      ],
      "execution_count": 9,
      "outputs": [
        {
          "output_type": "execute_result",
          "data": {
            "text/plain": [
              "Index(['year', 'naics', 'naics_title', 'occ_code', 'occ_title', 'group',\n",
              "       'tot_emp_num', 'emp_prse', 'pct_total', 'pct_rpt', 'h_mean', 'a_mean',\n",
              "       'mean_prse', 'h_pct10', 'h_pct25', 'h_median', 'h_pct75', 'h_pct90',\n",
              "       'a_pct10', 'a_pct25', 'a_median_num', 'a_pct75', 'a_pct90',\n",
              "       'naics_codedescription', 'occ_code-title', 'detailed'],\n",
              "      dtype='object')"
            ]
          },
          "metadata": {
            "tags": []
          },
          "execution_count": 9
        }
      ]
    },
    {
      "metadata": {
        "id": "rNKUQWbdL0Rz",
        "colab_type": "code",
        "outputId": "bad441af-c791-4b5a-d421-471050c8cbf4",
        "colab": {
          "base_uri": "https://localhost:8080/",
          "height": 34
        }
      },
      "cell_type": "code",
      "source": [
        "# Build a dictionary for old code to be transformed into new\n",
        "oldlist=match['2000 SOC code'].tolist()\n",
        "newlist=match['2010 SOC code'].tolist()\n",
        "keys = oldlist\n",
        "values = newlist\n",
        "matchbook= dict(zip(keys, values))\n",
        "matchbook[113041]"
      ],
      "execution_count": 10,
      "outputs": [
        {
          "output_type": "execute_result",
          "data": {
            "text/plain": [
              "113111"
            ]
          },
          "metadata": {
            "tags": []
          },
          "execution_count": 10
        }
      ]
    },
    {
      "metadata": {
        "id": "Y1Edy573ZtoB",
        "colab_type": "code",
        "outputId": "e739609a-4c39-4d24-b1a4-efe60daf1361",
        "colab": {
          "base_uri": "https://localhost:8080/",
          "height": 34
        }
      },
      "cell_type": "code",
      "source": [
        "tobecorrect=old['occ_code'].tolist()\n",
        "len(tobecorrect)"
      ],
      "execution_count": 11,
      "outputs": [
        {
          "output_type": "execute_result",
          "data": {
            "text/plain": [
              "7166"
            ]
          },
          "metadata": {
            "tags": []
          },
          "execution_count": 11
        }
      ]
    },
    {
      "metadata": {
        "id": "H_FMVwEUXNkl",
        "colab_type": "code",
        "colab": {}
      },
      "cell_type": "code",
      "source": [
        "for i in range(len(tobecorrect)):\n",
        "  oldcode=tobecorrect[i]\n",
        "  try:\n",
        "    temp=matchbook[oldcode]\n",
        "    tobecorrect[i]=temp\n",
        "  except:\n",
        "    continue\n",
        "correctcode= tobecorrect   \n",
        "  \n"
      ],
      "execution_count": 0,
      "outputs": []
    },
    {
      "metadata": {
        "id": "BVfN5pxoL0Kj",
        "colab_type": "code",
        "colab": {}
      },
      "cell_type": "code",
      "source": [
        "\n",
        "correctcode=pd.DataFrame(correctcode)\n"
      ],
      "execution_count": 0,
      "outputs": []
    },
    {
      "metadata": {
        "id": "VaW1nUmmL0C7",
        "colab_type": "code",
        "colab": {}
      },
      "cell_type": "code",
      "source": [
        "old['occ_code']=correctcode"
      ],
      "execution_count": 0,
      "outputs": []
    },
    {
      "metadata": {
        "id": "MPJ0o4o0Lz2s",
        "colab_type": "code",
        "colab": {}
      },
      "cell_type": "code",
      "source": [
        "old.reset_index(drop=True, inplace=True)\n",
        "new.reset_index(drop=True, inplace=True)\n",
        "result = pd.concat([old,new])"
      ],
      "execution_count": 0,
      "outputs": []
    },
    {
      "metadata": {
        "id": "srJ2w8tDeQ-B",
        "colab_type": "code",
        "outputId": "947773c3-a54a-445f-c796-2f046a4348e2",
        "colab": {
          "base_uri": "https://localhost:8080/",
          "height": 34
        }
      },
      "cell_type": "code",
      "source": [
        "old.shape"
      ],
      "execution_count": 17,
      "outputs": [
        {
          "output_type": "execute_result",
          "data": {
            "text/plain": [
              "(7166, 26)"
            ]
          },
          "metadata": {
            "tags": []
          },
          "execution_count": 17
        }
      ]
    },
    {
      "metadata": {
        "id": "9eudO3HIeZCT",
        "colab_type": "code",
        "outputId": "17dc1ee4-8673-4072-f1d1-01004b0b49a6",
        "colab": {
          "base_uri": "https://localhost:8080/",
          "height": 34
        }
      },
      "cell_type": "code",
      "source": [
        "new.shape"
      ],
      "execution_count": 18,
      "outputs": [
        {
          "output_type": "execute_result",
          "data": {
            "text/plain": [
              "(15628, 26)"
            ]
          },
          "metadata": {
            "tags": []
          },
          "execution_count": 18
        }
      ]
    },
    {
      "metadata": {
        "id": "X5NbE-AWgkwq",
        "colab_type": "code",
        "colab": {}
      },
      "cell_type": "code",
      "source": [
        "result.reset_index(drop=True, inplace=True)"
      ],
      "execution_count": 0,
      "outputs": []
    },
    {
      "metadata": {
        "id": "9l_XrJRDgkq3",
        "colab_type": "code",
        "outputId": "a905396d-62ac-4efe-c9bd-16f02b671d77",
        "colab": {
          "base_uri": "https://localhost:8080/",
          "height": 34
        }
      },
      "cell_type": "code",
      "source": [
        "len(newlist)\n",
        "# There are 792  detailed ocupations in total in US"
      ],
      "execution_count": 20,
      "outputs": [
        {
          "output_type": "execute_result",
          "data": {
            "text/plain": [
              "792"
            ]
          },
          "metadata": {
            "tags": []
          },
          "execution_count": 20
        }
      ]
    },
    {
      "metadata": {
        "id": "hWfYzmWqgklT",
        "colab_type": "code",
        "outputId": "caaa3c7e-ba77-423c-8b3d-1f9044b016a2",
        "colab": {
          "base_uri": "https://localhost:8080/",
          "height": 34
        }
      },
      "cell_type": "code",
      "source": [
        "df=result[result['occ_code'].isin(newlist)]\n",
        "df.shape\n",
        "# Now we finishe building the OLS dabatase for the 13 Real Estate NAICS\n",
        "\n"
      ],
      "execution_count": 23,
      "outputs": [
        {
          "output_type": "execute_result",
          "data": {
            "text/plain": [
              "(21264, 26)"
            ]
          },
          "metadata": {
            "tags": []
          },
          "execution_count": 23
        }
      ]
    },
    {
      "metadata": {
        "id": "y-TphPoLgjvi",
        "colab_type": "code",
        "outputId": "fc437988-b1d1-4d7d-9c01-df9a8aa50949",
        "colab": {
          "base_uri": "https://localhost:8080/",
          "height": 34
        }
      },
      "cell_type": "code",
      "source": [
        "# After we choose 13 industries (using 4_digit NAISC)\n",
        "# We have 528 detailed occupations\n",
        "targetlist=df['occ_code'].unique()\n",
        "len(targetlist)"
      ],
      "execution_count": 24,
      "outputs": [
        {
          "output_type": "execute_result",
          "data": {
            "text/plain": [
              "528"
            ]
          },
          "metadata": {
            "tags": []
          },
          "execution_count": 24
        }
      ]
    },
    {
      "metadata": {
        "id": "eGKLo1f7gjny",
        "colab_type": "code",
        "colab": {}
      },
      "cell_type": "code",
      "source": [
        "df.head()"
      ],
      "execution_count": 0,
      "outputs": []
    },
    {
      "metadata": {
        "id": "1sPV6mcpgje4",
        "colab_type": "code",
        "colab": {}
      },
      "cell_type": "code",
      "source": [
        ""
      ],
      "execution_count": 0,
      "outputs": []
    },
    {
      "metadata": {
        "id": "T5WcmXpTZX_L",
        "colab_type": "text"
      },
      "cell_type": "markdown",
      "source": [
        "### Target the occupations that are 1. In Real Estate industry 2. Not General Group 3. Onet has surveyed\n"
      ]
    },
    {
      "metadata": {
        "id": "MpdkLpRlZ9UR",
        "colab_type": "code",
        "colab": {}
      },
      "cell_type": "code",
      "source": [
        "# !wget \"https://www.dropbox.com/s/329edv8yrn3ik25/Occupation%20Data.csv?dl=0\"-q -O  \"Occupation Data.csv\" \n",
        "# occ_onet=pd.read_csv(\"Occupation Data.csv\",low_memory=False)\n",
        "# #Download 'Occupation Data' CSV that changes the 8-digit Onet-code to 6-digit, ommiting the last two digits.\n",
        "# del_occ_endwith_00_and_in_Onet=oes.loc[oes['occ_code'].isin(occ_onet['O*NET-SOC Code'])]\n",
        "# #Delete the occupation if the code is not in 'Occupation Data'\n",
        "# del_occ_endwith_00_and_in_Onet.shape"
      ],
      "execution_count": 0,
      "outputs": []
    },
    {
      "metadata": {
        "id": "NGLAv20Bd5qR",
        "colab_type": "code",
        "colab": {}
      },
      "cell_type": "code",
      "source": [
        "# target_occ=set(del_occ_endwith_00_and_in_Onet['occ_code'])\n",
        "# target_occ=list(target_occ)\n",
        "# target=pd.DataFrame({'target_occ': target_occ})\n",
        "# len(target)\n",
        "# # we target 558 occupations."
      ],
      "execution_count": 0,
      "outputs": []
    },
    {
      "metadata": {
        "id": "k6rLO1XWeu6n",
        "colab_type": "text"
      },
      "cell_type": "markdown",
      "source": [
        "### Drop the columns in the oes.csv that contains duplicated or redundant data."
      ]
    },
    {
      "metadata": {
        "id": "LmSKkbK8fJon",
        "colab_type": "code",
        "colab": {}
      },
      "cell_type": "code",
      "source": [
        "# del_occ_endwith_00_and_in_Onet.columns\n",
        "# #drop the colomuns that contain duplicate information\n",
        "# del_duplicated_column=del_occ_endwith_00_and_in_Onet.drop(['title_code','occ_title_code', 'occ_title_mid', 'year.1', 'naics.1', 'naics_title.1', 'occ_code.1', 'occ_title.1', 'group', 'naics_codedescription', 'year-naics-occ_code', 'year-naics-occ_code.1','year.2', 'naics.2', 'naics_title.2', 'occ_code.2', 'title_code.1', 'dominant_lifecycle.1', 'occ_title.2', 'occ_title_code.1', 'occ_title_mid.1','group.1', 'naics_codedescription.1', 'keepsy'],axis=1)\n",
        "# # the columns # decrease to 37 from 61\n",
        "# del_duplicated_column.shape"
      ],
      "execution_count": 0,
      "outputs": []
    },
    {
      "metadata": {
        "id": "j0QACoI1gpG3",
        "colab_type": "text"
      },
      "cell_type": "markdown",
      "source": [
        "## Call BLS data by 6-digit occupation code"
      ]
    },
    {
      "metadata": {
        "id": "zK-dVy5ShHTW",
        "colab_type": "code",
        "colab": {}
      },
      "cell_type": "code",
      "source": [
        "# try to extract data by occ_code \n",
        "# dx = del_duplicated_column[del_duplicated_column['occ_code'] == '11-1011']\n",
        "# dx[['year','naics_title', 'tot_emp_num']].head(3)"
      ],
      "execution_count": 0,
      "outputs": []
    },
    {
      "metadata": {
        "id": "8S8H1sX4hOnm",
        "colab_type": "code",
        "colab": {}
      },
      "cell_type": "code",
      "source": [
        "# assign the matrix of \"year\" and \"naics_code\" to a specific occ_code, call it 'labour_economy_data'\n",
        "# first, create a function that generate the lb_econ_matrix for an occ_code\n",
        "def lb_econ (occ_code,field,data):\n",
        "    # this function yield a data frame for a given occ_code and a field\n",
        "    # get all unique naics titles in the data\n",
        "    feature_list = data['naics'].unique()\n",
        "    # get all unique year in the data\n",
        "    years = sorted(data['year'].unique())    \n",
        "    mt_result = pd.DataFrame(0.00, index = years, columns = feature_list)   \n",
        "    # filter out all rows and columns that have the given occ_code and fields\n",
        "    df_occ = data[data['occ_code'] == occ_code][['year','naics_title', field]]\n",
        "    for index, row in df_occ.iterrows():\n",
        "        try:\n",
        "            mt_result.loc[row['year']][row['naics_title']] = float(row[field])\n",
        "        except:\n",
        "            mt_result.loc[row['year']][row['naics_title']] = np.nan\n",
        "    return mt_result.round(2)\n"
      ],
      "execution_count": 0,
      "outputs": []
    },
    {
      "metadata": {
        "id": "7JNwpGFQhdRp",
        "colab_type": "code",
        "colab": {}
      },
      "cell_type": "code",
      "source": [
        "# An example of how to use the function\n",
        "# data1=del_duplicated_column\n",
        "# # the lb_Econ_features contains all the fields' name that we can choose from, there're 17 all together.\n",
        "# lb_econ_features=['occ_code','tot_emp_num', 'emp_prse', 'pct_total', 'pct_rpt', 'h_mean', 'a_mean', 'mean_prse', 'h_pct10', 'h_pct25', 'h_median', 'h_pct75', 'h_pct90', 'a_pct10', 'a_pct25', 'a_median_num', 'a_pct75', 'a_pct90']\n",
        "# #try to input a field name called 'tot_emp_num'\n",
        "# aa=lb_econ (111011,'tot_emp_num',df)\n",
        "# aa.head()"
      ],
      "execution_count": 0,
      "outputs": []
    },
    {
      "metadata": {
        "id": "gcJHcg70dnSg",
        "colab_type": "text"
      },
      "cell_type": "markdown",
      "source": [
        ""
      ]
    },
    {
      "metadata": {
        "id": "SDFwgywni3Bh",
        "colab_type": "code",
        "outputId": "1837e415-f202-4951-dde9-daefc96838c3",
        "colab": {
          "base_uri": "https://localhost:8080/",
          "height": 122
        }
      },
      "cell_type": "code",
      "source": [
        "df.columns"
      ],
      "execution_count": 29,
      "outputs": [
        {
          "output_type": "execute_result",
          "data": {
            "text/plain": [
              "Index(['year', 'naics', 'naics_title', 'occ_code', 'occ_title', 'group',\n",
              "       'tot_emp_num', 'emp_prse', 'pct_total', 'pct_rpt', 'h_mean', 'a_mean',\n",
              "       'mean_prse', 'h_pct10', 'h_pct25', 'h_median', 'h_pct75', 'h_pct90',\n",
              "       'a_pct10', 'a_pct25', 'a_median_num', 'a_pct75', 'a_pct90',\n",
              "       'naics_codedescription', 'occ_code-title', 'detailed'],\n",
              "      dtype='object')"
            ]
          },
          "metadata": {
            "tags": []
          },
          "execution_count": 29
        }
      ]
    },
    {
      "metadata": {
        "id": "RUqI754ecqcZ",
        "colab_type": "text"
      },
      "cell_type": "markdown",
      "source": [
        "# Object Oriented Programming (OOP)"
      ]
    },
    {
      "metadata": {
        "id": "XelbsrqgcwLP",
        "colab_type": "code",
        "colab": {}
      },
      "cell_type": "code",
      "source": [
        "# laborfeature include:'tot_emp_num', 'emp_prse', 'pct_total', 'pct_rpt', 'h_mean', 'a_mean',\n",
        "#        'mean_prse', 'h_pct10', 'h_pct25', 'h_median', 'h_pct75', 'h_pct90',\n",
        "#        'a_pct10', 'a_pct25', 'a_median_num', 'a_pct75', 'a_pct90',\n",
        "#        'naics_codedescription'\n",
        "# year include: 2007 to 2016\n",
        "# industry include:\n",
        "# 'Residential Building Construction',\n",
        "# 'Nonresidential Building Construction',\n",
        "# 'Land Subdivision',\n",
        "# 'Foundation, Structure, and Building Exterior Contractors',\n",
        "# 'Building Equipment Contractors',\n",
        "# 'Building Finishing Contractors',\n",
        "# 'Other Specialty Trade Contractors',\n",
        "# 'Lessors of Real Estate',\n",
        "# 'Offices of Real Estate Agents and Brokers',\n",
        "# 'Activities Related to Real Estate',\n",
        "# 'Architectural, Engineering, and Related Services',\n",
        "# 'Specialized Design Services',\n",
        "# 'Services to Buildings and Dwellings',\n",
        "      \n",
        "class occ(object):\n",
        "  # add attributes to occ\n",
        "  def __init__(self,code,title,year,industry,industrycode,name,negotiation,math,GDM,finger,manual):\n",
        "    self.code=code\n",
        "    self.title=title\n",
        "    self.year=year  \n",
        "    self.industry=industry\n",
        "    self.industrycode=industrycode\n",
        "    self.name=name\n",
        "    self.negotiation=negotiation\n",
        "    self.math=math\n",
        "    self.GDM=GDM\n",
        "    self.finger=finger\n",
        "    self.manual=manual\n",
        "\n",
        "#     yearemp,\n",
        "#               emp_prse, pct_total, pct_rpt, h_mean, a_mean,\n",
        "#        mean_prse, h_pct10, h_pct25, h_median, h_pct75, h_pct90,\n",
        "#        a_pct10, a_pct25, a_median_num, a_pct75, a_pct90,\n",
        "#       naics_codedescription,tasks,abilities,knowledge,skills,work_activities\n",
        "#     self.yearemp=yearemp\n",
        "#     self.emp_prse=emp_prse\n",
        "#     self.pct_total=pct_total\n",
        "#     self.pct_rpt=pct_rpt\n",
        "#     self.h_mean=h_mean\n",
        "#     self.a_mean=a.mean\n",
        "#     self.mean_prse=mean_prse\n",
        "#     self.h_pct10=h_pct10\n",
        "#     self.h_pct25=h_pct25\n",
        "#     self.h_median=h_median\n",
        "#     self.h_pct75=h_pct75\n",
        "#     self.h_pct90=h_pct90\n",
        "#     self.a_pct10=a_pct10\n",
        "#     self.a_pct25=a_pct25\n",
        "#     self.a_median_num=a_median_num\n",
        "#     self.a_pct75=a_pct75\n",
        "#     self.a_pct90=a_pct90\n",
        "#     self.naics_codedescription=naics_codedescription\n",
        "#     self.laborfeature=laborfeature\n",
        "#     self.task=tasks\n",
        "#     self.abilities=abilities\n",
        "#     self.knowledge=knowledge\n",
        "#     self.skills=skills\n",
        "#     self.work_activities=work_activities\n",
        "  def __str__(self):\n",
        "    return str(self.code)+str(self.title)+str(self.year)+str(self.industry+str(self.industrycode))\n",
        "#   def__add__(self,other):\n",
        "#     result=self.yearemp+other.yearemp\n",
        "#     return result\n",
        "#   def__eq__(self,other):\n",
        "    \n",
        "  # define methods:\n",
        "  # total employment calculate employment number of each occ in all 13 industries\n",
        "  # inputs for this function should be the 13 occ objects\n",
        "  # with same code,title,year\n",
        "  # with different industry,industry code,13 industries in the same year\n",
        "#   def sumemp(self,other):\n",
        "#     if self.code==other.code and self.year==other.year:\n",
        "#       return self.yearemp+other.yearemp\n",
        "\n"
      ],
      "execution_count": 0,
      "outputs": []
    },
    {
      "metadata": {
        "id": "A1g288EDsUFs",
        "colab_type": "text"
      },
      "cell_type": "markdown",
      "source": [
        "## make all the objects for Real Estate using 13 NAICS (528 times 10 years times 13 industries)\n"
      ]
    },
    {
      "metadata": {
        "id": "9kIbgv20u6Lh",
        "colab_type": "code",
        "outputId": "3cfe28af-5a3f-48dd-aefd-5d8c181ac5d5",
        "colab": {
          "base_uri": "https://localhost:8080/",
          "height": 34
        }
      },
      "cell_type": "code",
      "source": [
        "row=df.iloc[0]\n",
        "type(row[['year','naics']])\n"
      ],
      "execution_count": 31,
      "outputs": [
        {
          "output_type": "execute_result",
          "data": {
            "text/plain": [
              "pandas.core.series.Series"
            ]
          },
          "metadata": {
            "tags": []
          },
          "execution_count": 31
        }
      ]
    },
    {
      "metadata": {
        "id": "EJwHou_PvWZl",
        "colab_type": "code",
        "colab": {}
      },
      "cell_type": "code",
      "source": [
        "# a=occ(row['occ_code'],row['occ_title'],row['year'],row['naics_title'],row['naics'],'name1')\n",
        "# b=occ(row2['occ_code'],row2['occ_title'],row2['year'],row2['naics_title'],row2['naics'],'name2')"
      ],
      "execution_count": 0,
      "outputs": []
    },
    {
      "metadata": {
        "id": "gFAvPJpAvZLw",
        "colab_type": "code",
        "colab": {}
      },
      "cell_type": "code",
      "source": [
        "# newlist.append(a.name)\n",
        "# newlist"
      ],
      "execution_count": 0,
      "outputs": []
    },
    {
      "metadata": {
        "id": "T4uTu7pmrwjE",
        "colab_type": "code",
        "colab": {}
      },
      "cell_type": "code",
      "source": [
        "# there are at most 68640 occ objects in total\n",
        "# now we create them out and name them by 'occ+their occ_code'\n",
        "listofocc=[]\n",
        "all_occ=[]\n",
        "for index, row in df.iterrows():\n",
        "  #create a new object\n",
        "  name=str(row['occ_code'])+str(row['occ_title'])+'in year'+str(row['year'])+'in industry'+str(row['naics'])\n",
        "  temp=occ(row['occ_code'],row['occ_title'],row['year'],row['naics_title'],row['naics'],name)\n",
        "  listofocc.append(temp.name)\n",
        "  all_occ.append(temp)\n",
        "  \n",
        "  "
      ],
      "execution_count": 0,
      "outputs": []
    },
    {
      "metadata": {
        "id": "VaklCKHzlIrM",
        "colab_type": "code",
        "colab": {}
      },
      "cell_type": "code",
      "source": [
        "    # get all unique naics titles in the data\n",
        "    feature_list = data['naics'].unique()\n",
        "    # get all unique year in the data\n",
        "    years = sorted(data['year'].unique())    \n",
        "    mt_result = pd.DataFrame(0.00, index = years, columns = feature_list)   \n",
        "    # filter out all rows and columns that have the given occ_code and fields\n",
        "    df_occ = data[data['occ_code'] == occ_code][['year','naics_title', field]]\n",
        "    for index, row in df_occ.iterrows():\n",
        "        try:\n",
        "            mt_result.loc[row['year']][row['naics_title']] = float(row[field])\n",
        "        except:\n",
        "            mt_result.loc[row['year']][row['naics_title']] = np.nan\n",
        "    return mt_result.round(2)"
      ],
      "execution_count": 0,
      "outputs": []
    },
    {
      "metadata": {
        "id": "JG9TEyq7nSX0",
        "colab_type": "code",
        "colab": {}
      },
      "cell_type": "code",
      "source": [
        "# # Make a list for 2007, negotiation\n",
        "# negotiationlist=[]\n",
        "# for year in range(2007,2017):\n",
        "#   tempsum=0\n",
        "#   for occ in all_occ:\n",
        "#     if occ.year==year:\n",
        "#       employment=manual[occ]['tot_emp_num']\n",
        "#       temp1=Skills.loc[Skills['SOC Code']==occ.code]  \n",
        "#       negotiation_score=temp1.loc[temp1['Element ID']=='2.B.1.d']['Data Value']\n"
      ],
      "execution_count": 0,
      "outputs": []
    },
    {
      "metadata": {
        "id": "yx1oBu1TrWYZ",
        "colab_type": "code",
        "colab": {}
      },
      "cell_type": "code",
      "source": [
        "\n"
      ],
      "execution_count": 0,
      "outputs": []
    },
    {
      "metadata": {
        "id": "3iEao9RlxxX7",
        "colab_type": "code",
        "colab": {}
      },
      "cell_type": "code",
      "source": [
        "occcode=111011\n",
        "cutocc=cutyear.loc[cutyear['occ_code']==occcode]\n",
        "employment=cutocc['tot_emp_num'].sum()\n",
        "temp1=Skills.loc[Skills['SOC Code']==occcode]  \n",
        "score_series=temp1.loc[temp1['Element ID']=='2.B.1.d']['Data Value']"
      ],
      "execution_count": 0,
      "outputs": []
    },
    {
      "metadata": {
        "id": "Vt7hKEVcx9Gp",
        "colab_type": "code",
        "colab": {
          "base_uri": "https://localhost:8080/",
          "height": 34
        },
        "outputId": "c5baffe9-68ac-4cfe-aa00-e1b57eb71ea0"
      },
      "cell_type": "code",
      "source": [
        "float(score_series)"
      ],
      "execution_count": 89,
      "outputs": [
        {
          "output_type": "execute_result",
          "data": {
            "text/plain": [
              "4.62"
            ]
          },
          "metadata": {
            "tags": []
          },
          "execution_count": 89
        }
      ]
    },
    {
      "metadata": {
        "id": "dua5yw7jwqcd",
        "colab_type": "code",
        "colab": {}
      },
      "cell_type": "code",
      "source": [
        "tempsum=0\n",
        "cutyear=df.loc[df['year']==2007]\n",
        "occcode=111011\n",
        "cutocc=cutyear.loc[cutyear['occ_code']==occcode]\n",
        "employment=cutocc['tot_emp_num'].sum()\n",
        "temp1=Skills.loc[Skills['SOC Code']==occcode]  \n",
        "score=float(temp1.loc[temp1['Element ID']=='2.B.1.d']['Data Value']\n",
        "weightedscore=employment*score\n"
      ],
      "execution_count": 0,
      "outputs": []
    },
    {
      "metadata": {
        "id": "1vubYU8OxKvE",
        "colab_type": "code",
        "colab": {
          "base_uri": "https://localhost:8080/",
          "height": 34
        },
        "outputId": "f715de95-7be0-4202-9d1d-a6e5c5e5e432"
      },
      "cell_type": "code",
      "source": [
        "type(weightedscore)"
      ],
      "execution_count": 77,
      "outputs": [
        {
          "output_type": "execute_result",
          "data": {
            "text/plain": [
              "pandas.core.series.Series"
            ]
          },
          "metadata": {
            "tags": []
          },
          "execution_count": 77
        }
      ]
    },
    {
      "metadata": {
        "id": "u2POt35yxQtJ",
        "colab_type": "code",
        "colab": {
          "base_uri": "https://localhost:8080/",
          "height": 34
        },
        "outputId": "f68ad345-186d-4b2e-e29e-685567efa18f"
      },
      "cell_type": "code",
      "source": [
        "float(score)"
      ],
      "execution_count": 83,
      "outputs": [
        {
          "output_type": "execute_result",
          "data": {
            "text/plain": [
              "4.62"
            ]
          },
          "metadata": {
            "tags": []
          },
          "execution_count": 83
        }
      ]
    },
    {
      "metadata": {
        "id": "x6SOB46NuCgv",
        "colab_type": "code",
        "colab": {
          "base_uri": "https://localhost:8080/",
          "height": 34
        },
        "outputId": "523ac525-24e1-4180-d06d-093214283d79"
      },
      "cell_type": "code",
      "source": [
        "len(negotiationlist)"
      ],
      "execution_count": 71,
      "outputs": [
        {
          "output_type": "execute_result",
          "data": {
            "text/plain": [
              "10"
            ]
          },
          "metadata": {
            "tags": []
          },
          "execution_count": 71
        }
      ]
    },
    {
      "metadata": {
        "id": "cyITlRksuTYf",
        "colab_type": "code",
        "colab": {
          "base_uri": "https://localhost:8080/",
          "height": 193
        },
        "outputId": "f22c8f49-b815-4894-e66f-f1640e35331d"
      },
      "cell_type": "code",
      "source": [
        "negotiationlist"
      ],
      "execution_count": 95,
      "outputs": [
        {
          "output_type": "execute_result",
          "data": {
            "text/plain": [
              "[21923192,\n",
              " 21643695,\n",
              " 19831040,\n",
              " 18090637,\n",
              " 18014899,\n",
              " 18335014,\n",
              " 18767207,\n",
              " 19461503,\n",
              " 20162399,\n",
              " 20784521]"
            ]
          },
          "metadata": {
            "tags": []
          },
          "execution_count": 95
        }
      ]
    },
    {
      "metadata": {
        "id": "AEayVlYYoNjW",
        "colab_type": "code",
        "colab": {}
      },
      "cell_type": "code",
      "source": [
        "temp1=Skills.loc[Skills['SOC Code']==111011]\n"
      ],
      "execution_count": 0,
      "outputs": []
    },
    {
      "metadata": {
        "id": "vZb2dM7tofeJ",
        "colab_type": "code",
        "colab": {
          "base_uri": "https://localhost:8080/",
          "height": 52
        },
        "outputId": "6c5ab80f-5877-412a-f92f-0b3da2c52994"
      },
      "cell_type": "code",
      "source": [
        "temp1.loc[temp1['Element ID']=='2.B.1.d']['Data Value']"
      ],
      "execution_count": 61,
      "outputs": [
        {
          "output_type": "execute_result",
          "data": {
            "text/plain": [
              "13    4.62\n",
              "Name: Data Value, dtype: float64"
            ]
          },
          "metadata": {
            "tags": []
          },
          "execution_count": 61
        }
      ]
    },
    {
      "metadata": {
        "id": "oI2xxTp1nk5a",
        "colab_type": "code",
        "colab": {}
      },
      "cell_type": "code",
      "source": [
        " Skills.loc[Skills['SOC Code']=='111011' and ['Element ID']=='2.B.1.d']"
      ],
      "execution_count": 0,
      "outputs": []
    },
    {
      "metadata": {
        "id": "tzmnGqBYkYmC",
        "colab_type": "code",
        "colab": {}
      },
      "cell_type": "code",
      "source": [
        "for occ in all_occ:\n",
        "  temp=Skills[Skills['SOC Code']==occ.code and Skills['Element ID']=='2.B.1.d']\n",
        "  occ.negotiation=\n",
        "\n",
        "for index,row in Abilities.iterrows():\n",
        "  "
      ],
      "execution_count": 0,
      "outputs": []
    },
    {
      "metadata": {
        "id": "TOE2zFdExqkm",
        "colab_type": "code",
        "outputId": "70d10283-d53f-4a3c-a98d-b62a33e325ad",
        "colab": {
          "base_uri": "https://localhost:8080/",
          "height": 34
        }
      },
      "cell_type": "code",
      "source": [
        "# the list containing all the objects names is named as listofocc\n",
        "# the list containing all the objects is named as all_occ\n",
        "len(listofocc)"
      ],
      "execution_count": 34,
      "outputs": [
        {
          "output_type": "execute_result",
          "data": {
            "text/plain": [
              "21264"
            ]
          },
          "metadata": {
            "tags": []
          },
          "execution_count": 34
        }
      ]
    },
    {
      "metadata": {
        "id": "qEMT7tLKy9WD",
        "colab_type": "code",
        "outputId": "1111856e-08ce-4d2e-ca18-9c03212efd1a",
        "colab": {
          "base_uri": "https://localhost:8080/",
          "height": 34
        }
      },
      "cell_type": "code",
      "source": [
        "len(all_occ)"
      ],
      "execution_count": 36,
      "outputs": [
        {
          "output_type": "execute_result",
          "data": {
            "text/plain": [
              "21264"
            ]
          },
          "metadata": {
            "tags": []
          },
          "execution_count": 36
        }
      ]
    },
    {
      "metadata": {
        "id": "0bJqC1Qm1Xp6",
        "colab_type": "code",
        "outputId": "8b5eef85-29b3-4194-a47b-310b35918411",
        "colab": {
          "base_uri": "https://localhost:8080/",
          "height": 36
        }
      },
      "cell_type": "code",
      "source": [
        "all_occ[2].year"
      ],
      "execution_count": 0,
      "outputs": [
        {
          "output_type": "execute_result",
          "data": {
            "text/plain": [
              "2007"
            ]
          },
          "metadata": {
            "tags": []
          },
          "execution_count": 54
        }
      ]
    },
    {
      "metadata": {
        "id": "FQ2JcXFm1u7q",
        "colab_type": "code",
        "colab": {}
      },
      "cell_type": "code",
      "source": [
        "listofocc"
      ],
      "execution_count": 0,
      "outputs": []
    },
    {
      "metadata": {
        "id": "Y5V4PRz5XmhD",
        "colab_type": "text"
      },
      "cell_type": "markdown",
      "source": [
        "## Build the dictionary based on 13 NAISCS of Real Estate"
      ]
    },
    {
      "metadata": {
        "id": "Gya_v48t1RT3",
        "colab_type": "code",
        "colab": {}
      },
      "cell_type": "code",
      "source": [
        "# Build a dictionary where\n",
        "#   -  keys: the occ object\n",
        "# Values : all the labor econ attributes and The O_net attributes\n",
        "\n",
        "\n",
        "keys = all_occ\n",
        "\n",
        "values =[]\n",
        "# # We first define some functions that we need to search values from Onet\n",
        "# # The function to search for tasks for an occpation:\n",
        "# def gettask(occ_code,Tasks):\n",
        "#   for index, row in Tasks.iterrows():\n",
        "#     temp=Tasks[Tasks['occ_code']==occ_code][['Task ID','Task']]\n",
        "#     onetvalue=temp.values.tolist()\n",
        "#   return onetvalue\n",
        "\n",
        "for index, row in df.iterrows():\n",
        "  #create a sublist to be one element of the values list\n",
        "  temp=row[['occ_code','tot_emp_num', 'emp_prse', 'pct_total', 'pct_rpt', 'h_mean', 'a_mean', 'mean_prse', 'h_pct10', 'h_pct25', 'h_median', 'h_pct75', 'h_pct90', 'a_pct10', 'a_pct25', 'a_median_num', 'a_pct75', 'a_pct90']]\n",
        "\n",
        "  \n",
        "  values.append(temp)\n",
        "  \n",
        "manual= dict(zip(keys, values))"
      ],
      "execution_count": 0,
      "outputs": []
    },
    {
      "metadata": {
        "id": "yf8OCAR80aOM",
        "colab_type": "code",
        "outputId": "7ed68194-70f3-41f7-d245-ebac992fab16",
        "colab": {
          "base_uri": "https://localhost:8080/",
          "height": 34
        }
      },
      "cell_type": "code",
      "source": [
        "manual[all_occ[1]]['tot_emp_num']\n"
      ],
      "execution_count": 62,
      "outputs": [
        {
          "output_type": "execute_result",
          "data": {
            "text/plain": [
              "16680.0"
            ]
          },
          "metadata": {
            "tags": []
          },
          "execution_count": 62
        }
      ]
    },
    {
      "metadata": {
        "id": "yojBypny-X7k",
        "colab_type": "code",
        "colab": {}
      },
      "cell_type": "code",
      "source": [
        "# # Then we have a tasklist for each occupation, but this method is slow\n",
        "# # The function to search for tasks for an occpation:\n",
        "\n",
        "\n",
        "# def gettask(occ_code,Tasks):\n",
        "#   for index, row in Tasks.iterrows():\n",
        "#     temp=Tasks[Tasks['occ_code']==occ_code][['Task ID','Task']]\n",
        "#   return temp\n",
        "# tasklist=gettask(111011,Tasks)"
      ],
      "execution_count": 0,
      "outputs": []
    },
    {
      "metadata": {
        "id": "LrjoeEX1_XQC",
        "colab_type": "code",
        "outputId": "dd4ea3c7-014a-4411-ae0a-442cb0e66e6b",
        "colab": {
          "base_uri": "https://localhost:8080/",
          "height": 74
        }
      },
      "cell_type": "code",
      "source": [
        "# tasklist[2]"
      ],
      "execution_count": 0,
      "outputs": [
        {
          "output_type": "execute_result",
          "data": {
            "text/plain": [
              "[8825,\n",
              " 'Analyze operations to evaluate performance of a company or its staff in meeting objectives or to determine areas of potential cost reduction, program improvement, or policy change.']"
            ]
          },
          "metadata": {
            "tags": []
          },
          "execution_count": 101
        }
      ]
    },
    {
      "metadata": {
        "id": "5ASTbdSeY1E2",
        "colab_type": "text"
      },
      "cell_type": "markdown",
      "source": [
        "### 2 by 2 metrics to assess 13 NAISCS\n",
        "\n"
      ]
    },
    {
      "metadata": {
        "id": "4hWjE4F_Y998",
        "colab_type": "code",
        "colab": {
          "base_uri": "https://localhost:8080/",
          "height": 34
        },
        "outputId": "c9b51fcf-a93c-4cee-d056-0f43be22ff38"
      },
      "cell_type": "code",
      "source": [
        "# Among 13 NAISCS industries, we have 528 occupations, the list of occupations is named as targetlist\n",
        "len(targetlist)"
      ],
      "execution_count": 44,
      "outputs": [
        {
          "output_type": "execute_result",
          "data": {
            "text/plain": [
              "528"
            ]
          },
          "metadata": {
            "tags": []
          },
          "execution_count": 44
        }
      ]
    },
    {
      "metadata": {
        "id": "miDhExPFeCya",
        "colab_type": "code",
        "colab": {}
      },
      "cell_type": "code",
      "source": [
        ""
      ],
      "execution_count": 0,
      "outputs": []
    },
    {
      "metadata": {
        "id": "24sHv4ZE_q3g",
        "colab_type": "code",
        "colab": {}
      },
      "cell_type": "code",
      "source": [
        "#   # built a occpationcode list to change 6digit to 8 digit and change the form\n",
        "# onetform=[]\n",
        "# for item in targetlist:\n",
        "#   string=str(item)\n",
        "#   temp=str(string[:1]) + '-' +str(string[2:])+'.00'\n",
        "#   onetform.append(temp)\n",
        "# onetform\n"
      ],
      "execution_count": 0,
      "outputs": []
    },
    {
      "metadata": {
        "id": "aryxAV_3zUNE",
        "colab_type": "text"
      },
      "cell_type": "markdown",
      "source": [
        "#### Make a list for Non-routine cognitive- Interactive"
      ]
    },
    {
      "metadata": {
        "id": "lWWnnE8C_qwr",
        "colab_type": "code",
        "colab": {}
      },
      "cell_type": "code",
      "source": [
        "# Make a list for 10 years, use 'negotiation score'in Skills, Element id is 2.B.1.d\n",
        "negotiationlist=[]\n",
        "totalemployment=[]\n",
        "for year in range(2007,2017):\n",
        "  tempsum=0\n",
        "  denom=0\n",
        "  cutyear=df.loc[df['year']==year]\n",
        "  for occcode in targetlist:\n",
        "    cutocc=cutyear.loc[cutyear['occ_code']==occcode]\n",
        "    employment=cutocc['tot_emp_num'].sum()\n",
        "    denom+=employment\n",
        "    temp1=Skills.loc[Skills['SOC Code']==occcode]  \n",
        "    score_series=temp1.loc[temp1['Element ID']=='2.B.1.d']['Data Value']\n",
        "    try:\n",
        "      score=float(score_series)\n",
        "    except:\n",
        "      continue      \n",
        "    weightedscore=int(employment*score)\n",
        "    tempsum+=weightedscore\n",
        "  valueofyear=tempsum/denom\n",
        "  negotiationlist.append(valueofyear)\n",
        "  totalemployment.append(denom)\n",
        "    "
      ],
      "execution_count": 0,
      "outputs": []
    },
    {
      "metadata": {
        "id": "t3b-ZBdyE7_0",
        "colab_type": "code",
        "colab": {
          "base_uri": "https://localhost:8080/",
          "height": 193
        },
        "outputId": "d45353ef-4ccb-4879-e409-eb92549ef563"
      },
      "cell_type": "code",
      "source": [
        "totalemployment"
      ],
      "execution_count": 115,
      "outputs": [
        {
          "output_type": "execute_result",
          "data": {
            "text/plain": [
              "[11420590.0,\n",
              " 11196570.0,\n",
              " 10161260.0,\n",
              " 9177840.0,\n",
              " 9087980.0,\n",
              " 9241660.0,\n",
              " 9500890.0,\n",
              " 9914140.0,\n",
              " 10302570.0,\n",
              " 10656980.0]"
            ]
          },
          "metadata": {
            "tags": []
          },
          "execution_count": 115
        }
      ]
    },
    {
      "metadata": {
        "id": "q7eAq3YB_qqK",
        "colab_type": "code",
        "colab": {
          "base_uri": "https://localhost:8080/",
          "height": 193
        },
        "outputId": "385cc908-8087-421b-81cc-8779c86f6da7"
      },
      "cell_type": "code",
      "source": [
        "negotiationlist"
      ],
      "execution_count": 113,
      "outputs": [
        {
          "output_type": "execute_result",
          "data": {
            "text/plain": [
              "[1.9196199145578294,\n",
              " 1.9330647689426315,\n",
              " 1.9516319826478212,\n",
              " 1.9711214185472834,\n",
              " 1.9822775798362233,\n",
              " 1.983952450100956,\n",
              " 1.9753104182871288,\n",
              " 1.9630046579935325,\n",
              " 1.9570261594922431,\n",
              " 1.950319978080094]"
            ]
          },
          "metadata": {
            "tags": []
          },
          "execution_count": 113
        }
      ]
    },
    {
      "metadata": {
        "colab_type": "text",
        "id": "3t5nO_U7z8cc"
      },
      "cell_type": "markdown",
      "source": [
        "#### Make a list for Non-routine cognitive- Analytic"
      ]
    },
    {
      "metadata": {
        "id": "uABCcyLb_qfp",
        "colab_type": "code",
        "colab": {}
      },
      "cell_type": "code",
      "source": [
        "# Make a list for 10 years, use 'Mathematical Reasoning' in Abilities, Element id is 1.A.1.c.1\n",
        "MATHlist=[]\n",
        "for year in range(2007,2017):\n",
        "  tempsum=0\n",
        "  cutyear=df.loc[df['year']==year]\n",
        "  for occcode in targetlist:\n",
        "    cutocc=cutyear.loc[cutyear['occ_code']==occcode]\n",
        "    employment=cutocc['tot_emp_num'].sum()\n",
        "    temp1=Abilities.loc[Abilities['SOC Code']==occcode]  \n",
        "    score_series=temp1.loc[temp1['Element ID']=='1.A.1.c.1']['Data Value']\n",
        "    try:\n",
        "      score=float(score_series)\n",
        "    except:\n",
        "      continue      \n",
        "    weightedscore=int(employment*score)\n",
        "    tempsum+=weightedscore\n",
        "  MATHlist.append(tempsum)"
      ],
      "execution_count": 0,
      "outputs": []
    },
    {
      "metadata": {
        "id": "UZjjnT0o-RIr",
        "colab_type": "code",
        "colab": {
          "base_uri": "https://localhost:8080/",
          "height": 193
        },
        "outputId": "56c16c7d-ef11-4d5c-8665-cd0dc045f2cd"
      },
      "cell_type": "code",
      "source": [
        "MATHlist"
      ],
      "execution_count": 97,
      "outputs": [
        {
          "output_type": "execute_result",
          "data": {
            "text/plain": [
              "[19912594,\n",
              " 19665161,\n",
              " 18041007,\n",
              " 16346415,\n",
              " 16223788,\n",
              " 16444917,\n",
              " 16858215,\n",
              " 17496147,\n",
              " 18181594,\n",
              " 18739184]"
            ]
          },
          "metadata": {
            "tags": []
          },
          "execution_count": 97
        }
      ]
    },
    {
      "metadata": {
        "colab_type": "text",
        "id": "k0FXaxsa1MOS"
      },
      "cell_type": "markdown",
      "source": [
        "#### Make a list for Non-routine Manual"
      ]
    },
    {
      "metadata": {
        "id": "mSHaKASD3kGx",
        "colab_type": "code",
        "colab": {}
      },
      "cell_type": "code",
      "source": [
        "# Make a list for 10 years, use 'Manual Dexterity' in Abilities, Element id is 1.A.2.a.2\n",
        "Manulist=[]\n",
        "for year in range(2007,2017):\n",
        "  tempsum=0\n",
        "  cutyear=df.loc[df['year']==year]\n",
        "  for occcode in targetlist:\n",
        "    cutocc=cutyear.loc[cutyear['occ_code']==occcode]\n",
        "    employment=cutocc['tot_emp_num'].sum()\n",
        "    temp1=Abilities.loc[Abilities['SOC Code']==occcode]  \n",
        "    score_series=temp1.loc[temp1['Element ID']=='1.A.2.a.2']['Data Value']\n",
        "    try:\n",
        "      score=float(score_series)\n",
        "    except:\n",
        "      continue      \n",
        "    weightedscore=int(employment*score)\n",
        "    tempsum+=weightedscore\n",
        "  Manulist.append(tempsum)"
      ],
      "execution_count": 0,
      "outputs": []
    },
    {
      "metadata": {
        "id": "dC_qtXjG14HS",
        "colab_type": "code",
        "colab": {
          "base_uri": "https://localhost:8080/",
          "height": 193
        },
        "outputId": "cc2c7773-4b14-4646-ab9d-1b639d23e540"
      },
      "cell_type": "code",
      "source": [
        "Manulist"
      ],
      "execution_count": 108,
      "outputs": [
        {
          "output_type": "execute_result",
          "data": {
            "text/plain": [
              "[22312815,\n",
              " 21779841,\n",
              " 19673674,\n",
              " 17771392,\n",
              " 17570343,\n",
              " 17866598,\n",
              " 18349511,\n",
              " 19184264,\n",
              " 19971208,\n",
              " 20634037]"
            ]
          },
          "metadata": {
            "tags": []
          },
          "execution_count": 108
        }
      ]
    },
    {
      "metadata": {
        "id": "KBTeVKPp43SA",
        "colab_type": "code",
        "colab": {}
      },
      "cell_type": "code",
      "source": [
        ""
      ],
      "execution_count": 0,
      "outputs": []
    },
    {
      "metadata": {
        "colab_type": "text",
        "id": "xNXnSvqs2DFf"
      },
      "cell_type": "markdown",
      "source": [
        "#### Make a list for Routine Manual"
      ]
    },
    {
      "metadata": {
        "id": "N2d2WNFH5FZF",
        "colab_type": "code",
        "colab": {}
      },
      "cell_type": "code",
      "source": [
        "# Make a list for 10 years, use 'Finger Dexterity' in Abilities, Element id is 1.A.2.a.3\n",
        "FingDexlist=[]\n",
        "for year in range(2007,2017):\n",
        "  tempsum=0\n",
        "  cutyear=df.loc[df['year']==year]\n",
        "  for occcode in targetlist:\n",
        "    cutocc=cutyear.loc[cutyear['occ_code']==occcode]\n",
        "    employment=cutocc['tot_emp_num'].sum()\n",
        "    temp1=Abilities.loc[Abilities['SOC Code']==occcode]  \n",
        "    score_series=temp1.loc[temp1['Element ID']=='1.A.2.a.3']['Data Value']\n",
        "    try:\n",
        "      score=float(score_series)\n",
        "    except:\n",
        "      continue      \n",
        "    weightedscore=int(employment*score)\n",
        "    tempsum+=weightedscore\n",
        "  FingDexlist.append(tempsum)"
      ],
      "execution_count": 0,
      "outputs": []
    },
    {
      "metadata": {
        "id": "ONrMMCXJ52L0",
        "colab_type": "code",
        "colab": {
          "base_uri": "https://localhost:8080/",
          "height": 193
        },
        "outputId": "5ec99ca4-630c-4fcf-e658-c1f6e9de95f0"
      },
      "cell_type": "code",
      "source": [
        "FingDexlist"
      ],
      "execution_count": 102,
      "outputs": [
        {
          "output_type": "execute_result",
          "data": {
            "text/plain": [
              "[24584630,\n",
              " 24114146,\n",
              " 21950130,\n",
              " 19897246,\n",
              " 19706752,\n",
              " 20027977,\n",
              " 20523187,\n",
              " 21382383,\n",
              " 22214392,\n",
              " 22923699]"
            ]
          },
          "metadata": {
            "tags": []
          },
          "execution_count": 102
        }
      ]
    },
    {
      "metadata": {
        "id": "L7v9UWlH8-Ep",
        "colab_type": "code",
        "colab": {}
      },
      "cell_type": "code",
      "source": [
        ""
      ],
      "execution_count": 0,
      "outputs": []
    },
    {
      "metadata": {
        "colab_type": "text",
        "id": "04MUDDY22woC"
      },
      "cell_type": "markdown",
      "source": [
        "#### Make a list for Routine Cognitive"
      ]
    },
    {
      "metadata": {
        "id": "dlx1vyqDzLJl",
        "colab_type": "code",
        "colab": {}
      },
      "cell_type": "code",
      "source": [
        "# Make a list for 10 years, use 'Guiding, Directing and Motivating' in Work Activities, Element id is 4.A.4.b.4\n",
        "GDMlist=[]\n",
        "for year in range(2007,2017):\n",
        "  tempsum=0\n",
        "  cutyear=df.loc[df['year']==year]\n",
        "  for occcode in targetlist:\n",
        "    cutocc=cutyear.loc[cutyear['occ_code']==occcode]\n",
        "    employment=cutocc['tot_emp_num'].sum()\n",
        "    temp1=Activities.loc[Activities['occ_code']==occcode]  \n",
        "    score_series=temp1.loc[temp1['Element ID']=='4.A.4.b.4']['Data Value']\n",
        "    try:\n",
        "      score=float(score_series)\n",
        "    except:\n",
        "      continue      \n",
        "    weightedscore=int(employment*score)\n",
        "    tempsum+=weightedscore\n",
        "  GDMlist.append(tempsum)"
      ],
      "execution_count": 0,
      "outputs": []
    },
    {
      "metadata": {
        "id": "yEA3EWso8QF_",
        "colab_type": "code",
        "colab": {
          "base_uri": "https://localhost:8080/",
          "height": 193
        },
        "outputId": "779002f7-1f2c-4a71-b735-54bfa8b04ff8"
      },
      "cell_type": "code",
      "source": [
        "GDMlist"
      ],
      "execution_count": 109,
      "outputs": [
        {
          "output_type": "execute_result",
          "data": {
            "text/plain": [
              "[22618677,\n",
              " 22206466,\n",
              " 20155615,\n",
              " 18257599,\n",
              " 18135412,\n",
              " 18468149,\n",
              " 18987629,\n",
              " 19778819,\n",
              " 20597364,\n",
              " 21233458]"
            ]
          },
          "metadata": {
            "tags": []
          },
          "execution_count": 109
        }
      ]
    },
    {
      "metadata": {
        "id": "7_T0yjP59A2x",
        "colab_type": "text"
      },
      "cell_type": "markdown",
      "source": [
        "##Conduct 2*2 Autor analysis for Manufature "
      ]
    },
    {
      "metadata": {
        "id": "L_enVmjl9HT4",
        "colab_type": "code",
        "colab": {}
      },
      "cell_type": "code",
      "source": [
        "!wget \"https://www.dropbox.com/s/mzly495b0ns41wi/oes_nat4d_2007-2016.csv?dl=0\" -q -O \"oes_nat4d_2007-2016.csv\" \n",
        "allOLS=pd.read_csv(\"oes_nat4d_2007-2016.csv\",low_memory=False)"
      ],
      "execution_count": 0,
      "outputs": []
    },
    {
      "metadata": {
        "id": "-QZupVFTMIk4",
        "colab_type": "code",
        "colab": {}
      },
      "cell_type": "code",
      "source": [
        "allOLS"
      ],
      "execution_count": 0,
      "outputs": []
    },
    {
      "metadata": {
        "id": "dsNW3PoqO8c7",
        "colab_type": "code",
        "colab": {}
      },
      "cell_type": "code",
      "source": [
        "# make a series of Manufactureing 4-digit NAICS code\n",
        "!wget \"https://www.dropbox.com/s/sw4i9fj6lgnlq58/4digit_manu.csv?dl=0\" -q -O \"4digit_manu.csv\" \n",
        "manu_naisc=pd.read_csv(\"4digit_manu.csv\",low_memory=False)"
      ],
      "execution_count": 0,
      "outputs": []
    },
    {
      "metadata": {
        "id": "9tVT64VNM5Pv",
        "colab_type": "code",
        "colab": {}
      },
      "cell_type": "code",
      "source": [
        ""
      ],
      "execution_count": 0,
      "outputs": []
    },
    {
      "metadata": {
        "id": "jRS2RYjBNaEz",
        "colab_type": "code",
        "colab": {}
      },
      "cell_type": "code",
      "source": [
        "# Filter out manufature OLS data\n",
        "manudf=allOLS.loc[allOLS['naics'].isin(manu_naisc['naisc'])]"
      ],
      "execution_count": 0,
      "outputs": []
    },
    {
      "metadata": {
        "id": "K3Z5gmqiWeCF",
        "colab_type": "code",
        "colab": {}
      },
      "cell_type": "code",
      "source": [
        "# Create occupation list for manufature, and exclude those occ_code end with 00\n",
        "manu_occ=manudf['occ_code'].unique()\n",
        "manu_occ_list=[]\n",
        "for row in manu_occ:\n",
        "  temp=str(row)\n",
        "  if temp[5:]!='00':\n",
        "    new=temp[:2]+temp[3:]\n",
        "    new=int(new)\n",
        "    manu_occ_list.append(new)\n",
        "  else:\n",
        "    continue"
      ],
      "execution_count": 0,
      "outputs": []
    },
    {
      "metadata": {
        "id": "88m8YojVV9A1",
        "colab_type": "code",
        "colab": {}
      },
      "cell_type": "code",
      "source": [
        "# There are 918 occupations in Manufaturinng\n",
        "manu_occ_list"
      ],
      "execution_count": 0,
      "outputs": []
    },
    {
      "metadata": {
        "id": "t4_jQur9bNjE",
        "colab_type": "code",
        "colab": {}
      },
      "cell_type": "code",
      "source": [
        "manudf"
      ],
      "execution_count": 0,
      "outputs": []
    },
    {
      "metadata": {
        "id": "MuUmklSckUu1",
        "colab_type": "code",
        "colab": {}
      },
      "cell_type": "code",
      "source": [
        "manudf['occ_code']"
      ],
      "execution_count": 0,
      "outputs": []
    },
    {
      "metadata": {
        "id": "vJOqBHrjkNdC",
        "colab_type": "code",
        "colab": {}
      },
      "cell_type": "code",
      "source": [
        "for temp2 in manudf['occ_code']:\n",
        "  temp=temp2[:2]+'-'+temp2[2:] \n",
        "  manudf[['occ_code']].replace(temp, temp2)"
      ],
      "execution_count": 0,
      "outputs": []
    },
    {
      "metadata": {
        "id": "k5xizW-0Y-oI",
        "colab_type": "code",
        "colab": {}
      },
      "cell_type": "code",
      "source": [
        "# Replace occ_code in manudf with the correct form of occ_code\n",
        "for new in manu_occ_list:\n",
        "  temp2=str(new)\n",
        "  temp=temp2[:2]+'-'+temp2[2:]  \n",
        "  manudf[['occ_code']] = manudf[['occ_code']].replace(temp, temp2)\n",
        "\n"
      ],
      "execution_count": 0,
      "outputs": []
    },
    {
      "metadata": {
        "id": "YI8Qkh3-hBdq",
        "colab_type": "code",
        "colab": {
          "base_uri": "https://localhost:8080/",
          "height": 4564
        },
        "outputId": "874c60cf-6aed-4c4b-e3eb-d09acc8a226b"
      },
      "cell_type": "code",
      "source": [
        "manudf"
      ],
      "execution_count": 240,
      "outputs": [
        {
          "output_type": "execute_result",
          "data": {
            "text/html": [
              "<div>\n",
              "<style scoped>\n",
              "    .dataframe tbody tr th:only-of-type {\n",
              "        vertical-align: middle;\n",
              "    }\n",
              "\n",
              "    .dataframe tbody tr th {\n",
              "        vertical-align: top;\n",
              "    }\n",
              "\n",
              "    .dataframe thead th {\n",
              "        text-align: right;\n",
              "    }\n",
              "</style>\n",
              "<table border=\"1\" class=\"dataframe\">\n",
              "  <thead>\n",
              "    <tr style=\"text-align: right;\">\n",
              "      <th></th>\n",
              "      <th>year</th>\n",
              "      <th>naics</th>\n",
              "      <th>naics_title</th>\n",
              "      <th>occ_code</th>\n",
              "      <th>occ_title</th>\n",
              "      <th>group</th>\n",
              "      <th>tot_emp</th>\n",
              "      <th>emp_prse</th>\n",
              "      <th>pct_total</th>\n",
              "      <th>pct_rpt</th>\n",
              "      <th>...</th>\n",
              "      <th>h_pct90</th>\n",
              "      <th>a_pct10</th>\n",
              "      <th>a_pct25</th>\n",
              "      <th>a_median</th>\n",
              "      <th>a_pct75</th>\n",
              "      <th>a_pct90</th>\n",
              "      <th>annual</th>\n",
              "      <th>hourly</th>\n",
              "      <th>occ_group</th>\n",
              "      <th>full_naics</th>\n",
              "    </tr>\n",
              "  </thead>\n",
              "  <tbody>\n",
              "    <tr>\n",
              "      <th>3284</th>\n",
              "      <td>2007</td>\n",
              "      <td>311100</td>\n",
              "      <td>Animal Food Manufacturing</td>\n",
              "      <td>00-0000</td>\n",
              "      <td>Industry Total</td>\n",
              "      <td>NaN</td>\n",
              "      <td>50210</td>\n",
              "      <td>3.3</td>\n",
              "      <td>100.00</td>\n",
              "      <td>100</td>\n",
              "      <td>...</td>\n",
              "      <td>27.68</td>\n",
              "      <td>18010</td>\n",
              "      <td>22770</td>\n",
              "      <td>30810</td>\n",
              "      <td>41090</td>\n",
              "      <td>57580</td>\n",
              "      <td>NaN</td>\n",
              "      <td>NaN</td>\n",
              "      <td>NaN</td>\n",
              "      <td>NaN</td>\n",
              "    </tr>\n",
              "    <tr>\n",
              "      <th>3285</th>\n",
              "      <td>2007</td>\n",
              "      <td>311100</td>\n",
              "      <td>Animal Food Manufacturing</td>\n",
              "      <td>11-0000</td>\n",
              "      <td>Management occupations</td>\n",
              "      <td>major</td>\n",
              "      <td>2120</td>\n",
              "      <td>4.4</td>\n",
              "      <td>4.22</td>\n",
              "      <td>30</td>\n",
              "      <td>...</td>\n",
              "      <td>#</td>\n",
              "      <td>43170</td>\n",
              "      <td>57930</td>\n",
              "      <td>78920</td>\n",
              "      <td>111740</td>\n",
              "      <td>#</td>\n",
              "      <td>NaN</td>\n",
              "      <td>NaN</td>\n",
              "      <td>NaN</td>\n",
              "      <td>NaN</td>\n",
              "    </tr>\n",
              "    <tr>\n",
              "      <th>3286</th>\n",
              "      <td>2007</td>\n",
              "      <td>311100</td>\n",
              "      <td>Animal Food Manufacturing</td>\n",
              "      <td>111011</td>\n",
              "      <td>Chief executives</td>\n",
              "      <td>NaN</td>\n",
              "      <td>100</td>\n",
              "      <td>11.8</td>\n",
              "      <td>0.20</td>\n",
              "      <td>3</td>\n",
              "      <td>...</td>\n",
              "      <td>#</td>\n",
              "      <td>55350</td>\n",
              "      <td>76500</td>\n",
              "      <td>132360</td>\n",
              "      <td>#</td>\n",
              "      <td>#</td>\n",
              "      <td>NaN</td>\n",
              "      <td>NaN</td>\n",
              "      <td>NaN</td>\n",
              "      <td>NaN</td>\n",
              "    </tr>\n",
              "    <tr>\n",
              "      <th>3287</th>\n",
              "      <td>2007</td>\n",
              "      <td>311100</td>\n",
              "      <td>Animal Food Manufacturing</td>\n",
              "      <td>111021</td>\n",
              "      <td>General and operations managers</td>\n",
              "      <td>NaN</td>\n",
              "      <td>940</td>\n",
              "      <td>5.4</td>\n",
              "      <td>1.87</td>\n",
              "      <td>22</td>\n",
              "      <td>...</td>\n",
              "      <td>#</td>\n",
              "      <td>43330</td>\n",
              "      <td>57150</td>\n",
              "      <td>76630</td>\n",
              "      <td>109350</td>\n",
              "      <td>#</td>\n",
              "      <td>NaN</td>\n",
              "      <td>NaN</td>\n",
              "      <td>NaN</td>\n",
              "      <td>NaN</td>\n",
              "    </tr>\n",
              "    <tr>\n",
              "      <th>3288</th>\n",
              "      <td>2007</td>\n",
              "      <td>311100</td>\n",
              "      <td>Animal Food Manufacturing</td>\n",
              "      <td>112022</td>\n",
              "      <td>Sales managers</td>\n",
              "      <td>NaN</td>\n",
              "      <td>110</td>\n",
              "      <td>10.2</td>\n",
              "      <td>0.22</td>\n",
              "      <td>3</td>\n",
              "      <td>...</td>\n",
              "      <td>#</td>\n",
              "      <td>51520</td>\n",
              "      <td>73490</td>\n",
              "      <td>96040</td>\n",
              "      <td>126240</td>\n",
              "      <td>#</td>\n",
              "      <td>NaN</td>\n",
              "      <td>NaN</td>\n",
              "      <td>NaN</td>\n",
              "      <td>NaN</td>\n",
              "    </tr>\n",
              "    <tr>\n",
              "      <th>3289</th>\n",
              "      <td>2007</td>\n",
              "      <td>311100</td>\n",
              "      <td>Animal Food Manufacturing</td>\n",
              "      <td>113031</td>\n",
              "      <td>Financial managers</td>\n",
              "      <td>NaN</td>\n",
              "      <td>100</td>\n",
              "      <td>12.8</td>\n",
              "      <td>0.20</td>\n",
              "      <td>3</td>\n",
              "      <td>...</td>\n",
              "      <td>#</td>\n",
              "      <td>54420</td>\n",
              "      <td>72230</td>\n",
              "      <td>93280</td>\n",
              "      <td>122270</td>\n",
              "      <td>#</td>\n",
              "      <td>NaN</td>\n",
              "      <td>NaN</td>\n",
              "      <td>NaN</td>\n",
              "      <td>NaN</td>\n",
              "    </tr>\n",
              "    <tr>\n",
              "      <th>3290</th>\n",
              "      <td>2007</td>\n",
              "      <td>311100</td>\n",
              "      <td>Animal Food Manufacturing</td>\n",
              "      <td>113051</td>\n",
              "      <td>Industrial production managers</td>\n",
              "      <td>NaN</td>\n",
              "      <td>550</td>\n",
              "      <td>7.4</td>\n",
              "      <td>1.10</td>\n",
              "      <td>13</td>\n",
              "      <td>...</td>\n",
              "      <td>67.52</td>\n",
              "      <td>41760</td>\n",
              "      <td>56350</td>\n",
              "      <td>74140</td>\n",
              "      <td>96630</td>\n",
              "      <td>140450</td>\n",
              "      <td>NaN</td>\n",
              "      <td>NaN</td>\n",
              "      <td>NaN</td>\n",
              "      <td>NaN</td>\n",
              "    </tr>\n",
              "    <tr>\n",
              "      <th>3291</th>\n",
              "      <td>2007</td>\n",
              "      <td>311100</td>\n",
              "      <td>Animal Food Manufacturing</td>\n",
              "      <td>113061</td>\n",
              "      <td>Purchasing managers</td>\n",
              "      <td>NaN</td>\n",
              "      <td>30</td>\n",
              "      <td>13.1</td>\n",
              "      <td>0.06</td>\n",
              "      <td>1</td>\n",
              "      <td>...</td>\n",
              "      <td>63.61</td>\n",
              "      <td>37270</td>\n",
              "      <td>52380</td>\n",
              "      <td>88430</td>\n",
              "      <td>114960</td>\n",
              "      <td>132300</td>\n",
              "      <td>NaN</td>\n",
              "      <td>NaN</td>\n",
              "      <td>NaN</td>\n",
              "      <td>NaN</td>\n",
              "    </tr>\n",
              "    <tr>\n",
              "      <th>3292</th>\n",
              "      <td>2007</td>\n",
              "      <td>311100</td>\n",
              "      <td>Animal Food Manufacturing</td>\n",
              "      <td>113071</td>\n",
              "      <td>Transportation, storage, and distribution mana...</td>\n",
              "      <td>NaN</td>\n",
              "      <td>110</td>\n",
              "      <td>10.9</td>\n",
              "      <td>0.22</td>\n",
              "      <td>3</td>\n",
              "      <td>...</td>\n",
              "      <td>56.87</td>\n",
              "      <td>37170</td>\n",
              "      <td>51660</td>\n",
              "      <td>66430</td>\n",
              "      <td>87520</td>\n",
              "      <td>118280</td>\n",
              "      <td>NaN</td>\n",
              "      <td>NaN</td>\n",
              "      <td>NaN</td>\n",
              "      <td>NaN</td>\n",
              "    </tr>\n",
              "    <tr>\n",
              "      <th>3293</th>\n",
              "      <td>2007</td>\n",
              "      <td>311100</td>\n",
              "      <td>Animal Food Manufacturing</td>\n",
              "      <td>119199</td>\n",
              "      <td>Managers, all other</td>\n",
              "      <td>NaN</td>\n",
              "      <td>40</td>\n",
              "      <td>13.8</td>\n",
              "      <td>0.08</td>\n",
              "      <td>1</td>\n",
              "      <td>...</td>\n",
              "      <td>#</td>\n",
              "      <td>56190</td>\n",
              "      <td>73990</td>\n",
              "      <td>101380</td>\n",
              "      <td>#</td>\n",
              "      <td>#</td>\n",
              "      <td>NaN</td>\n",
              "      <td>NaN</td>\n",
              "      <td>NaN</td>\n",
              "      <td>NaN</td>\n",
              "    </tr>\n",
              "    <tr>\n",
              "      <th>3294</th>\n",
              "      <td>2007</td>\n",
              "      <td>311100</td>\n",
              "      <td>Animal Food Manufacturing</td>\n",
              "      <td>13-0000</td>\n",
              "      <td>Business and financial operations occupations</td>\n",
              "      <td>major</td>\n",
              "      <td>930</td>\n",
              "      <td>6.9</td>\n",
              "      <td>1.85</td>\n",
              "      <td>15</td>\n",
              "      <td>...</td>\n",
              "      <td>40.53</td>\n",
              "      <td>33310</td>\n",
              "      <td>41790</td>\n",
              "      <td>52260</td>\n",
              "      <td>65650</td>\n",
              "      <td>84300</td>\n",
              "      <td>NaN</td>\n",
              "      <td>NaN</td>\n",
              "      <td>NaN</td>\n",
              "      <td>NaN</td>\n",
              "    </tr>\n",
              "    <tr>\n",
              "      <th>3295</th>\n",
              "      <td>2007</td>\n",
              "      <td>311100</td>\n",
              "      <td>Animal Food Manufacturing</td>\n",
              "      <td>131021</td>\n",
              "      <td>Purchasing agents and buyers, farm products</td>\n",
              "      <td>NaN</td>\n",
              "      <td>130</td>\n",
              "      <td>11.7</td>\n",
              "      <td>0.26</td>\n",
              "      <td>3</td>\n",
              "      <td>...</td>\n",
              "      <td>40.06</td>\n",
              "      <td>38580</td>\n",
              "      <td>44850</td>\n",
              "      <td>53940</td>\n",
              "      <td>65830</td>\n",
              "      <td>83320</td>\n",
              "      <td>NaN</td>\n",
              "      <td>NaN</td>\n",
              "      <td>NaN</td>\n",
              "      <td>NaN</td>\n",
              "    </tr>\n",
              "    <tr>\n",
              "      <th>3296</th>\n",
              "      <td>2007</td>\n",
              "      <td>311100</td>\n",
              "      <td>Animal Food Manufacturing</td>\n",
              "      <td>131023</td>\n",
              "      <td>Purchasing agents, except wholesale, retail, a...</td>\n",
              "      <td>NaN</td>\n",
              "      <td>200</td>\n",
              "      <td>13.4</td>\n",
              "      <td>0.40</td>\n",
              "      <td>5</td>\n",
              "      <td>...</td>\n",
              "      <td>38.43</td>\n",
              "      <td>33550</td>\n",
              "      <td>40490</td>\n",
              "      <td>51720</td>\n",
              "      <td>64770</td>\n",
              "      <td>79930</td>\n",
              "      <td>NaN</td>\n",
              "      <td>NaN</td>\n",
              "      <td>NaN</td>\n",
              "      <td>NaN</td>\n",
              "    </tr>\n",
              "    <tr>\n",
              "      <th>3297</th>\n",
              "      <td>2007</td>\n",
              "      <td>311100</td>\n",
              "      <td>Animal Food Manufacturing</td>\n",
              "      <td>131072</td>\n",
              "      <td>Compensation, benefits, and job analysis speci...</td>\n",
              "      <td>NaN</td>\n",
              "      <td>30</td>\n",
              "      <td>47.8</td>\n",
              "      <td>0.06</td>\n",
              "      <td>1</td>\n",
              "      <td>...</td>\n",
              "      <td>41.92</td>\n",
              "      <td>30350</td>\n",
              "      <td>37900</td>\n",
              "      <td>50240</td>\n",
              "      <td>63480</td>\n",
              "      <td>87200</td>\n",
              "      <td>NaN</td>\n",
              "      <td>NaN</td>\n",
              "      <td>NaN</td>\n",
              "      <td>NaN</td>\n",
              "    </tr>\n",
              "    <tr>\n",
              "      <th>3298</th>\n",
              "      <td>2007</td>\n",
              "      <td>311100</td>\n",
              "      <td>Animal Food Manufacturing</td>\n",
              "      <td>131081</td>\n",
              "      <td>Logisticians</td>\n",
              "      <td>NaN</td>\n",
              "      <td>40</td>\n",
              "      <td>16.6</td>\n",
              "      <td>0.08</td>\n",
              "      <td>1</td>\n",
              "      <td>...</td>\n",
              "      <td>46.33</td>\n",
              "      <td>26680</td>\n",
              "      <td>41800</td>\n",
              "      <td>52010</td>\n",
              "      <td>72850</td>\n",
              "      <td>96370</td>\n",
              "      <td>NaN</td>\n",
              "      <td>NaN</td>\n",
              "      <td>NaN</td>\n",
              "      <td>NaN</td>\n",
              "    </tr>\n",
              "    <tr>\n",
              "      <th>3299</th>\n",
              "      <td>2007</td>\n",
              "      <td>311100</td>\n",
              "      <td>Animal Food Manufacturing</td>\n",
              "      <td>131199</td>\n",
              "      <td>Business operations specialists, all other</td>\n",
              "      <td>NaN</td>\n",
              "      <td>110</td>\n",
              "      <td>29.1</td>\n",
              "      <td>0.22</td>\n",
              "      <td>2</td>\n",
              "      <td>...</td>\n",
              "      <td>39.41</td>\n",
              "      <td>32220</td>\n",
              "      <td>39190</td>\n",
              "      <td>49870</td>\n",
              "      <td>66920</td>\n",
              "      <td>81980</td>\n",
              "      <td>NaN</td>\n",
              "      <td>NaN</td>\n",
              "      <td>NaN</td>\n",
              "      <td>NaN</td>\n",
              "    </tr>\n",
              "    <tr>\n",
              "      <th>3300</th>\n",
              "      <td>2007</td>\n",
              "      <td>311100</td>\n",
              "      <td>Animal Food Manufacturing</td>\n",
              "      <td>132011</td>\n",
              "      <td>Accountants and auditors</td>\n",
              "      <td>NaN</td>\n",
              "      <td>290</td>\n",
              "      <td>7.2</td>\n",
              "      <td>0.58</td>\n",
              "      <td>8</td>\n",
              "      <td>...</td>\n",
              "      <td>41.35</td>\n",
              "      <td>36360</td>\n",
              "      <td>44110</td>\n",
              "      <td>54360</td>\n",
              "      <td>67310</td>\n",
              "      <td>86010</td>\n",
              "      <td>NaN</td>\n",
              "      <td>NaN</td>\n",
              "      <td>NaN</td>\n",
              "      <td>NaN</td>\n",
              "    </tr>\n",
              "    <tr>\n",
              "      <th>3301</th>\n",
              "      <td>2007</td>\n",
              "      <td>311100</td>\n",
              "      <td>Animal Food Manufacturing</td>\n",
              "      <td>15-0000</td>\n",
              "      <td>Computer and mathematical occupations</td>\n",
              "      <td>major</td>\n",
              "      <td>220</td>\n",
              "      <td>17.1</td>\n",
              "      <td>0.44</td>\n",
              "      <td>2</td>\n",
              "      <td>...</td>\n",
              "      <td>47.28</td>\n",
              "      <td>32020</td>\n",
              "      <td>44080</td>\n",
              "      <td>57570</td>\n",
              "      <td>76340</td>\n",
              "      <td>98350</td>\n",
              "      <td>NaN</td>\n",
              "      <td>NaN</td>\n",
              "      <td>NaN</td>\n",
              "      <td>NaN</td>\n",
              "    </tr>\n",
              "    <tr>\n",
              "      <th>3302</th>\n",
              "      <td>2007</td>\n",
              "      <td>311100</td>\n",
              "      <td>Animal Food Manufacturing</td>\n",
              "      <td>151021</td>\n",
              "      <td>Computer programmers</td>\n",
              "      <td>NaN</td>\n",
              "      <td>40</td>\n",
              "      <td>44.6</td>\n",
              "      <td>0.08</td>\n",
              "      <td>~</td>\n",
              "      <td>...</td>\n",
              "      <td>55.70</td>\n",
              "      <td>48840</td>\n",
              "      <td>70590</td>\n",
              "      <td>88450</td>\n",
              "      <td>102650</td>\n",
              "      <td>115860</td>\n",
              "      <td>NaN</td>\n",
              "      <td>NaN</td>\n",
              "      <td>NaN</td>\n",
              "      <td>NaN</td>\n",
              "    </tr>\n",
              "    <tr>\n",
              "      <th>3303</th>\n",
              "      <td>2007</td>\n",
              "      <td>311100</td>\n",
              "      <td>Animal Food Manufacturing</td>\n",
              "      <td>151041</td>\n",
              "      <td>Computer support specialists</td>\n",
              "      <td>NaN</td>\n",
              "      <td>90</td>\n",
              "      <td>20.3</td>\n",
              "      <td>0.18</td>\n",
              "      <td>1</td>\n",
              "      <td>...</td>\n",
              "      <td>29.39</td>\n",
              "      <td>26080</td>\n",
              "      <td>35730</td>\n",
              "      <td>48920</td>\n",
              "      <td>56240</td>\n",
              "      <td>61130</td>\n",
              "      <td>NaN</td>\n",
              "      <td>NaN</td>\n",
              "      <td>NaN</td>\n",
              "      <td>NaN</td>\n",
              "    </tr>\n",
              "    <tr>\n",
              "      <th>3304</th>\n",
              "      <td>2007</td>\n",
              "      <td>311100</td>\n",
              "      <td>Animal Food Manufacturing</td>\n",
              "      <td>151071</td>\n",
              "      <td>Network and computer systems administrators</td>\n",
              "      <td>NaN</td>\n",
              "      <td>30</td>\n",
              "      <td>19.0</td>\n",
              "      <td>0.06</td>\n",
              "      <td>1</td>\n",
              "      <td>...</td>\n",
              "      <td>49.85</td>\n",
              "      <td>39890</td>\n",
              "      <td>53270</td>\n",
              "      <td>61980</td>\n",
              "      <td>84140</td>\n",
              "      <td>103700</td>\n",
              "      <td>NaN</td>\n",
              "      <td>NaN</td>\n",
              "      <td>NaN</td>\n",
              "      <td>NaN</td>\n",
              "    </tr>\n",
              "    <tr>\n",
              "      <th>3305</th>\n",
              "      <td>2007</td>\n",
              "      <td>311100</td>\n",
              "      <td>Animal Food Manufacturing</td>\n",
              "      <td>17-0000</td>\n",
              "      <td>Architecture and engineering occupations</td>\n",
              "      <td>major</td>\n",
              "      <td>290</td>\n",
              "      <td>12.5</td>\n",
              "      <td>0.58</td>\n",
              "      <td>2</td>\n",
              "      <td>...</td>\n",
              "      <td>46.60</td>\n",
              "      <td>42710</td>\n",
              "      <td>50890</td>\n",
              "      <td>66760</td>\n",
              "      <td>81180</td>\n",
              "      <td>96930</td>\n",
              "      <td>NaN</td>\n",
              "      <td>NaN</td>\n",
              "      <td>NaN</td>\n",
              "      <td>NaN</td>\n",
              "    </tr>\n",
              "    <tr>\n",
              "      <th>3306</th>\n",
              "      <td>2007</td>\n",
              "      <td>311100</td>\n",
              "      <td>Animal Food Manufacturing</td>\n",
              "      <td>172041</td>\n",
              "      <td>Chemical engineers</td>\n",
              "      <td>NaN</td>\n",
              "      <td>50</td>\n",
              "      <td>33.5</td>\n",
              "      <td>0.10</td>\n",
              "      <td>~</td>\n",
              "      <td>...</td>\n",
              "      <td>53.89</td>\n",
              "      <td>53030</td>\n",
              "      <td>62880</td>\n",
              "      <td>74980</td>\n",
              "      <td>89160</td>\n",
              "      <td>112090</td>\n",
              "      <td>NaN</td>\n",
              "      <td>NaN</td>\n",
              "      <td>NaN</td>\n",
              "      <td>NaN</td>\n",
              "    </tr>\n",
              "    <tr>\n",
              "      <th>3307</th>\n",
              "      <td>2007</td>\n",
              "      <td>311100</td>\n",
              "      <td>Animal Food Manufacturing</td>\n",
              "      <td>172112</td>\n",
              "      <td>Industrial engineers</td>\n",
              "      <td>NaN</td>\n",
              "      <td>90</td>\n",
              "      <td>10.6</td>\n",
              "      <td>0.18</td>\n",
              "      <td>1</td>\n",
              "      <td>...</td>\n",
              "      <td>49.97</td>\n",
              "      <td>53370</td>\n",
              "      <td>62680</td>\n",
              "      <td>75870</td>\n",
              "      <td>91430</td>\n",
              "      <td>103940</td>\n",
              "      <td>NaN</td>\n",
              "      <td>NaN</td>\n",
              "      <td>NaN</td>\n",
              "      <td>NaN</td>\n",
              "    </tr>\n",
              "    <tr>\n",
              "      <th>3308</th>\n",
              "      <td>2007</td>\n",
              "      <td>311100</td>\n",
              "      <td>Animal Food Manufacturing</td>\n",
              "      <td>172141</td>\n",
              "      <td>Mechanical engineers</td>\n",
              "      <td>NaN</td>\n",
              "      <td>30</td>\n",
              "      <td>26.8</td>\n",
              "      <td>0.06</td>\n",
              "      <td>~</td>\n",
              "      <td>...</td>\n",
              "      <td>46.05</td>\n",
              "      <td>52710</td>\n",
              "      <td>59720</td>\n",
              "      <td>71950</td>\n",
              "      <td>83540</td>\n",
              "      <td>95790</td>\n",
              "      <td>NaN</td>\n",
              "      <td>NaN</td>\n",
              "      <td>NaN</td>\n",
              "      <td>NaN</td>\n",
              "    </tr>\n",
              "    <tr>\n",
              "      <th>3309</th>\n",
              "      <td>2007</td>\n",
              "      <td>311100</td>\n",
              "      <td>Animal Food Manufacturing</td>\n",
              "      <td>173026</td>\n",
              "      <td>Industrial engineering technicians</td>\n",
              "      <td>NaN</td>\n",
              "      <td>40</td>\n",
              "      <td>21.2</td>\n",
              "      <td>0.08</td>\n",
              "      <td>~</td>\n",
              "      <td>...</td>\n",
              "      <td>29.06</td>\n",
              "      <td>30670</td>\n",
              "      <td>39260</td>\n",
              "      <td>44870</td>\n",
              "      <td>52150</td>\n",
              "      <td>60450</td>\n",
              "      <td>NaN</td>\n",
              "      <td>NaN</td>\n",
              "      <td>NaN</td>\n",
              "      <td>NaN</td>\n",
              "    </tr>\n",
              "    <tr>\n",
              "      <th>3310</th>\n",
              "      <td>2007</td>\n",
              "      <td>311100</td>\n",
              "      <td>Animal Food Manufacturing</td>\n",
              "      <td>19-0000</td>\n",
              "      <td>Life, physical, and social science occupations</td>\n",
              "      <td>major</td>\n",
              "      <td>860</td>\n",
              "      <td>11.8</td>\n",
              "      <td>1.71</td>\n",
              "      <td>9</td>\n",
              "      <td>...</td>\n",
              "      <td>43.31</td>\n",
              "      <td>26160</td>\n",
              "      <td>35350</td>\n",
              "      <td>47350</td>\n",
              "      <td>70530</td>\n",
              "      <td>90080</td>\n",
              "      <td>NaN</td>\n",
              "      <td>NaN</td>\n",
              "      <td>NaN</td>\n",
              "      <td>NaN</td>\n",
              "    </tr>\n",
              "    <tr>\n",
              "      <th>3311</th>\n",
              "      <td>2007</td>\n",
              "      <td>311100</td>\n",
              "      <td>Animal Food Manufacturing</td>\n",
              "      <td>191012</td>\n",
              "      <td>Food scientists and technologists</td>\n",
              "      <td>NaN</td>\n",
              "      <td>270</td>\n",
              "      <td>29.5</td>\n",
              "      <td>0.54</td>\n",
              "      <td>6</td>\n",
              "      <td>...</td>\n",
              "      <td>45.85</td>\n",
              "      <td>32790</td>\n",
              "      <td>47470</td>\n",
              "      <td>67150</td>\n",
              "      <td>76130</td>\n",
              "      <td>95370</td>\n",
              "      <td>NaN</td>\n",
              "      <td>NaN</td>\n",
              "      <td>NaN</td>\n",
              "      <td>NaN</td>\n",
              "    </tr>\n",
              "    <tr>\n",
              "      <th>3312</th>\n",
              "      <td>2007</td>\n",
              "      <td>311100</td>\n",
              "      <td>Animal Food Manufacturing</td>\n",
              "      <td>192031</td>\n",
              "      <td>Chemists</td>\n",
              "      <td>NaN</td>\n",
              "      <td>100</td>\n",
              "      <td>29.7</td>\n",
              "      <td>0.20</td>\n",
              "      <td>1</td>\n",
              "      <td>...</td>\n",
              "      <td>47.80</td>\n",
              "      <td>36710</td>\n",
              "      <td>41530</td>\n",
              "      <td>47350</td>\n",
              "      <td>72610</td>\n",
              "      <td>99430</td>\n",
              "      <td>NaN</td>\n",
              "      <td>NaN</td>\n",
              "      <td>NaN</td>\n",
              "      <td>NaN</td>\n",
              "    </tr>\n",
              "    <tr>\n",
              "      <th>3313</th>\n",
              "      <td>2007</td>\n",
              "      <td>311100</td>\n",
              "      <td>Animal Food Manufacturing</td>\n",
              "      <td>193021</td>\n",
              "      <td>Market research analysts</td>\n",
              "      <td>NaN</td>\n",
              "      <td>30</td>\n",
              "      <td>10.1</td>\n",
              "      <td>0.06</td>\n",
              "      <td>1</td>\n",
              "      <td>...</td>\n",
              "      <td>45.80</td>\n",
              "      <td>36850</td>\n",
              "      <td>46030</td>\n",
              "      <td>60750</td>\n",
              "      <td>78110</td>\n",
              "      <td>95270</td>\n",
              "      <td>NaN</td>\n",
              "      <td>NaN</td>\n",
              "      <td>NaN</td>\n",
              "      <td>NaN</td>\n",
              "    </tr>\n",
              "    <tr>\n",
              "      <th>...</th>\n",
              "      <td>...</td>\n",
              "      <td>...</td>\n",
              "      <td>...</td>\n",
              "      <td>...</td>\n",
              "      <td>...</td>\n",
              "      <td>...</td>\n",
              "      <td>...</td>\n",
              "      <td>...</td>\n",
              "      <td>...</td>\n",
              "      <td>...</td>\n",
              "      <td>...</td>\n",
              "      <td>...</td>\n",
              "      <td>...</td>\n",
              "      <td>...</td>\n",
              "      <td>...</td>\n",
              "      <td>...</td>\n",
              "      <td>...</td>\n",
              "      <td>...</td>\n",
              "      <td>...</td>\n",
              "      <td>...</td>\n",
              "      <td>...</td>\n",
              "    </tr>\n",
              "    <tr>\n",
              "      <th>613993</th>\n",
              "      <td>2016</td>\n",
              "      <td>339900</td>\n",
              "      <td>Other Miscellaneous Manufacturing</td>\n",
              "      <td>519150</td>\n",
              "      <td>Photographic Process Workers and Processing Ma...</td>\n",
              "      <td>NaN</td>\n",
              "      <td>70</td>\n",
              "      <td>39.8</td>\n",
              "      <td>0.02</td>\n",
              "      <td>~</td>\n",
              "      <td>...</td>\n",
              "      <td>39.23</td>\n",
              "      <td>26,770</td>\n",
              "      <td>31,200</td>\n",
              "      <td>43,790</td>\n",
              "      <td>67,930</td>\n",
              "      <td>81,600</td>\n",
              "      <td>NaN</td>\n",
              "      <td>NaN</td>\n",
              "      <td>broad</td>\n",
              "      <td>339900 - Other Miscellaneous Manufacturing</td>\n",
              "    </tr>\n",
              "    <tr>\n",
              "      <th>613994</th>\n",
              "      <td>2016</td>\n",
              "      <td>339900</td>\n",
              "      <td>Other Miscellaneous Manufacturing</td>\n",
              "      <td>519151</td>\n",
              "      <td>Photographic Process Workers and Processing Ma...</td>\n",
              "      <td>NaN</td>\n",
              "      <td>70</td>\n",
              "      <td>39.8</td>\n",
              "      <td>0.02</td>\n",
              "      <td>~</td>\n",
              "      <td>...</td>\n",
              "      <td>39.23</td>\n",
              "      <td>26,770</td>\n",
              "      <td>31,200</td>\n",
              "      <td>43,790</td>\n",
              "      <td>67,930</td>\n",
              "      <td>81,600</td>\n",
              "      <td>NaN</td>\n",
              "      <td>NaN</td>\n",
              "      <td>detailed</td>\n",
              "      <td>339900 - Other Miscellaneous Manufacturing</td>\n",
              "    </tr>\n",
              "    <tr>\n",
              "      <th>613995</th>\n",
              "      <td>2016</td>\n",
              "      <td>339900</td>\n",
              "      <td>Other Miscellaneous Manufacturing</td>\n",
              "      <td>519190</td>\n",
              "      <td>Miscellaneous Production Workers</td>\n",
              "      <td>NaN</td>\n",
              "      <td>12,890</td>\n",
              "      <td>4.0</td>\n",
              "      <td>4.55</td>\n",
              "      <td>~</td>\n",
              "      <td>...</td>\n",
              "      <td>21.98</td>\n",
              "      <td>19,320</td>\n",
              "      <td>21,940</td>\n",
              "      <td>27,460</td>\n",
              "      <td>35,590</td>\n",
              "      <td>45,710</td>\n",
              "      <td>NaN</td>\n",
              "      <td>NaN</td>\n",
              "      <td>broad</td>\n",
              "      <td>339900 - Other Miscellaneous Manufacturing</td>\n",
              "    </tr>\n",
              "    <tr>\n",
              "      <th>613996</th>\n",
              "      <td>2016</td>\n",
              "      <td>339900</td>\n",
              "      <td>Other Miscellaneous Manufacturing</td>\n",
              "      <td>519191</td>\n",
              "      <td>Adhesive Bonding Machine Operators and Tenders</td>\n",
              "      <td>NaN</td>\n",
              "      <td>210</td>\n",
              "      <td>24.3</td>\n",
              "      <td>0.07</td>\n",
              "      <td>~</td>\n",
              "      <td>...</td>\n",
              "      <td>25.42</td>\n",
              "      <td>21,640</td>\n",
              "      <td>26,000</td>\n",
              "      <td>30,750</td>\n",
              "      <td>37,170</td>\n",
              "      <td>52,870</td>\n",
              "      <td>NaN</td>\n",
              "      <td>NaN</td>\n",
              "      <td>detailed</td>\n",
              "      <td>339900 - Other Miscellaneous Manufacturing</td>\n",
              "    </tr>\n",
              "    <tr>\n",
              "      <th>613997</th>\n",
              "      <td>2016</td>\n",
              "      <td>339900</td>\n",
              "      <td>Other Miscellaneous Manufacturing</td>\n",
              "      <td>519192</td>\n",
              "      <td>Cleaning, Washing, and Metal Pickling Equipmen...</td>\n",
              "      <td>NaN</td>\n",
              "      <td>80</td>\n",
              "      <td>43.2</td>\n",
              "      <td>0.03</td>\n",
              "      <td>~</td>\n",
              "      <td>...</td>\n",
              "      <td>21.39</td>\n",
              "      <td>25,800</td>\n",
              "      <td>28,610</td>\n",
              "      <td>33,370</td>\n",
              "      <td>39,110</td>\n",
              "      <td>44,500</td>\n",
              "      <td>NaN</td>\n",
              "      <td>NaN</td>\n",
              "      <td>detailed</td>\n",
              "      <td>339900 - Other Miscellaneous Manufacturing</td>\n",
              "    </tr>\n",
              "    <tr>\n",
              "      <th>613998</th>\n",
              "      <td>2016</td>\n",
              "      <td>339900</td>\n",
              "      <td>Other Miscellaneous Manufacturing</td>\n",
              "      <td>519194</td>\n",
              "      <td>Etchers and Engravers</td>\n",
              "      <td>NaN</td>\n",
              "      <td>1,410</td>\n",
              "      <td>13.9</td>\n",
              "      <td>0.50</td>\n",
              "      <td>3</td>\n",
              "      <td>...</td>\n",
              "      <td>27.15</td>\n",
              "      <td>20,800</td>\n",
              "      <td>23,770</td>\n",
              "      <td>30,620</td>\n",
              "      <td>42,780</td>\n",
              "      <td>56,470</td>\n",
              "      <td>NaN</td>\n",
              "      <td>NaN</td>\n",
              "      <td>detailed</td>\n",
              "      <td>339900 - Other Miscellaneous Manufacturing</td>\n",
              "    </tr>\n",
              "    <tr>\n",
              "      <th>613999</th>\n",
              "      <td>2016</td>\n",
              "      <td>339900</td>\n",
              "      <td>Other Miscellaneous Manufacturing</td>\n",
              "      <td>519195</td>\n",
              "      <td>Molders, Shapers, and Casters, Except Metal an...</td>\n",
              "      <td>NaN</td>\n",
              "      <td>1,470</td>\n",
              "      <td>14.2</td>\n",
              "      <td>0.52</td>\n",
              "      <td>1</td>\n",
              "      <td>...</td>\n",
              "      <td>22.01</td>\n",
              "      <td>20,810</td>\n",
              "      <td>22,440</td>\n",
              "      <td>28,340</td>\n",
              "      <td>36,460</td>\n",
              "      <td>45,780</td>\n",
              "      <td>NaN</td>\n",
              "      <td>NaN</td>\n",
              "      <td>detailed</td>\n",
              "      <td>339900 - Other Miscellaneous Manufacturing</td>\n",
              "    </tr>\n",
              "    <tr>\n",
              "      <th>614000</th>\n",
              "      <td>2016</td>\n",
              "      <td>339900</td>\n",
              "      <td>Other Miscellaneous Manufacturing</td>\n",
              "      <td>519196</td>\n",
              "      <td>Paper Goods Machine Setters, Operators, and Te...</td>\n",
              "      <td>NaN</td>\n",
              "      <td>**</td>\n",
              "      <td>**</td>\n",
              "      <td>**</td>\n",
              "      <td>~</td>\n",
              "      <td>...</td>\n",
              "      <td>31.67</td>\n",
              "      <td>17,840</td>\n",
              "      <td>22,030</td>\n",
              "      <td>33,870</td>\n",
              "      <td>48,490</td>\n",
              "      <td>65,880</td>\n",
              "      <td>NaN</td>\n",
              "      <td>NaN</td>\n",
              "      <td>detailed</td>\n",
              "      <td>339900 - Other Miscellaneous Manufacturing</td>\n",
              "    </tr>\n",
              "    <tr>\n",
              "      <th>614001</th>\n",
              "      <td>2016</td>\n",
              "      <td>339900</td>\n",
              "      <td>Other Miscellaneous Manufacturing</td>\n",
              "      <td>519198</td>\n",
              "      <td>Helpers--Production Workers</td>\n",
              "      <td>NaN</td>\n",
              "      <td>4,220</td>\n",
              "      <td>6.2</td>\n",
              "      <td>1.49</td>\n",
              "      <td>5</td>\n",
              "      <td>...</td>\n",
              "      <td>18.44</td>\n",
              "      <td>19,090</td>\n",
              "      <td>21,360</td>\n",
              "      <td>25,520</td>\n",
              "      <td>31,370</td>\n",
              "      <td>38,350</td>\n",
              "      <td>NaN</td>\n",
              "      <td>NaN</td>\n",
              "      <td>detailed</td>\n",
              "      <td>339900 - Other Miscellaneous Manufacturing</td>\n",
              "    </tr>\n",
              "    <tr>\n",
              "      <th>614002</th>\n",
              "      <td>2016</td>\n",
              "      <td>339900</td>\n",
              "      <td>Other Miscellaneous Manufacturing</td>\n",
              "      <td>519199</td>\n",
              "      <td>Production Workers, All Other</td>\n",
              "      <td>NaN</td>\n",
              "      <td>5,370</td>\n",
              "      <td>5.6</td>\n",
              "      <td>1.89</td>\n",
              "      <td>5</td>\n",
              "      <td>...</td>\n",
              "      <td>22.51</td>\n",
              "      <td>18,900</td>\n",
              "      <td>21,650</td>\n",
              "      <td>27,980</td>\n",
              "      <td>36,710</td>\n",
              "      <td>46,830</td>\n",
              "      <td>NaN</td>\n",
              "      <td>NaN</td>\n",
              "      <td>detailed</td>\n",
              "      <td>339900 - Other Miscellaneous Manufacturing</td>\n",
              "    </tr>\n",
              "    <tr>\n",
              "      <th>614003</th>\n",
              "      <td>2016</td>\n",
              "      <td>339900</td>\n",
              "      <td>Other Miscellaneous Manufacturing</td>\n",
              "      <td>53-0000</td>\n",
              "      <td>Transportation and Material Moving Occupations</td>\n",
              "      <td>NaN</td>\n",
              "      <td>13,210</td>\n",
              "      <td>4.1</td>\n",
              "      <td>4.66</td>\n",
              "      <td>11</td>\n",
              "      <td>...</td>\n",
              "      <td>21.75</td>\n",
              "      <td>19,490</td>\n",
              "      <td>22,390</td>\n",
              "      <td>28,320</td>\n",
              "      <td>36,080</td>\n",
              "      <td>45,230</td>\n",
              "      <td>NaN</td>\n",
              "      <td>NaN</td>\n",
              "      <td>major</td>\n",
              "      <td>339900 - Other Miscellaneous Manufacturing</td>\n",
              "    </tr>\n",
              "    <tr>\n",
              "      <th>614004</th>\n",
              "      <td>2016</td>\n",
              "      <td>339900</td>\n",
              "      <td>Other Miscellaneous Manufacturing</td>\n",
              "      <td>53-1000</td>\n",
              "      <td>Supervisors of Transportation and Material Mov...</td>\n",
              "      <td>NaN</td>\n",
              "      <td>680</td>\n",
              "      <td>6.8</td>\n",
              "      <td>0.24</td>\n",
              "      <td>~</td>\n",
              "      <td>...</td>\n",
              "      <td>38.35</td>\n",
              "      <td>32,140</td>\n",
              "      <td>40,910</td>\n",
              "      <td>50,430</td>\n",
              "      <td>64,460</td>\n",
              "      <td>79,760</td>\n",
              "      <td>NaN</td>\n",
              "      <td>NaN</td>\n",
              "      <td>minor</td>\n",
              "      <td>339900 - Other Miscellaneous Manufacturing</td>\n",
              "    </tr>\n",
              "    <tr>\n",
              "      <th>614005</th>\n",
              "      <td>2016</td>\n",
              "      <td>339900</td>\n",
              "      <td>Other Miscellaneous Manufacturing</td>\n",
              "      <td>531020</td>\n",
              "      <td>First-Line Supervisors of Helpers, Laborers, a...</td>\n",
              "      <td>NaN</td>\n",
              "      <td>470</td>\n",
              "      <td>6.7</td>\n",
              "      <td>0.17</td>\n",
              "      <td>~</td>\n",
              "      <td>...</td>\n",
              "      <td>36.59</td>\n",
              "      <td>29,980</td>\n",
              "      <td>37,910</td>\n",
              "      <td>48,120</td>\n",
              "      <td>61,340</td>\n",
              "      <td>76,100</td>\n",
              "      <td>NaN</td>\n",
              "      <td>NaN</td>\n",
              "      <td>broad</td>\n",
              "      <td>339900 - Other Miscellaneous Manufacturing</td>\n",
              "    </tr>\n",
              "    <tr>\n",
              "      <th>614006</th>\n",
              "      <td>2016</td>\n",
              "      <td>339900</td>\n",
              "      <td>Other Miscellaneous Manufacturing</td>\n",
              "      <td>531021</td>\n",
              "      <td>First-Line Supervisors of Helpers, Laborers, a...</td>\n",
              "      <td>NaN</td>\n",
              "      <td>470</td>\n",
              "      <td>6.7</td>\n",
              "      <td>0.17</td>\n",
              "      <td>2</td>\n",
              "      <td>...</td>\n",
              "      <td>36.59</td>\n",
              "      <td>29,980</td>\n",
              "      <td>37,910</td>\n",
              "      <td>48,120</td>\n",
              "      <td>61,340</td>\n",
              "      <td>76,100</td>\n",
              "      <td>NaN</td>\n",
              "      <td>NaN</td>\n",
              "      <td>detailed</td>\n",
              "      <td>339900 - Other Miscellaneous Manufacturing</td>\n",
              "    </tr>\n",
              "    <tr>\n",
              "      <th>614007</th>\n",
              "      <td>2016</td>\n",
              "      <td>339900</td>\n",
              "      <td>Other Miscellaneous Manufacturing</td>\n",
              "      <td>531030</td>\n",
              "      <td>First-Line Supervisors of Transportation and M...</td>\n",
              "      <td>NaN</td>\n",
              "      <td>210</td>\n",
              "      <td>15.7</td>\n",
              "      <td>0.07</td>\n",
              "      <td>~</td>\n",
              "      <td>...</td>\n",
              "      <td>43.51</td>\n",
              "      <td>40,240</td>\n",
              "      <td>46,310</td>\n",
              "      <td>56,310</td>\n",
              "      <td>72,950</td>\n",
              "      <td>90,500</td>\n",
              "      <td>NaN</td>\n",
              "      <td>NaN</td>\n",
              "      <td>broad</td>\n",
              "      <td>339900 - Other Miscellaneous Manufacturing</td>\n",
              "    </tr>\n",
              "    <tr>\n",
              "      <th>614008</th>\n",
              "      <td>2016</td>\n",
              "      <td>339900</td>\n",
              "      <td>Other Miscellaneous Manufacturing</td>\n",
              "      <td>531031</td>\n",
              "      <td>First-Line Supervisors of Transportation and M...</td>\n",
              "      <td>NaN</td>\n",
              "      <td>210</td>\n",
              "      <td>15.7</td>\n",
              "      <td>0.07</td>\n",
              "      <td>1</td>\n",
              "      <td>...</td>\n",
              "      <td>43.51</td>\n",
              "      <td>40,240</td>\n",
              "      <td>46,310</td>\n",
              "      <td>56,310</td>\n",
              "      <td>72,950</td>\n",
              "      <td>90,500</td>\n",
              "      <td>NaN</td>\n",
              "      <td>NaN</td>\n",
              "      <td>detailed</td>\n",
              "      <td>339900 - Other Miscellaneous Manufacturing</td>\n",
              "    </tr>\n",
              "    <tr>\n",
              "      <th>614009</th>\n",
              "      <td>2016</td>\n",
              "      <td>339900</td>\n",
              "      <td>Other Miscellaneous Manufacturing</td>\n",
              "      <td>53-3000</td>\n",
              "      <td>Motor Vehicle Operators</td>\n",
              "      <td>NaN</td>\n",
              "      <td>1,180</td>\n",
              "      <td>11.5</td>\n",
              "      <td>0.42</td>\n",
              "      <td>~</td>\n",
              "      <td>...</td>\n",
              "      <td>23.78</td>\n",
              "      <td>22,090</td>\n",
              "      <td>26,070</td>\n",
              "      <td>32,310</td>\n",
              "      <td>38,830</td>\n",
              "      <td>49,460</td>\n",
              "      <td>NaN</td>\n",
              "      <td>NaN</td>\n",
              "      <td>minor</td>\n",
              "      <td>339900 - Other Miscellaneous Manufacturing</td>\n",
              "    </tr>\n",
              "    <tr>\n",
              "      <th>614010</th>\n",
              "      <td>2016</td>\n",
              "      <td>339900</td>\n",
              "      <td>Other Miscellaneous Manufacturing</td>\n",
              "      <td>533030</td>\n",
              "      <td>Driver/Sales Workers and Truck Drivers</td>\n",
              "      <td>NaN</td>\n",
              "      <td>1,160</td>\n",
              "      <td>11.7</td>\n",
              "      <td>0.41</td>\n",
              "      <td>~</td>\n",
              "      <td>...</td>\n",
              "      <td>23.84</td>\n",
              "      <td>22,190</td>\n",
              "      <td>26,160</td>\n",
              "      <td>32,370</td>\n",
              "      <td>38,840</td>\n",
              "      <td>49,590</td>\n",
              "      <td>NaN</td>\n",
              "      <td>NaN</td>\n",
              "      <td>broad</td>\n",
              "      <td>339900 - Other Miscellaneous Manufacturing</td>\n",
              "    </tr>\n",
              "    <tr>\n",
              "      <th>614011</th>\n",
              "      <td>2016</td>\n",
              "      <td>339900</td>\n",
              "      <td>Other Miscellaneous Manufacturing</td>\n",
              "      <td>533032</td>\n",
              "      <td>Heavy and Tractor-Trailer Truck Drivers</td>\n",
              "      <td>NaN</td>\n",
              "      <td>330</td>\n",
              "      <td>27.6</td>\n",
              "      <td>0.12</td>\n",
              "      <td>1</td>\n",
              "      <td>...</td>\n",
              "      <td>26.19</td>\n",
              "      <td>28,110</td>\n",
              "      <td>33,470</td>\n",
              "      <td>37,730</td>\n",
              "      <td>44,420</td>\n",
              "      <td>54,480</td>\n",
              "      <td>NaN</td>\n",
              "      <td>NaN</td>\n",
              "      <td>detailed</td>\n",
              "      <td>339900 - Other Miscellaneous Manufacturing</td>\n",
              "    </tr>\n",
              "    <tr>\n",
              "      <th>614012</th>\n",
              "      <td>2016</td>\n",
              "      <td>339900</td>\n",
              "      <td>Other Miscellaneous Manufacturing</td>\n",
              "      <td>533033</td>\n",
              "      <td>Light Truck or Delivery Services Drivers</td>\n",
              "      <td>NaN</td>\n",
              "      <td>820</td>\n",
              "      <td>12.3</td>\n",
              "      <td>0.29</td>\n",
              "      <td>2</td>\n",
              "      <td>...</td>\n",
              "      <td>22.25</td>\n",
              "      <td>21,620</td>\n",
              "      <td>24,590</td>\n",
              "      <td>29,900</td>\n",
              "      <td>36,410</td>\n",
              "      <td>46,290</td>\n",
              "      <td>NaN</td>\n",
              "      <td>NaN</td>\n",
              "      <td>detailed</td>\n",
              "      <td>339900 - Other Miscellaneous Manufacturing</td>\n",
              "    </tr>\n",
              "    <tr>\n",
              "      <th>614013</th>\n",
              "      <td>2016</td>\n",
              "      <td>339900</td>\n",
              "      <td>Other Miscellaneous Manufacturing</td>\n",
              "      <td>53-7000</td>\n",
              "      <td>Material Moving Workers</td>\n",
              "      <td>NaN</td>\n",
              "      <td>11,340</td>\n",
              "      <td>4.4</td>\n",
              "      <td>4.00</td>\n",
              "      <td>~</td>\n",
              "      <td>...</td>\n",
              "      <td>19.49</td>\n",
              "      <td>19,210</td>\n",
              "      <td>21,800</td>\n",
              "      <td>27,250</td>\n",
              "      <td>34,260</td>\n",
              "      <td>40,530</td>\n",
              "      <td>NaN</td>\n",
              "      <td>NaN</td>\n",
              "      <td>minor</td>\n",
              "      <td>339900 - Other Miscellaneous Manufacturing</td>\n",
              "    </tr>\n",
              "    <tr>\n",
              "      <th>614014</th>\n",
              "      <td>2016</td>\n",
              "      <td>339900</td>\n",
              "      <td>Other Miscellaneous Manufacturing</td>\n",
              "      <td>537020</td>\n",
              "      <td>Crane and Tower Operators</td>\n",
              "      <td>NaN</td>\n",
              "      <td>100</td>\n",
              "      <td>22.0</td>\n",
              "      <td>0.03</td>\n",
              "      <td>~</td>\n",
              "      <td>...</td>\n",
              "      <td>23.80</td>\n",
              "      <td>27,070</td>\n",
              "      <td>30,400</td>\n",
              "      <td>35,430</td>\n",
              "      <td>40,490</td>\n",
              "      <td>49,510</td>\n",
              "      <td>NaN</td>\n",
              "      <td>NaN</td>\n",
              "      <td>broad</td>\n",
              "      <td>339900 - Other Miscellaneous Manufacturing</td>\n",
              "    </tr>\n",
              "    <tr>\n",
              "      <th>614015</th>\n",
              "      <td>2016</td>\n",
              "      <td>339900</td>\n",
              "      <td>Other Miscellaneous Manufacturing</td>\n",
              "      <td>537021</td>\n",
              "      <td>Crane and Tower Operators</td>\n",
              "      <td>NaN</td>\n",
              "      <td>100</td>\n",
              "      <td>22.0</td>\n",
              "      <td>0.03</td>\n",
              "      <td>~</td>\n",
              "      <td>...</td>\n",
              "      <td>23.80</td>\n",
              "      <td>27,070</td>\n",
              "      <td>30,400</td>\n",
              "      <td>35,430</td>\n",
              "      <td>40,490</td>\n",
              "      <td>49,510</td>\n",
              "      <td>NaN</td>\n",
              "      <td>NaN</td>\n",
              "      <td>detailed</td>\n",
              "      <td>339900 - Other Miscellaneous Manufacturing</td>\n",
              "    </tr>\n",
              "    <tr>\n",
              "      <th>614016</th>\n",
              "      <td>2016</td>\n",
              "      <td>339900</td>\n",
              "      <td>Other Miscellaneous Manufacturing</td>\n",
              "      <td>537050</td>\n",
              "      <td>Industrial Truck and Tractor Operators</td>\n",
              "      <td>NaN</td>\n",
              "      <td>1,390</td>\n",
              "      <td>9.1</td>\n",
              "      <td>0.49</td>\n",
              "      <td>~</td>\n",
              "      <td>...</td>\n",
              "      <td>22.35</td>\n",
              "      <td>22,000</td>\n",
              "      <td>26,060</td>\n",
              "      <td>32,040</td>\n",
              "      <td>38,260</td>\n",
              "      <td>46,490</td>\n",
              "      <td>NaN</td>\n",
              "      <td>NaN</td>\n",
              "      <td>broad</td>\n",
              "      <td>339900 - Other Miscellaneous Manufacturing</td>\n",
              "    </tr>\n",
              "    <tr>\n",
              "      <th>614017</th>\n",
              "      <td>2016</td>\n",
              "      <td>339900</td>\n",
              "      <td>Other Miscellaneous Manufacturing</td>\n",
              "      <td>537051</td>\n",
              "      <td>Industrial Truck and Tractor Operators</td>\n",
              "      <td>NaN</td>\n",
              "      <td>1,390</td>\n",
              "      <td>9.1</td>\n",
              "      <td>0.49</td>\n",
              "      <td>1</td>\n",
              "      <td>...</td>\n",
              "      <td>22.35</td>\n",
              "      <td>22,000</td>\n",
              "      <td>26,060</td>\n",
              "      <td>32,040</td>\n",
              "      <td>38,260</td>\n",
              "      <td>46,490</td>\n",
              "      <td>NaN</td>\n",
              "      <td>NaN</td>\n",
              "      <td>detailed</td>\n",
              "      <td>339900 - Other Miscellaneous Manufacturing</td>\n",
              "    </tr>\n",
              "    <tr>\n",
              "      <th>614018</th>\n",
              "      <td>2016</td>\n",
              "      <td>339900</td>\n",
              "      <td>Other Miscellaneous Manufacturing</td>\n",
              "      <td>537060</td>\n",
              "      <td>Laborers and Material Movers, Hand</td>\n",
              "      <td>NaN</td>\n",
              "      <td>9,820</td>\n",
              "      <td>4.7</td>\n",
              "      <td>3.46</td>\n",
              "      <td>~</td>\n",
              "      <td>...</td>\n",
              "      <td>19.11</td>\n",
              "      <td>18,970</td>\n",
              "      <td>21,320</td>\n",
              "      <td>26,470</td>\n",
              "      <td>33,130</td>\n",
              "      <td>39,740</td>\n",
              "      <td>NaN</td>\n",
              "      <td>NaN</td>\n",
              "      <td>broad</td>\n",
              "      <td>339900 - Other Miscellaneous Manufacturing</td>\n",
              "    </tr>\n",
              "    <tr>\n",
              "      <th>614019</th>\n",
              "      <td>2016</td>\n",
              "      <td>339900</td>\n",
              "      <td>Other Miscellaneous Manufacturing</td>\n",
              "      <td>537061</td>\n",
              "      <td>Cleaners of Vehicles and Equipment</td>\n",
              "      <td>NaN</td>\n",
              "      <td>30</td>\n",
              "      <td>46.8</td>\n",
              "      <td>0.01</td>\n",
              "      <td>~</td>\n",
              "      <td>...</td>\n",
              "      <td>33.58</td>\n",
              "      <td>18,730</td>\n",
              "      <td>21,130</td>\n",
              "      <td>27,220</td>\n",
              "      <td>36,810</td>\n",
              "      <td>69,850</td>\n",
              "      <td>NaN</td>\n",
              "      <td>NaN</td>\n",
              "      <td>detailed</td>\n",
              "      <td>339900 - Other Miscellaneous Manufacturing</td>\n",
              "    </tr>\n",
              "    <tr>\n",
              "      <th>614020</th>\n",
              "      <td>2016</td>\n",
              "      <td>339900</td>\n",
              "      <td>Other Miscellaneous Manufacturing</td>\n",
              "      <td>537062</td>\n",
              "      <td>Laborers and Freight, Stock, and Material Move...</td>\n",
              "      <td>NaN</td>\n",
              "      <td>5,090</td>\n",
              "      <td>5.7</td>\n",
              "      <td>1.80</td>\n",
              "      <td>5</td>\n",
              "      <td>...</td>\n",
              "      <td>20.43</td>\n",
              "      <td>20,090</td>\n",
              "      <td>23,180</td>\n",
              "      <td>28,580</td>\n",
              "      <td>35,470</td>\n",
              "      <td>42,500</td>\n",
              "      <td>NaN</td>\n",
              "      <td>NaN</td>\n",
              "      <td>detailed</td>\n",
              "      <td>339900 - Other Miscellaneous Manufacturing</td>\n",
              "    </tr>\n",
              "    <tr>\n",
              "      <th>614021</th>\n",
              "      <td>2016</td>\n",
              "      <td>339900</td>\n",
              "      <td>Other Miscellaneous Manufacturing</td>\n",
              "      <td>537063</td>\n",
              "      <td>Machine Feeders and Offbearers</td>\n",
              "      <td>NaN</td>\n",
              "      <td>930</td>\n",
              "      <td>21.5</td>\n",
              "      <td>0.33</td>\n",
              "      <td>~</td>\n",
              "      <td>...</td>\n",
              "      <td>18.65</td>\n",
              "      <td>18,490</td>\n",
              "      <td>20,820</td>\n",
              "      <td>25,380</td>\n",
              "      <td>33,330</td>\n",
              "      <td>38,790</td>\n",
              "      <td>NaN</td>\n",
              "      <td>NaN</td>\n",
              "      <td>detailed</td>\n",
              "      <td>339900 - Other Miscellaneous Manufacturing</td>\n",
              "    </tr>\n",
              "    <tr>\n",
              "      <th>614022</th>\n",
              "      <td>2016</td>\n",
              "      <td>339900</td>\n",
              "      <td>Other Miscellaneous Manufacturing</td>\n",
              "      <td>537064</td>\n",
              "      <td>Packers and Packagers, Hand</td>\n",
              "      <td>NaN</td>\n",
              "      <td>3,760</td>\n",
              "      <td>6.8</td>\n",
              "      <td>1.33</td>\n",
              "      <td>4</td>\n",
              "      <td>...</td>\n",
              "      <td>17.78</td>\n",
              "      <td>18,190</td>\n",
              "      <td>20,550</td>\n",
              "      <td>23,950</td>\n",
              "      <td>29,990</td>\n",
              "      <td>36,980</td>\n",
              "      <td>NaN</td>\n",
              "      <td>NaN</td>\n",
              "      <td>detailed</td>\n",
              "      <td>339900 - Other Miscellaneous Manufacturing</td>\n",
              "    </tr>\n",
              "  </tbody>\n",
              "</table>\n",
              "<p>177634 rows × 27 columns</p>\n",
              "</div>"
            ],
            "text/plain": [
              "        year   naics                        naics_title occ_code  \\\n",
              "3284    2007  311100          Animal Food Manufacturing  00-0000   \n",
              "3285    2007  311100          Animal Food Manufacturing  11-0000   \n",
              "3286    2007  311100          Animal Food Manufacturing   111011   \n",
              "3287    2007  311100          Animal Food Manufacturing   111021   \n",
              "3288    2007  311100          Animal Food Manufacturing   112022   \n",
              "3289    2007  311100          Animal Food Manufacturing   113031   \n",
              "3290    2007  311100          Animal Food Manufacturing   113051   \n",
              "3291    2007  311100          Animal Food Manufacturing   113061   \n",
              "3292    2007  311100          Animal Food Manufacturing   113071   \n",
              "3293    2007  311100          Animal Food Manufacturing   119199   \n",
              "3294    2007  311100          Animal Food Manufacturing  13-0000   \n",
              "3295    2007  311100          Animal Food Manufacturing   131021   \n",
              "3296    2007  311100          Animal Food Manufacturing   131023   \n",
              "3297    2007  311100          Animal Food Manufacturing   131072   \n",
              "3298    2007  311100          Animal Food Manufacturing   131081   \n",
              "3299    2007  311100          Animal Food Manufacturing   131199   \n",
              "3300    2007  311100          Animal Food Manufacturing   132011   \n",
              "3301    2007  311100          Animal Food Manufacturing  15-0000   \n",
              "3302    2007  311100          Animal Food Manufacturing   151021   \n",
              "3303    2007  311100          Animal Food Manufacturing   151041   \n",
              "3304    2007  311100          Animal Food Manufacturing   151071   \n",
              "3305    2007  311100          Animal Food Manufacturing  17-0000   \n",
              "3306    2007  311100          Animal Food Manufacturing   172041   \n",
              "3307    2007  311100          Animal Food Manufacturing   172112   \n",
              "3308    2007  311100          Animal Food Manufacturing   172141   \n",
              "3309    2007  311100          Animal Food Manufacturing   173026   \n",
              "3310    2007  311100          Animal Food Manufacturing  19-0000   \n",
              "3311    2007  311100          Animal Food Manufacturing   191012   \n",
              "3312    2007  311100          Animal Food Manufacturing   192031   \n",
              "3313    2007  311100          Animal Food Manufacturing   193021   \n",
              "...      ...     ...                                ...      ...   \n",
              "613993  2016  339900  Other Miscellaneous Manufacturing   519150   \n",
              "613994  2016  339900  Other Miscellaneous Manufacturing   519151   \n",
              "613995  2016  339900  Other Miscellaneous Manufacturing   519190   \n",
              "613996  2016  339900  Other Miscellaneous Manufacturing   519191   \n",
              "613997  2016  339900  Other Miscellaneous Manufacturing   519192   \n",
              "613998  2016  339900  Other Miscellaneous Manufacturing   519194   \n",
              "613999  2016  339900  Other Miscellaneous Manufacturing   519195   \n",
              "614000  2016  339900  Other Miscellaneous Manufacturing   519196   \n",
              "614001  2016  339900  Other Miscellaneous Manufacturing   519198   \n",
              "614002  2016  339900  Other Miscellaneous Manufacturing   519199   \n",
              "614003  2016  339900  Other Miscellaneous Manufacturing  53-0000   \n",
              "614004  2016  339900  Other Miscellaneous Manufacturing  53-1000   \n",
              "614005  2016  339900  Other Miscellaneous Manufacturing   531020   \n",
              "614006  2016  339900  Other Miscellaneous Manufacturing   531021   \n",
              "614007  2016  339900  Other Miscellaneous Manufacturing   531030   \n",
              "614008  2016  339900  Other Miscellaneous Manufacturing   531031   \n",
              "614009  2016  339900  Other Miscellaneous Manufacturing  53-3000   \n",
              "614010  2016  339900  Other Miscellaneous Manufacturing   533030   \n",
              "614011  2016  339900  Other Miscellaneous Manufacturing   533032   \n",
              "614012  2016  339900  Other Miscellaneous Manufacturing   533033   \n",
              "614013  2016  339900  Other Miscellaneous Manufacturing  53-7000   \n",
              "614014  2016  339900  Other Miscellaneous Manufacturing   537020   \n",
              "614015  2016  339900  Other Miscellaneous Manufacturing   537021   \n",
              "614016  2016  339900  Other Miscellaneous Manufacturing   537050   \n",
              "614017  2016  339900  Other Miscellaneous Manufacturing   537051   \n",
              "614018  2016  339900  Other Miscellaneous Manufacturing   537060   \n",
              "614019  2016  339900  Other Miscellaneous Manufacturing   537061   \n",
              "614020  2016  339900  Other Miscellaneous Manufacturing   537062   \n",
              "614021  2016  339900  Other Miscellaneous Manufacturing   537063   \n",
              "614022  2016  339900  Other Miscellaneous Manufacturing   537064   \n",
              "\n",
              "                                                occ_title  group tot_emp  \\\n",
              "3284                                       Industry Total    NaN   50210   \n",
              "3285                               Management occupations  major    2120   \n",
              "3286                                     Chief executives    NaN     100   \n",
              "3287                      General and operations managers    NaN     940   \n",
              "3288                                       Sales managers    NaN     110   \n",
              "3289                                   Financial managers    NaN     100   \n",
              "3290                       Industrial production managers    NaN     550   \n",
              "3291                                  Purchasing managers    NaN      30   \n",
              "3292    Transportation, storage, and distribution mana...    NaN     110   \n",
              "3293                                  Managers, all other    NaN      40   \n",
              "3294        Business and financial operations occupations  major     930   \n",
              "3295          Purchasing agents and buyers, farm products    NaN     130   \n",
              "3296    Purchasing agents, except wholesale, retail, a...    NaN     200   \n",
              "3297    Compensation, benefits, and job analysis speci...    NaN      30   \n",
              "3298                                         Logisticians    NaN      40   \n",
              "3299           Business operations specialists, all other    NaN     110   \n",
              "3300                             Accountants and auditors    NaN     290   \n",
              "3301                Computer and mathematical occupations  major     220   \n",
              "3302                                 Computer programmers    NaN      40   \n",
              "3303                         Computer support specialists    NaN      90   \n",
              "3304          Network and computer systems administrators    NaN      30   \n",
              "3305             Architecture and engineering occupations  major     290   \n",
              "3306                                   Chemical engineers    NaN      50   \n",
              "3307                                 Industrial engineers    NaN      90   \n",
              "3308                                 Mechanical engineers    NaN      30   \n",
              "3309                   Industrial engineering technicians    NaN      40   \n",
              "3310       Life, physical, and social science occupations  major     860   \n",
              "3311                    Food scientists and technologists    NaN     270   \n",
              "3312                                             Chemists    NaN     100   \n",
              "3313                             Market research analysts    NaN      30   \n",
              "...                                                   ...    ...     ...   \n",
              "613993  Photographic Process Workers and Processing Ma...    NaN      70   \n",
              "613994  Photographic Process Workers and Processing Ma...    NaN      70   \n",
              "613995                   Miscellaneous Production Workers    NaN  12,890   \n",
              "613996     Adhesive Bonding Machine Operators and Tenders    NaN     210   \n",
              "613997  Cleaning, Washing, and Metal Pickling Equipmen...    NaN      80   \n",
              "613998                              Etchers and Engravers    NaN   1,410   \n",
              "613999  Molders, Shapers, and Casters, Except Metal an...    NaN   1,470   \n",
              "614000  Paper Goods Machine Setters, Operators, and Te...    NaN      **   \n",
              "614001                        Helpers--Production Workers    NaN   4,220   \n",
              "614002                      Production Workers, All Other    NaN   5,370   \n",
              "614003     Transportation and Material Moving Occupations    NaN  13,210   \n",
              "614004  Supervisors of Transportation and Material Mov...    NaN     680   \n",
              "614005  First-Line Supervisors of Helpers, Laborers, a...    NaN     470   \n",
              "614006  First-Line Supervisors of Helpers, Laborers, a...    NaN     470   \n",
              "614007  First-Line Supervisors of Transportation and M...    NaN     210   \n",
              "614008  First-Line Supervisors of Transportation and M...    NaN     210   \n",
              "614009                            Motor Vehicle Operators    NaN   1,180   \n",
              "614010             Driver/Sales Workers and Truck Drivers    NaN   1,160   \n",
              "614011            Heavy and Tractor-Trailer Truck Drivers    NaN     330   \n",
              "614012           Light Truck or Delivery Services Drivers    NaN     820   \n",
              "614013                            Material Moving Workers    NaN  11,340   \n",
              "614014                          Crane and Tower Operators    NaN     100   \n",
              "614015                          Crane and Tower Operators    NaN     100   \n",
              "614016             Industrial Truck and Tractor Operators    NaN   1,390   \n",
              "614017             Industrial Truck and Tractor Operators    NaN   1,390   \n",
              "614018                 Laborers and Material Movers, Hand    NaN   9,820   \n",
              "614019                 Cleaners of Vehicles and Equipment    NaN      30   \n",
              "614020  Laborers and Freight, Stock, and Material Move...    NaN   5,090   \n",
              "614021                     Machine Feeders and Offbearers    NaN     930   \n",
              "614022                        Packers and Packagers, Hand    NaN   3,760   \n",
              "\n",
              "       emp_prse pct_total pct_rpt                     ...                      \\\n",
              "3284        3.3    100.00     100                     ...                       \n",
              "3285        4.4      4.22      30                     ...                       \n",
              "3286       11.8      0.20       3                     ...                       \n",
              "3287        5.4      1.87      22                     ...                       \n",
              "3288       10.2      0.22       3                     ...                       \n",
              "3289       12.8      0.20       3                     ...                       \n",
              "3290        7.4      1.10      13                     ...                       \n",
              "3291       13.1      0.06       1                     ...                       \n",
              "3292       10.9      0.22       3                     ...                       \n",
              "3293       13.8      0.08       1                     ...                       \n",
              "3294        6.9      1.85      15                     ...                       \n",
              "3295       11.7      0.26       3                     ...                       \n",
              "3296       13.4      0.40       5                     ...                       \n",
              "3297       47.8      0.06       1                     ...                       \n",
              "3298       16.6      0.08       1                     ...                       \n",
              "3299       29.1      0.22       2                     ...                       \n",
              "3300        7.2      0.58       8                     ...                       \n",
              "3301       17.1      0.44       2                     ...                       \n",
              "3302       44.6      0.08       ~                     ...                       \n",
              "3303       20.3      0.18       1                     ...                       \n",
              "3304       19.0      0.06       1                     ...                       \n",
              "3305       12.5      0.58       2                     ...                       \n",
              "3306       33.5      0.10       ~                     ...                       \n",
              "3307       10.6      0.18       1                     ...                       \n",
              "3308       26.8      0.06       ~                     ...                       \n",
              "3309       21.2      0.08       ~                     ...                       \n",
              "3310       11.8      1.71       9                     ...                       \n",
              "3311       29.5      0.54       6                     ...                       \n",
              "3312       29.7      0.20       1                     ...                       \n",
              "3313       10.1      0.06       1                     ...                       \n",
              "...         ...       ...     ...                     ...                       \n",
              "613993     39.8      0.02       ~                     ...                       \n",
              "613994     39.8      0.02       ~                     ...                       \n",
              "613995      4.0      4.55       ~                     ...                       \n",
              "613996     24.3      0.07       ~                     ...                       \n",
              "613997     43.2      0.03       ~                     ...                       \n",
              "613998     13.9      0.50       3                     ...                       \n",
              "613999     14.2      0.52       1                     ...                       \n",
              "614000       **        **       ~                     ...                       \n",
              "614001      6.2      1.49       5                     ...                       \n",
              "614002      5.6      1.89       5                     ...                       \n",
              "614003      4.1      4.66      11                     ...                       \n",
              "614004      6.8      0.24       ~                     ...                       \n",
              "614005      6.7      0.17       ~                     ...                       \n",
              "614006      6.7      0.17       2                     ...                       \n",
              "614007     15.7      0.07       ~                     ...                       \n",
              "614008     15.7      0.07       1                     ...                       \n",
              "614009     11.5      0.42       ~                     ...                       \n",
              "614010     11.7      0.41       ~                     ...                       \n",
              "614011     27.6      0.12       1                     ...                       \n",
              "614012     12.3      0.29       2                     ...                       \n",
              "614013      4.4      4.00       ~                     ...                       \n",
              "614014     22.0      0.03       ~                     ...                       \n",
              "614015     22.0      0.03       ~                     ...                       \n",
              "614016      9.1      0.49       ~                     ...                       \n",
              "614017      9.1      0.49       1                     ...                       \n",
              "614018      4.7      3.46       ~                     ...                       \n",
              "614019     46.8      0.01       ~                     ...                       \n",
              "614020      5.7      1.80       5                     ...                       \n",
              "614021     21.5      0.33       ~                     ...                       \n",
              "614022      6.8      1.33       4                     ...                       \n",
              "\n",
              "       h_pct90 a_pct10 a_pct25 a_median a_pct75 a_pct90 annual hourly  \\\n",
              "3284     27.68   18010   22770    30810   41090   57580    NaN    NaN   \n",
              "3285         #   43170   57930    78920  111740       #    NaN    NaN   \n",
              "3286         #   55350   76500   132360       #       #    NaN    NaN   \n",
              "3287         #   43330   57150    76630  109350       #    NaN    NaN   \n",
              "3288         #   51520   73490    96040  126240       #    NaN    NaN   \n",
              "3289         #   54420   72230    93280  122270       #    NaN    NaN   \n",
              "3290     67.52   41760   56350    74140   96630  140450    NaN    NaN   \n",
              "3291     63.61   37270   52380    88430  114960  132300    NaN    NaN   \n",
              "3292     56.87   37170   51660    66430   87520  118280    NaN    NaN   \n",
              "3293         #   56190   73990   101380       #       #    NaN    NaN   \n",
              "3294     40.53   33310   41790    52260   65650   84300    NaN    NaN   \n",
              "3295     40.06   38580   44850    53940   65830   83320    NaN    NaN   \n",
              "3296     38.43   33550   40490    51720   64770   79930    NaN    NaN   \n",
              "3297     41.92   30350   37900    50240   63480   87200    NaN    NaN   \n",
              "3298     46.33   26680   41800    52010   72850   96370    NaN    NaN   \n",
              "3299     39.41   32220   39190    49870   66920   81980    NaN    NaN   \n",
              "3300     41.35   36360   44110    54360   67310   86010    NaN    NaN   \n",
              "3301     47.28   32020   44080    57570   76340   98350    NaN    NaN   \n",
              "3302     55.70   48840   70590    88450  102650  115860    NaN    NaN   \n",
              "3303     29.39   26080   35730    48920   56240   61130    NaN    NaN   \n",
              "3304     49.85   39890   53270    61980   84140  103700    NaN    NaN   \n",
              "3305     46.60   42710   50890    66760   81180   96930    NaN    NaN   \n",
              "3306     53.89   53030   62880    74980   89160  112090    NaN    NaN   \n",
              "3307     49.97   53370   62680    75870   91430  103940    NaN    NaN   \n",
              "3308     46.05   52710   59720    71950   83540   95790    NaN    NaN   \n",
              "3309     29.06   30670   39260    44870   52150   60450    NaN    NaN   \n",
              "3310     43.31   26160   35350    47350   70530   90080    NaN    NaN   \n",
              "3311     45.85   32790   47470    67150   76130   95370    NaN    NaN   \n",
              "3312     47.80   36710   41530    47350   72610   99430    NaN    NaN   \n",
              "3313     45.80   36850   46030    60750   78110   95270    NaN    NaN   \n",
              "...        ...     ...     ...      ...     ...     ...    ...    ...   \n",
              "613993   39.23  26,770  31,200   43,790  67,930  81,600    NaN    NaN   \n",
              "613994   39.23  26,770  31,200   43,790  67,930  81,600    NaN    NaN   \n",
              "613995   21.98  19,320  21,940   27,460  35,590  45,710    NaN    NaN   \n",
              "613996   25.42  21,640  26,000   30,750  37,170  52,870    NaN    NaN   \n",
              "613997   21.39  25,800  28,610   33,370  39,110  44,500    NaN    NaN   \n",
              "613998   27.15  20,800  23,770   30,620  42,780  56,470    NaN    NaN   \n",
              "613999   22.01  20,810  22,440   28,340  36,460  45,780    NaN    NaN   \n",
              "614000   31.67  17,840  22,030   33,870  48,490  65,880    NaN    NaN   \n",
              "614001   18.44  19,090  21,360   25,520  31,370  38,350    NaN    NaN   \n",
              "614002   22.51  18,900  21,650   27,980  36,710  46,830    NaN    NaN   \n",
              "614003   21.75  19,490  22,390   28,320  36,080  45,230    NaN    NaN   \n",
              "614004   38.35  32,140  40,910   50,430  64,460  79,760    NaN    NaN   \n",
              "614005   36.59  29,980  37,910   48,120  61,340  76,100    NaN    NaN   \n",
              "614006   36.59  29,980  37,910   48,120  61,340  76,100    NaN    NaN   \n",
              "614007   43.51  40,240  46,310   56,310  72,950  90,500    NaN    NaN   \n",
              "614008   43.51  40,240  46,310   56,310  72,950  90,500    NaN    NaN   \n",
              "614009   23.78  22,090  26,070   32,310  38,830  49,460    NaN    NaN   \n",
              "614010   23.84  22,190  26,160   32,370  38,840  49,590    NaN    NaN   \n",
              "614011   26.19  28,110  33,470   37,730  44,420  54,480    NaN    NaN   \n",
              "614012   22.25  21,620  24,590   29,900  36,410  46,290    NaN    NaN   \n",
              "614013   19.49  19,210  21,800   27,250  34,260  40,530    NaN    NaN   \n",
              "614014   23.80  27,070  30,400   35,430  40,490  49,510    NaN    NaN   \n",
              "614015   23.80  27,070  30,400   35,430  40,490  49,510    NaN    NaN   \n",
              "614016   22.35  22,000  26,060   32,040  38,260  46,490    NaN    NaN   \n",
              "614017   22.35  22,000  26,060   32,040  38,260  46,490    NaN    NaN   \n",
              "614018   19.11  18,970  21,320   26,470  33,130  39,740    NaN    NaN   \n",
              "614019   33.58  18,730  21,130   27,220  36,810  69,850    NaN    NaN   \n",
              "614020   20.43  20,090  23,180   28,580  35,470  42,500    NaN    NaN   \n",
              "614021   18.65  18,490  20,820   25,380  33,330  38,790    NaN    NaN   \n",
              "614022   17.78  18,190  20,550   23,950  29,990  36,980    NaN    NaN   \n",
              "\n",
              "       occ_group                                  full_naics  \n",
              "3284         NaN                                         NaN  \n",
              "3285         NaN                                         NaN  \n",
              "3286         NaN                                         NaN  \n",
              "3287         NaN                                         NaN  \n",
              "3288         NaN                                         NaN  \n",
              "3289         NaN                                         NaN  \n",
              "3290         NaN                                         NaN  \n",
              "3291         NaN                                         NaN  \n",
              "3292         NaN                                         NaN  \n",
              "3293         NaN                                         NaN  \n",
              "3294         NaN                                         NaN  \n",
              "3295         NaN                                         NaN  \n",
              "3296         NaN                                         NaN  \n",
              "3297         NaN                                         NaN  \n",
              "3298         NaN                                         NaN  \n",
              "3299         NaN                                         NaN  \n",
              "3300         NaN                                         NaN  \n",
              "3301         NaN                                         NaN  \n",
              "3302         NaN                                         NaN  \n",
              "3303         NaN                                         NaN  \n",
              "3304         NaN                                         NaN  \n",
              "3305         NaN                                         NaN  \n",
              "3306         NaN                                         NaN  \n",
              "3307         NaN                                         NaN  \n",
              "3308         NaN                                         NaN  \n",
              "3309         NaN                                         NaN  \n",
              "3310         NaN                                         NaN  \n",
              "3311         NaN                                         NaN  \n",
              "3312         NaN                                         NaN  \n",
              "3313         NaN                                         NaN  \n",
              "...          ...                                         ...  \n",
              "613993     broad  339900 - Other Miscellaneous Manufacturing  \n",
              "613994  detailed  339900 - Other Miscellaneous Manufacturing  \n",
              "613995     broad  339900 - Other Miscellaneous Manufacturing  \n",
              "613996  detailed  339900 - Other Miscellaneous Manufacturing  \n",
              "613997  detailed  339900 - Other Miscellaneous Manufacturing  \n",
              "613998  detailed  339900 - Other Miscellaneous Manufacturing  \n",
              "613999  detailed  339900 - Other Miscellaneous Manufacturing  \n",
              "614000  detailed  339900 - Other Miscellaneous Manufacturing  \n",
              "614001  detailed  339900 - Other Miscellaneous Manufacturing  \n",
              "614002  detailed  339900 - Other Miscellaneous Manufacturing  \n",
              "614003     major  339900 - Other Miscellaneous Manufacturing  \n",
              "614004     minor  339900 - Other Miscellaneous Manufacturing  \n",
              "614005     broad  339900 - Other Miscellaneous Manufacturing  \n",
              "614006  detailed  339900 - Other Miscellaneous Manufacturing  \n",
              "614007     broad  339900 - Other Miscellaneous Manufacturing  \n",
              "614008  detailed  339900 - Other Miscellaneous Manufacturing  \n",
              "614009     minor  339900 - Other Miscellaneous Manufacturing  \n",
              "614010     broad  339900 - Other Miscellaneous Manufacturing  \n",
              "614011  detailed  339900 - Other Miscellaneous Manufacturing  \n",
              "614012  detailed  339900 - Other Miscellaneous Manufacturing  \n",
              "614013     minor  339900 - Other Miscellaneous Manufacturing  \n",
              "614014     broad  339900 - Other Miscellaneous Manufacturing  \n",
              "614015  detailed  339900 - Other Miscellaneous Manufacturing  \n",
              "614016     broad  339900 - Other Miscellaneous Manufacturing  \n",
              "614017  detailed  339900 - Other Miscellaneous Manufacturing  \n",
              "614018     broad  339900 - Other Miscellaneous Manufacturing  \n",
              "614019  detailed  339900 - Other Miscellaneous Manufacturing  \n",
              "614020  detailed  339900 - Other Miscellaneous Manufacturing  \n",
              "614021  detailed  339900 - Other Miscellaneous Manufacturing  \n",
              "614022  detailed  339900 - Other Miscellaneous Manufacturing  \n",
              "\n",
              "[177634 rows x 27 columns]"
            ]
          },
          "metadata": {
            "tags": []
          },
          "execution_count": 240
        }
      ]
    },
    {
      "metadata": {
        "id": "SvqVESUjfWfl",
        "colab_type": "code",
        "colab": {
          "base_uri": "https://localhost:8080/",
          "height": 1108
        },
        "outputId": "16580f1a-583f-4cc9-fffd-e2ba94640b08"
      },
      "cell_type": "code",
      "source": [
        "manudf['occ_code']"
      ],
      "execution_count": 233,
      "outputs": [
        {
          "output_type": "execute_result",
          "data": {
            "text/plain": [
              "3284      00-0000\n",
              "3285      11-0000\n",
              "3286      11-1011\n",
              "3287      11-1021\n",
              "3288      11-2022\n",
              "3289      11-3031\n",
              "3290      11-3051\n",
              "3291      11-3061\n",
              "3292      11-3071\n",
              "3293      11-9199\n",
              "3294      13-0000\n",
              "3295      13-1021\n",
              "3296      13-1023\n",
              "3297      13-1072\n",
              "3298      13-1081\n",
              "3299      13-1199\n",
              "3300      13-2011\n",
              "3301      15-0000\n",
              "3302      15-1021\n",
              "3303      15-1041\n",
              "3304      15-1071\n",
              "3305      17-0000\n",
              "3306      17-2041\n",
              "3307      17-2112\n",
              "3308      17-2141\n",
              "3309      17-3026\n",
              "3310      19-0000\n",
              "3311      19-1012\n",
              "3312      19-2031\n",
              "3313      19-3021\n",
              "           ...   \n",
              "613993    51-9150\n",
              "613994    51-9151\n",
              "613995    51-9190\n",
              "613996    51-9191\n",
              "613997    51-9192\n",
              "613998    51-9194\n",
              "613999    51-9195\n",
              "614000    51-9196\n",
              "614001    51-9198\n",
              "614002    51-9199\n",
              "614003    53-0000\n",
              "614004    53-1000\n",
              "614005    53-1020\n",
              "614006    53-1021\n",
              "614007    53-1030\n",
              "614008    53-1031\n",
              "614009    53-3000\n",
              "614010    53-3030\n",
              "614011    53-3032\n",
              "614012    53-3033\n",
              "614013    53-7000\n",
              "614014    53-7020\n",
              "614015    53-7021\n",
              "614016    53-7050\n",
              "614017    53-7051\n",
              "614018    53-7060\n",
              "614019    53-7061\n",
              "614020    53-7062\n",
              "614021    53-7063\n",
              "614022    53-7064\n",
              "Name: occ_code, Length: 177634, dtype: object"
            ]
          },
          "metadata": {
            "tags": []
          },
          "execution_count": 233
        }
      ]
    },
    {
      "metadata": {
        "id": "c0INMkakeX6H",
        "colab_type": "code",
        "colab": {}
      },
      "cell_type": "code",
      "source": [
        "manudf['occ_code'].replace(temp,temp2)"
      ],
      "execution_count": 0,
      "outputs": []
    },
    {
      "metadata": {
        "id": "5hFFeuXMcf5n",
        "colab_type": "code",
        "colab": {}
      },
      "cell_type": "code",
      "source": [
        "newmanudf"
      ],
      "execution_count": 0,
      "outputs": []
    },
    {
      "metadata": {
        "id": "rvaJ0o4yZvFq",
        "colab_type": "code",
        "colab": {
          "base_uri": "https://localhost:8080/",
          "height": 142
        },
        "outputId": "4a3c0693-659d-404c-fc53-a738a64406df"
      },
      "cell_type": "code",
      "source": [
        "manudf['occ_code']=newmanudf"
      ],
      "execution_count": 194,
      "outputs": [
        {
          "output_type": "stream",
          "text": [
            "/usr/local/lib/python3.6/dist-packages/ipykernel_launcher.py:1: SettingWithCopyWarning: \n",
            "A value is trying to be set on a copy of a slice from a DataFrame.\n",
            "Try using .loc[row_indexer,col_indexer] = value instead\n",
            "\n",
            "See the caveats in the documentation: http://pandas.pydata.org/pandas-docs/stable/indexing.html#indexing-view-versus-copy\n",
            "  \"\"\"Entry point for launching an IPython kernel.\n"
          ],
          "name": "stderr"
        }
      ]
    },
    {
      "metadata": {
        "id": "X80ockXsb75S",
        "colab_type": "code",
        "colab": {}
      },
      "cell_type": "code",
      "source": [
        "manudf"
      ],
      "execution_count": 0,
      "outputs": []
    },
    {
      "metadata": {
        "id": "pmEaDPrBMJw-",
        "colab_type": "code",
        "colab": {}
      },
      "cell_type": "code",
      "source": [
        "# Make a list for 10 years, use 'negotiation score'in Skills, Element id is 2.B.1.d\n",
        "negotiationlist=[]\n",
        "totalemployment=[]\n",
        "for year in range(2007,2017):\n",
        "  tempsum=0\n",
        "  denom=0\n",
        "  cutyear=manudf.loc[manudf['year']==year]\n",
        "  for occcode in manu_occ_list:\n",
        "    cutocc=cutyear.loc[cutyear['occ_code']==occcode]\n",
        "    employment=cutocc['tot_emp'].sum()\n",
        "    denom+=employment\n",
        "    temp1=Skills.loc[Skills['SOC Code']==occcode]  \n",
        "    score_series=temp1.loc[temp1['Element ID']=='2.B.1.d']['Data Value']\n",
        "    try:\n",
        "      score=float(score_series)\n",
        "    except:\n",
        "      continue      \n",
        "    weightedscore=int(employment*score)\n",
        "    tempsum+=weightedscore\n",
        "  valueofyear=tempsum/denom\n",
        "  negotiationlist.append(valueofyear)\n",
        "  totalemployment.append(denom)"
      ],
      "execution_count": 0,
      "outputs": []
    },
    {
      "metadata": {
        "id": "pBtXuEViY0Jh",
        "colab_type": "code",
        "colab": {}
      },
      "cell_type": "code",
      "source": [
        "cutyear=manudf.loc[manudf['year']==2007]\n",
        "cutyear"
      ],
      "execution_count": 0,
      "outputs": []
    },
    {
      "metadata": {
        "id": "tfy0Q7DSYoPF",
        "colab_type": "code",
        "colab": {
          "base_uri": "https://localhost:8080/",
          "height": 34
        },
        "outputId": "57ad1407-596a-4dc1-89a2-3c70c46e4c6a"
      },
      "cell_type": "code",
      "source": [
        "totalemployment"
      ],
      "execution_count": 164,
      "outputs": [
        {
          "output_type": "execute_result",
          "data": {
            "text/plain": [
              "[0, 0, 0, 0, 0, 0, 0, 0, 0, 0]"
            ]
          },
          "metadata": {
            "tags": []
          },
          "execution_count": 164
        }
      ]
    }
  ]
}