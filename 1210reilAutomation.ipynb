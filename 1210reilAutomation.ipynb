{
  "nbformat": 4,
  "nbformat_minor": 0,
  "metadata": {
    "colab": {
      "name": "1210reilAutomation.ipynb",
      "version": "0.3.2",
      "provenance": [],
      "collapsed_sections": [],
      "toc_visible": true,
      "include_colab_link": true
    },
    "kernelspec": {
      "name": "python3",
      "display_name": "Python 3"
    },
    "accelerator": "GPU"
  },
  "cells": [
    {
      "cell_type": "markdown",
      "metadata": {
        "id": "view-in-github",
        "colab_type": "text"
      },
      "source": [
        "<a href=\"https://colab.research.google.com/github/mitreilab/autonomousfuture/blob/master/1210reilAutomation.ipynb\" target=\"_parent\"><img src=\"https://colab.research.google.com/assets/colab-badge.svg\" alt=\"Open In Colab\"/></a>"
      ]
    },
    {
      "metadata": {
        "id": "wEAKnMja1sHx",
        "colab_type": "text"
      },
      "cell_type": "markdown",
      "source": [
        "## Import OES Data"
      ]
    },
    {
      "metadata": {
        "id": "8xQ0hltz1zjV",
        "colab_type": "code",
        "colab": {}
      },
      "cell_type": "code",
      "source": [
        "import numpy as np\n",
        "import pandas as pd\n",
        "import matplotlib\n",
        "import matplotlib.pyplot as pp\n",
        "!wget \"https://www.dropbox.com/s/t4444pduqc7rtgs/recentyears.csv?dl=0\" -q -O \"recent.csv\" \n",
        "!wget \"https://www.dropbox.com/s/6gglwj5jedmfvhi/oldyears.csv?dl=0\" -q -O \"old.csv\" \n",
        "#Download raw csv file from Dropbox and rename to \"rawdatanaics.csv\"\n",
        "new = pd.read_csv(\"recent.csv\",low_memory=False)\n",
        "old=pd.read_csv(\"old.csv\",low_memory=False)\n"
      ],
      "execution_count": 0,
      "outputs": []
    },
    {
      "metadata": {
        "id": "SaW5pHN8D0E2",
        "colab_type": "text"
      },
      "cell_type": "markdown",
      "source": [
        "## Import ONet Data ##"
      ]
    },
    {
      "metadata": {
        "id": "P0atFUe0D2JX",
        "colab_type": "code",
        "outputId": "740f3fce-916a-41ab-a1a6-56f991316d8f",
        "colab": {
          "base_uri": "https://localhost:8080/",
          "height": 35
        }
      },
      "cell_type": "code",
      "source": [
        "!wget \"https://www.dropbox.com/s/5cjlzvxqtoq5mm4/combined.sqlite?dl=0\" -q -O  \"onet.sqlite\"  \n",
        "#Download raw SQLite file from Dropbox and rename to \"onet.sqlite\"\n",
        "import sqlite3\n",
        "onetConnection = sqlite3.connect('onet.sqlite')\n",
        "cur = onetConnection.cursor()\n",
        "query = \"SELECT * FROM occupation_data\";\n",
        "occdata = pd.read_sql_query(query, onetConnection)\n",
        "len(occdata)\n",
        "# Onet surveyed 1109 occupations.\n"
      ],
      "execution_count": 4,
      "outputs": [
        {
          "output_type": "execute_result",
          "data": {
            "text/plain": [
              "1109"
            ]
          },
          "metadata": {
            "tags": []
          },
          "execution_count": 4
        }
      ]
    },
    {
      "metadata": {
        "id": "R7b1aU2rark-",
        "colab_type": "code",
        "colab": {}
      },
      "cell_type": "code",
      "source": [
        "\n",
        "\n",
        "\n",
        "import numpy as np\n",
        "import pandas as pd\n",
        "import matplotlib\n",
        "import matplotlib.pyplot as pp\n",
        "\n",
        "#Download the CSV files that we need for Autor Method\n",
        "!wget \"https://www.dropbox.com/s/pnvz35bcthloy6n/Abilities.csv?dl=0\" -q -O \"Abilities.csv\" \n",
        "Abilities=pd.read_csv(\"Abilities.csv\",low_memory=False)\n",
        "!wget \"https://www.dropbox.com/s/5btim1otk24j05d/Skills.csv?dl=0\" -q -O \"Skills.csv\" \n",
        "Skills=pd.read_csv(\"Skills.csv\",low_memory=False)\n",
        "!wget \"https://www.dropbox.com/s/9ajd56nnhlrfo2m/Task%20Statements.csv?dl=0\" -q -O \"Task Statements.csv\" \n",
        "Tasks = pd.read_csv(\"Task Statements.csv\",low_memory=False)\n",
        "!wget \"https://www.dropbox.com/s/9ez75cfcojjpyur/Work%20Activities.csv?dl=0\" -q -O \"Work Activities.csv\" \n",
        "Activities = pd.read_csv(\"Work Activities.csv\",low_memory=False)\n"
      ],
      "execution_count": 0,
      "outputs": []
    },
    {
      "metadata": {
        "id": "7Z35kElLdrlP",
        "colab_type": "text"
      },
      "cell_type": "markdown",
      "source": [
        "## OES Data cleaning- build OEL database"
      ]
    },
    {
      "metadata": {
        "id": "q_N-45psJbRe",
        "colab_type": "text"
      },
      "cell_type": "markdown",
      "source": [
        "###Link old occ code with occ code after 2010\n"
      ]
    },
    {
      "metadata": {
        "id": "bZIxrCojJkT2",
        "colab_type": "code",
        "colab": {}
      },
      "cell_type": "code",
      "source": [
        "!wget \"https://www.dropbox.com/s/30fryvdkh5qnk1z/crosswalktable.csv?dl=0\" -q -O \"crosswalk.csv\" \n",
        "match=pd.read_csv(\"crosswalk.csv\",low_memory=False)\n"
      ],
      "execution_count": 0,
      "outputs": []
    },
    {
      "metadata": {
        "id": "-F2XfgNv3Kzx",
        "colab_type": "code",
        "colab": {}
      },
      "cell_type": "code",
      "source": [
        "!wget \"https://www.dropbox.com/s/mzly495b0ns41wi/oes_nat4d_2007-2016.csv?dl=0\" -q -O \"oes_nat4d_2007-2016.csv\" \n",
        "allOLS=pd.read_csv(\"oes_nat4d_2007-2016.csv\",low_memory=False)\n",
        "allOLS['year'] = allOLS['year'].astype(str)\n",
        "old=allOLS.loc[allOLS['year'].str.startswith(('2007','2008','2009'))]\n",
        "new = allOLS.loc[allOLS['year'].str.startswith(('2010','2011','2012','2013','2014','2015','2016'))]"
      ],
      "execution_count": 0,
      "outputs": []
    },
    {
      "metadata": {
        "id": "dlcwSkzcLH-C",
        "colab_type": "code",
        "outputId": "12f1a981-04db-4489-ae7e-c4918dd21c46",
        "colab": {
          "base_uri": "https://localhost:8080/",
          "height": 52
        }
      },
      "cell_type": "code",
      "source": [
        "allOLS['year'].unique()"
      ],
      "execution_count": 143,
      "outputs": [
        {
          "output_type": "execute_result",
          "data": {
            "text/plain": [
              "array(['2007', '2008', '2009', '2010', '2011', '2012', '2013', '2014',\n",
              "       '2015', '2016'], dtype=object)"
            ]
          },
          "metadata": {
            "tags": []
          },
          "execution_count": 143
        }
      ]
    },
    {
      "metadata": {
        "id": "rNKUQWbdL0Rz",
        "colab_type": "code",
        "outputId": "3035b0c4-1338-40d7-fd5f-0532a4bf8ad3",
        "colab": {
          "base_uri": "https://localhost:8080/",
          "height": 35
        }
      },
      "cell_type": "code",
      "source": [
        "# Build a dictionary for old code to be transformed into new\n",
        "oldlist=match['2000 SOC code'].tolist()\n",
        "newlist=match['2010 SOC code'].tolist()\n",
        "keys = oldlist\n",
        "values = newlist\n",
        "matchbook= dict(zip(keys, values))\n",
        "matchbook[113041]"
      ],
      "execution_count": 145,
      "outputs": [
        {
          "output_type": "execute_result",
          "data": {
            "text/plain": [
              "113111"
            ]
          },
          "metadata": {
            "tags": []
          },
          "execution_count": 145
        }
      ]
    },
    {
      "metadata": {
        "id": "Y1Edy573ZtoB",
        "colab_type": "code",
        "outputId": "25638d58-6537-440b-8772-b3d36e90916c",
        "colab": {
          "base_uri": "https://localhost:8080/",
          "height": 35
        }
      },
      "cell_type": "code",
      "source": [
        "tobecorrect=old['occ_code'].tolist()\n",
        "len(tobecorrect)"
      ],
      "execution_count": 146,
      "outputs": [
        {
          "output_type": "execute_result",
          "data": {
            "text/plain": [
              "137096"
            ]
          },
          "metadata": {
            "tags": []
          },
          "execution_count": 146
        }
      ]
    },
    {
      "metadata": {
        "id": "H_FMVwEUXNkl",
        "colab_type": "code",
        "colab": {}
      },
      "cell_type": "code",
      "source": [
        "for i in range(len(tobecorrect)):\n",
        "  oldcode=tobecorrect[i]\n",
        "  try:\n",
        "    temp=matchbook[oldcode]\n",
        "    tobecorrect[i]=temp\n",
        "  except:\n",
        "    continue\n",
        "correctcode= tobecorrect   \n",
        "  \n"
      ],
      "execution_count": 0,
      "outputs": []
    },
    {
      "metadata": {
        "id": "BVfN5pxoL0Kj",
        "colab_type": "code",
        "colab": {}
      },
      "cell_type": "code",
      "source": [
        "\n",
        "correctcode=pd.DataFrame(correctcode)\n"
      ],
      "execution_count": 0,
      "outputs": []
    },
    {
      "metadata": {
        "id": "VaW1nUmmL0C7",
        "colab_type": "code",
        "colab": {
          "base_uri": "https://localhost:8080/",
          "height": 123
        },
        "outputId": "a9cd6571-ca6a-449d-c863-182497255387"
      },
      "cell_type": "code",
      "source": [
        "old['occ_code']=correctcode"
      ],
      "execution_count": 149,
      "outputs": [
        {
          "output_type": "stream",
          "text": [
            "/usr/local/lib/python3.6/dist-packages/ipykernel_launcher.py:1: SettingWithCopyWarning: \n",
            "A value is trying to be set on a copy of a slice from a DataFrame.\n",
            "Try using .loc[row_indexer,col_indexer] = value instead\n",
            "\n",
            "See the caveats in the documentation: http://pandas.pydata.org/pandas-docs/stable/indexing.html#indexing-view-versus-copy\n",
            "  \"\"\"Entry point for launching an IPython kernel.\n"
          ],
          "name": "stderr"
        }
      ]
    },
    {
      "metadata": {
        "id": "MPJ0o4o0Lz2s",
        "colab_type": "code",
        "colab": {}
      },
      "cell_type": "code",
      "source": [
        "old.reset_index(drop=True, inplace=True)\n",
        "new.reset_index(drop=True, inplace=True)\n",
        "result = pd.concat([old,new])"
      ],
      "execution_count": 0,
      "outputs": []
    },
    {
      "metadata": {
        "id": "srJ2w8tDeQ-B",
        "colab_type": "code",
        "outputId": "95b61bf1-1841-4884-b605-11e6d53af4d9",
        "colab": {
          "base_uri": "https://localhost:8080/",
          "height": 35
        }
      },
      "cell_type": "code",
      "source": [
        "old.shape"
      ],
      "execution_count": 151,
      "outputs": [
        {
          "output_type": "execute_result",
          "data": {
            "text/plain": [
              "(137096, 27)"
            ]
          },
          "metadata": {
            "tags": []
          },
          "execution_count": 151
        }
      ]
    },
    {
      "metadata": {
        "id": "9eudO3HIeZCT",
        "colab_type": "code",
        "outputId": "ffd55b46-ce7f-4012-891f-145be98ec93d",
        "colab": {
          "base_uri": "https://localhost:8080/",
          "height": 35
        }
      },
      "cell_type": "code",
      "source": [
        "new.shape"
      ],
      "execution_count": 152,
      "outputs": [
        {
          "output_type": "execute_result",
          "data": {
            "text/plain": [
              "(537573, 27)"
            ]
          },
          "metadata": {
            "tags": []
          },
          "execution_count": 152
        }
      ]
    },
    {
      "metadata": {
        "id": "Ah7eH4lN34uc",
        "colab_type": "code",
        "colab": {
          "base_uri": "https://localhost:8080/",
          "height": 35
        },
        "outputId": "0730b661-6be3-4a12-e6ed-357d0f937dd7"
      },
      "cell_type": "code",
      "source": [
        "result.shape"
      ],
      "execution_count": 153,
      "outputs": [
        {
          "output_type": "execute_result",
          "data": {
            "text/plain": [
              "(674669, 27)"
            ]
          },
          "metadata": {
            "tags": []
          },
          "execution_count": 153
        }
      ]
    },
    {
      "metadata": {
        "id": "X5NbE-AWgkwq",
        "colab_type": "code",
        "colab": {}
      },
      "cell_type": "code",
      "source": [
        "result.reset_index(drop=True, inplace=True)"
      ],
      "execution_count": 0,
      "outputs": []
    },
    {
      "metadata": {
        "id": "9l_XrJRDgkq3",
        "colab_type": "code",
        "outputId": "4fa37196-7863-4d11-bb0a-d504bafd10fa",
        "colab": {
          "base_uri": "https://localhost:8080/",
          "height": 35
        }
      },
      "cell_type": "code",
      "source": [
        "\n",
        "# There are 792  detailed ocupations in total in US"
      ],
      "execution_count": 77,
      "outputs": [
        {
          "output_type": "execute_result",
          "data": {
            "text/plain": [
              "792"
            ]
          },
          "metadata": {
            "tags": []
          },
          "execution_count": 77
        }
      ]
    },
    {
      "metadata": {
        "id": "hWfYzmWqgklT",
        "colab_type": "code",
        "outputId": "79ce63b5-3a1d-4164-b983-b505a89d982d",
        "colab": {
          "base_uri": "https://localhost:8080/",
          "height": 35
        }
      },
      "cell_type": "code",
      "source": [
        "df=result\n",
        "df.shape\n",
        "# Now we finishe building the OLS dabatase\n",
        "\n"
      ],
      "execution_count": 155,
      "outputs": [
        {
          "output_type": "execute_result",
          "data": {
            "text/plain": [
              "(674669, 27)"
            ]
          },
          "metadata": {
            "tags": []
          },
          "execution_count": 155
        }
      ]
    },
    {
      "metadata": {
        "id": "y-TphPoLgjvi",
        "colab_type": "code",
        "outputId": "fdb86b8c-b7cb-41c4-bfde-ec234e6d20d2",
        "colab": {
          "base_uri": "https://localhost:8080/",
          "height": 35
        }
      },
      "cell_type": "code",
      "source": [
        "# # After we choose 13 industries (using 4_digit NAISC)\n",
        "# # We have 528 detailed occupations\n",
        "# targetlist=df['occ_code'].unique()\n",
        "# len(targetlist)"
      ],
      "execution_count": 17,
      "outputs": [
        {
          "output_type": "execute_result",
          "data": {
            "text/plain": [
              "528"
            ]
          },
          "metadata": {
            "tags": []
          },
          "execution_count": 17
        }
      ]
    },
    {
      "metadata": {
        "id": "eGKLo1f7gjny",
        "colab_type": "code",
        "colab": {}
      },
      "cell_type": "code",
      "source": [
        "df.head()"
      ],
      "execution_count": 0,
      "outputs": []
    },
    {
      "metadata": {
        "id": "1sPV6mcpgje4",
        "colab_type": "code",
        "colab": {}
      },
      "cell_type": "code",
      "source": [
        ""
      ],
      "execution_count": 0,
      "outputs": []
    },
    {
      "metadata": {
        "id": "T5WcmXpTZX_L",
        "colab_type": "text"
      },
      "cell_type": "markdown",
      "source": [
        "### Target the occupations that are 1. In Real Estate industry 2. Not General Group 3. Onet has surveyed\n"
      ]
    },
    {
      "metadata": {
        "id": "MpdkLpRlZ9UR",
        "colab_type": "code",
        "colab": {}
      },
      "cell_type": "code",
      "source": [
        "# !wget \"https://www.dropbox.com/s/329edv8yrn3ik25/Occupation%20Data.csv?dl=0\"-q -O  \"Occupation Data.csv\" \n",
        "# occ_onet=pd.read_csv(\"Occupation Data.csv\",low_memory=False)\n",
        "# #Download 'Occupation Data' CSV that changes the 8-digit Onet-code to 6-digit, ommiting the last two digits.\n",
        "# del_occ_endwith_00_and_in_Onet=oes.loc[oes['occ_code'].isin(occ_onet['O*NET-SOC Code'])]\n",
        "# #Delete the occupation if the code is not in 'Occupation Data'\n",
        "# del_occ_endwith_00_and_in_Onet.shape"
      ],
      "execution_count": 0,
      "outputs": []
    },
    {
      "metadata": {
        "id": "NGLAv20Bd5qR",
        "colab_type": "code",
        "colab": {}
      },
      "cell_type": "code",
      "source": [
        "# target_occ=set(del_occ_endwith_00_and_in_Onet['occ_code'])\n",
        "# target_occ=list(target_occ)\n",
        "# target=pd.DataFrame({'target_occ': target_occ})\n",
        "# len(target)\n",
        "# # we target 558 occupations."
      ],
      "execution_count": 0,
      "outputs": []
    },
    {
      "metadata": {
        "id": "k6rLO1XWeu6n",
        "colab_type": "text"
      },
      "cell_type": "markdown",
      "source": [
        "### Drop the columns in the oes.csv that contains duplicated or redundant data."
      ]
    },
    {
      "metadata": {
        "id": "LmSKkbK8fJon",
        "colab_type": "code",
        "colab": {}
      },
      "cell_type": "code",
      "source": [
        "# del_occ_endwith_00_and_in_Onet.columns\n",
        "# #drop the colomuns that contain duplicate information\n",
        "# del_duplicated_column=del_occ_endwith_00_and_in_Onet.drop(['title_code','occ_title_code', 'occ_title_mid', 'year.1', 'naics.1', 'naics_title.1', 'occ_code.1', 'occ_title.1', 'group', 'naics_codedescription', 'year-naics-occ_code', 'year-naics-occ_code.1','year.2', 'naics.2', 'naics_title.2', 'occ_code.2', 'title_code.1', 'dominant_lifecycle.1', 'occ_title.2', 'occ_title_code.1', 'occ_title_mid.1','group.1', 'naics_codedescription.1', 'keepsy'],axis=1)\n",
        "# # the columns # decrease to 37 from 61\n",
        "# del_duplicated_column.shape"
      ],
      "execution_count": 0,
      "outputs": []
    },
    {
      "metadata": {
        "id": "j0QACoI1gpG3",
        "colab_type": "text"
      },
      "cell_type": "markdown",
      "source": [
        "## Call BLS data by 6-digit occupation code"
      ]
    },
    {
      "metadata": {
        "id": "zK-dVy5ShHTW",
        "colab_type": "code",
        "colab": {}
      },
      "cell_type": "code",
      "source": [
        "# try to extract data by occ_code \n",
        "# dx = del_duplicated_column[del_duplicated_column['occ_code'] == '11-1011']\n",
        "# dx[['year','naics_title', 'tot_emp_num']].head(3)"
      ],
      "execution_count": 0,
      "outputs": []
    },
    {
      "metadata": {
        "id": "8S8H1sX4hOnm",
        "colab_type": "code",
        "colab": {}
      },
      "cell_type": "code",
      "source": [
        "# assign the matrix of \"year\" and \"naics_code\" to a specific occ_code, call it 'labour_economy_data'\n",
        "# first, create a function that generate the lb_econ_matrix for an occ_code\n",
        "def lb_econ (occ_code,field,data):\n",
        "    # this function yield a data frame for a given occ_code and a field\n",
        "    # get all unique naics titles in the data\n",
        "    feature_list = data['naics'].unique()\n",
        "    # get all unique year in the data\n",
        "    years = sorted(data['year'].unique())    \n",
        "    mt_result = pd.DataFrame(0.00, index = years, columns = feature_list)   \n",
        "    # filter out all rows and columns that have the given occ_code and fields\n",
        "    df_occ = data[data['occ_code'] == occ_code][['year','naics_title', field]]\n",
        "    for index, row in df_occ.iterrows():\n",
        "        try:\n",
        "            mt_result.loc[row['year']][row['naics_title']] = float(row[field])\n",
        "        except:\n",
        "            mt_result.loc[row['year']][row['naics_title']] = np.nan\n",
        "    return mt_result.round(2)\n"
      ],
      "execution_count": 0,
      "outputs": []
    },
    {
      "metadata": {
        "id": "7JNwpGFQhdRp",
        "colab_type": "code",
        "colab": {}
      },
      "cell_type": "code",
      "source": [
        "# An example of how to use the function\n",
        "# data1=del_duplicated_column\n",
        "# # the lb_Econ_features contains all the fields' name that we can choose from, there're 17 all together.\n",
        "# lb_econ_features=['occ_code','tot_emp_num', 'emp_prse', 'pct_total', 'pct_rpt', 'h_mean', 'a_mean', 'mean_prse', 'h_pct10', 'h_pct25', 'h_median', 'h_pct75', 'h_pct90', 'a_pct10', 'a_pct25', 'a_median_num', 'a_pct75', 'a_pct90']\n",
        "# #try to input a field name called 'tot_emp_num'\n",
        "# aa=lb_econ (111011,'tot_emp_num',df)\n",
        "# aa.head()"
      ],
      "execution_count": 0,
      "outputs": []
    },
    {
      "metadata": {
        "id": "gcJHcg70dnSg",
        "colab_type": "text"
      },
      "cell_type": "markdown",
      "source": [
        ""
      ]
    },
    {
      "metadata": {
        "id": "SDFwgywni3Bh",
        "colab_type": "code",
        "outputId": "973a0c70-d40e-45d7-d873-4232d544ff4d",
        "colab": {
          "base_uri": "https://localhost:8080/",
          "height": 123
        }
      },
      "cell_type": "code",
      "source": [
        "df.columns"
      ],
      "execution_count": 20,
      "outputs": [
        {
          "output_type": "execute_result",
          "data": {
            "text/plain": [
              "Index(['year', 'naics', 'naics_title', 'occ_code', 'occ_title', 'group',\n",
              "       'tot_emp_num', 'emp_prse', 'pct_total', 'pct_rpt', 'h_mean', 'a_mean',\n",
              "       'mean_prse', 'h_pct10', 'h_pct25', 'h_median', 'h_pct75', 'h_pct90',\n",
              "       'a_pct10', 'a_pct25', 'a_median_num', 'a_pct75', 'a_pct90',\n",
              "       'naics_codedescription', 'occ_code-title', 'detailed'],\n",
              "      dtype='object')"
            ]
          },
          "metadata": {
            "tags": []
          },
          "execution_count": 20
        }
      ]
    },
    {
      "metadata": {
        "id": "RUqI754ecqcZ",
        "colab_type": "text"
      },
      "cell_type": "markdown",
      "source": [
        "# Object Oriented Programming (OOP)"
      ]
    },
    {
      "metadata": {
        "id": "XelbsrqgcwLP",
        "colab_type": "code",
        "colab": {}
      },
      "cell_type": "code",
      "source": [
        "# laborfeature include:'tot_emp_num', 'emp_prse', 'pct_total', 'pct_rpt', 'h_mean', 'a_mean',\n",
        "#        'mean_prse', 'h_pct10', 'h_pct25', 'h_median', 'h_pct75', 'h_pct90',\n",
        "#        'a_pct10', 'a_pct25', 'a_median_num', 'a_pct75', 'a_pct90',\n",
        "#        'naics_codedescription'\n",
        "# year include: 2007 to 2016\n",
        "# industry include:\n",
        "# 'Residential Building Construction',\n",
        "# 'Nonresidential Building Construction',\n",
        "# 'Land Subdivision',\n",
        "# 'Foundation, Structure, and Building Exterior Contractors',\n",
        "# 'Building Equipment Contractors',\n",
        "# 'Building Finishing Contractors',\n",
        "# 'Other Specialty Trade Contractors',\n",
        "# 'Lessors of Real Estate',\n",
        "# 'Offices of Real Estate Agents and Brokers',\n",
        "# 'Activities Related to Real Estate',\n",
        "# 'Architectural, Engineering, and Related Services',\n",
        "# 'Specialized Design Services',\n",
        "# 'Services to Buildings and Dwellings',\n",
        "      \n",
        "class occ(object):\n",
        "  # add attributes to occ\n",
        "  def __init__(self,code,title,year,industry,industrycode,name,negotiation,math,GDM,finger,manual):\n",
        "    self.code=code\n",
        "    self.title=title\n",
        "    self.year=year  \n",
        "    self.industry=industry\n",
        "    self.industrycode=industrycode\n",
        "    self.name=name\n",
        "    self.negotiation=negotiation\n",
        "    self.math=math\n",
        "    self.GDM=GDM\n",
        "    self.finger=finger\n",
        "    self.manual=manual\n",
        "\n",
        "#     yearemp,\n",
        "#               emp_prse, pct_total, pct_rpt, h_mean, a_mean,\n",
        "#        mean_prse, h_pct10, h_pct25, h_median, h_pct75, h_pct90,\n",
        "#        a_pct10, a_pct25, a_median_num, a_pct75, a_pct90,\n",
        "#       naics_codedescription,tasks,abilities,knowledge,skills,work_activities\n",
        "#     self.yearemp=yearemp\n",
        "#     self.emp_prse=emp_prse\n",
        "#     self.pct_total=pct_total\n",
        "#     self.pct_rpt=pct_rpt\n",
        "#     self.h_mean=h_mean\n",
        "#     self.a_mean=a.mean\n",
        "#     self.mean_prse=mean_prse\n",
        "#     self.h_pct10=h_pct10\n",
        "#     self.h_pct25=h_pct25\n",
        "#     self.h_median=h_median\n",
        "#     self.h_pct75=h_pct75\n",
        "#     self.h_pct90=h_pct90\n",
        "#     self.a_pct10=a_pct10\n",
        "#     self.a_pct25=a_pct25\n",
        "#     self.a_median_num=a_median_num\n",
        "#     self.a_pct75=a_pct75\n",
        "#     self.a_pct90=a_pct90\n",
        "#     self.naics_codedescription=naics_codedescription\n",
        "#     self.laborfeature=laborfeature\n",
        "#     self.task=tasks\n",
        "#     self.abilities=abilities\n",
        "#     self.knowledge=knowledge\n",
        "#     self.skills=skills\n",
        "#     self.work_activities=work_activities\n",
        "  def __str__(self):\n",
        "    return str(self.code)+str(self.title)+str(self.year)+str(self.industry+str(self.industrycode))\n",
        "#   def__add__(self,other):\n",
        "#     result=self.yearemp+other.yearemp\n",
        "#     return result\n",
        "#   def__eq__(self,other):\n",
        "    \n",
        "  # define methods:\n",
        "  # total employment calculate employment number of each occ in all 13 industries\n",
        "  # inputs for this function should be the 13 occ objects\n",
        "  # with same code,title,year\n",
        "  # with different industry,industry code,13 industries in the same year\n",
        "#   def sumemp(self,other):\n",
        "#     if self.code==other.code and self.year==other.year:\n",
        "#       return self.yearemp+other.yearemp\n",
        "\n"
      ],
      "execution_count": 0,
      "outputs": []
    },
    {
      "metadata": {
        "id": "A1g288EDsUFs",
        "colab_type": "text"
      },
      "cell_type": "markdown",
      "source": [
        "## make all the objects for Real Estate using 13 NAICS (528 times 10 years times 13 industries)\n"
      ]
    },
    {
      "metadata": {
        "id": "9kIbgv20u6Lh",
        "colab_type": "code",
        "outputId": "4bc789a8-3c12-4b47-f572-924a9842c387",
        "colab": {
          "base_uri": "https://localhost:8080/",
          "height": 35
        }
      },
      "cell_type": "code",
      "source": [
        "row=df.iloc[0]\n",
        "type(row[['year','naics']])\n"
      ],
      "execution_count": 22,
      "outputs": [
        {
          "output_type": "execute_result",
          "data": {
            "text/plain": [
              "pandas.core.series.Series"
            ]
          },
          "metadata": {
            "tags": []
          },
          "execution_count": 22
        }
      ]
    },
    {
      "metadata": {
        "id": "EJwHou_PvWZl",
        "colab_type": "code",
        "colab": {}
      },
      "cell_type": "code",
      "source": [
        "# a=occ(row['occ_code'],row['occ_title'],row['year'],row['naics_title'],row['naics'],'name1')\n",
        "# b=occ(row2['occ_code'],row2['occ_title'],row2['year'],row2['naics_title'],row2['naics'],'name2')"
      ],
      "execution_count": 0,
      "outputs": []
    },
    {
      "metadata": {
        "id": "gFAvPJpAvZLw",
        "colab_type": "code",
        "colab": {}
      },
      "cell_type": "code",
      "source": [
        "# newlist.append(a.name)\n",
        "# newlist"
      ],
      "execution_count": 0,
      "outputs": []
    },
    {
      "metadata": {
        "id": "T4uTu7pmrwjE",
        "colab_type": "code",
        "colab": {}
      },
      "cell_type": "code",
      "source": [
        "# there are at most 68640 occ objects in total\n",
        "# now we create them out and name them by 'occ+their occ_code'\n",
        "listofocc=[]\n",
        "all_occ=[]\n",
        "for index, row in df.iterrows():\n",
        "  #create a new object\n",
        "  name=str(row['occ_code'])+str(row['occ_title'])+'in year'+str(row['year'])+'in industry'+str(row['naics'])\n",
        "  temp=occ(row['occ_code'],row['occ_title'],row['year'],row['naics_title'],row['naics'],name)\n",
        "  listofocc.append(temp.name)\n",
        "  all_occ.append(temp)\n",
        "  \n",
        "  "
      ],
      "execution_count": 0,
      "outputs": []
    },
    {
      "metadata": {
        "id": "VaklCKHzlIrM",
        "colab_type": "code",
        "colab": {}
      },
      "cell_type": "code",
      "source": [
        "    # get all unique naics titles in the data\n",
        "    feature_list = data['naics'].unique()\n",
        "    # get all unique year in the data\n",
        "    years = sorted(data['year'].unique())    \n",
        "    mt_result = pd.DataFrame(0.00, index = years, columns = feature_list)   \n",
        "    # filter out all rows and columns that have the given occ_code and fields\n",
        "    df_occ = data[data['occ_code'] == occ_code][['year','naics_title', field]]\n",
        "    for index, row in df_occ.iterrows():\n",
        "        try:\n",
        "            mt_result.loc[row['year']][row['naics_title']] = float(row[field])\n",
        "        except:\n",
        "            mt_result.loc[row['year']][row['naics_title']] = np.nan\n",
        "    return mt_result.round(2)"
      ],
      "execution_count": 0,
      "outputs": []
    },
    {
      "metadata": {
        "id": "JG9TEyq7nSX0",
        "colab_type": "code",
        "colab": {}
      },
      "cell_type": "code",
      "source": [
        "# # Make a list for 2007, negotiation\n",
        "# negotiationlist=[]\n",
        "# for year in range(2007,2017):\n",
        "#   tempsum=0\n",
        "#   for occ in all_occ:\n",
        "#     if occ.year==year:\n",
        "#       employment=manual[occ]['tot_emp_num']\n",
        "#       temp1=Skills.loc[Skills['SOC Code']==occ.code]  \n",
        "#       negotiation_score=temp1.loc[temp1['Element ID']=='2.B.1.d']['Data Value']\n"
      ],
      "execution_count": 0,
      "outputs": []
    },
    {
      "metadata": {
        "id": "yx1oBu1TrWYZ",
        "colab_type": "code",
        "colab": {}
      },
      "cell_type": "code",
      "source": [
        "\n"
      ],
      "execution_count": 0,
      "outputs": []
    },
    {
      "metadata": {
        "id": "3iEao9RlxxX7",
        "colab_type": "code",
        "colab": {}
      },
      "cell_type": "code",
      "source": [
        "occcode=111011\n",
        "cutocc=cutyear.loc[cutyear['occ_code']==occcode]\n",
        "employment=cutocc['tot_emp_num'].sum()\n",
        "temp1=Skills.loc[Skills['SOC Code']==occcode]  \n",
        "score_series=temp1.loc[temp1['Element ID']=='2.B.1.d']['Data Value']"
      ],
      "execution_count": 0,
      "outputs": []
    },
    {
      "metadata": {
        "id": "Vt7hKEVcx9Gp",
        "colab_type": "code",
        "colab": {}
      },
      "cell_type": "code",
      "source": [
        "float(score_series)"
      ],
      "execution_count": 0,
      "outputs": []
    },
    {
      "metadata": {
        "id": "dua5yw7jwqcd",
        "colab_type": "code",
        "colab": {}
      },
      "cell_type": "code",
      "source": [
        "tempsum=0\n",
        "cutyear=df.loc[df['year']==2007]\n",
        "occcode=111011\n",
        "cutocc=cutyear.loc[cutyear['occ_code']==occcode]\n",
        "employment=cutocc['tot_emp_num'].sum()\n",
        "temp1=Skills.loc[Skills['SOC Code']==occcode]  \n",
        "score=float(temp1.loc[temp1['Element ID']=='2.B.1.d']['Data Value']\n",
        "weightedscore=employment*score\n"
      ],
      "execution_count": 0,
      "outputs": []
    },
    {
      "metadata": {
        "id": "1vubYU8OxKvE",
        "colab_type": "code",
        "colab": {}
      },
      "cell_type": "code",
      "source": [
        "type(weightedscore)"
      ],
      "execution_count": 0,
      "outputs": []
    },
    {
      "metadata": {
        "id": "u2POt35yxQtJ",
        "colab_type": "code",
        "outputId": "f68ad345-186d-4b2e-e29e-685567efa18f",
        "colab": {
          "base_uri": "https://localhost:8080/",
          "height": 34
        }
      },
      "cell_type": "code",
      "source": [
        "float(score)"
      ],
      "execution_count": 0,
      "outputs": [
        {
          "output_type": "execute_result",
          "data": {
            "text/plain": [
              "4.62"
            ]
          },
          "metadata": {
            "tags": []
          },
          "execution_count": 83
        }
      ]
    },
    {
      "metadata": {
        "id": "x6SOB46NuCgv",
        "colab_type": "code",
        "outputId": "523ac525-24e1-4180-d06d-093214283d79",
        "colab": {
          "base_uri": "https://localhost:8080/",
          "height": 34
        }
      },
      "cell_type": "code",
      "source": [
        "len(negotiationlist)"
      ],
      "execution_count": 0,
      "outputs": [
        {
          "output_type": "execute_result",
          "data": {
            "text/plain": [
              "10"
            ]
          },
          "metadata": {
            "tags": []
          },
          "execution_count": 71
        }
      ]
    },
    {
      "metadata": {
        "id": "cyITlRksuTYf",
        "colab_type": "code",
        "colab": {}
      },
      "cell_type": "code",
      "source": [
        "negotiationlist"
      ],
      "execution_count": 0,
      "outputs": []
    },
    {
      "metadata": {
        "id": "AEayVlYYoNjW",
        "colab_type": "code",
        "colab": {}
      },
      "cell_type": "code",
      "source": [
        "temp1=Skills.loc[Skills['SOC Code']==111011]\n"
      ],
      "execution_count": 0,
      "outputs": []
    },
    {
      "metadata": {
        "id": "vZb2dM7tofeJ",
        "colab_type": "code",
        "outputId": "3dc3988e-ff1f-47bd-b413-afd7357bbb5a",
        "colab": {
          "base_uri": "https://localhost:8080/",
          "height": 52
        }
      },
      "cell_type": "code",
      "source": [
        "temp1.loc[temp1['Element ID']=='2.B.1.d']['Data Value']"
      ],
      "execution_count": 0,
      "outputs": [
        {
          "output_type": "execute_result",
          "data": {
            "text/plain": [
              "13    4.62\n",
              "Name: Data Value, dtype: float64"
            ]
          },
          "metadata": {
            "tags": []
          },
          "execution_count": 30
        }
      ]
    },
    {
      "metadata": {
        "id": "oI2xxTp1nk5a",
        "colab_type": "code",
        "colab": {}
      },
      "cell_type": "code",
      "source": [
        " Skills.loc[Skills['SOC Code']=='111011' and ['Element ID']=='2.B.1.d']"
      ],
      "execution_count": 0,
      "outputs": []
    },
    {
      "metadata": {
        "id": "tzmnGqBYkYmC",
        "colab_type": "code",
        "colab": {}
      },
      "cell_type": "code",
      "source": [
        "for occ in all_occ:\n",
        "  temp=Skills[Skills['SOC Code']==occ.code and Skills['Element ID']=='2.B.1.d']\n",
        "  occ.negotiation=\n",
        "\n",
        "for index,row in Abilities.iterrows():\n",
        "  "
      ],
      "execution_count": 0,
      "outputs": []
    },
    {
      "metadata": {
        "id": "TOE2zFdExqkm",
        "colab_type": "code",
        "outputId": "70d10283-d53f-4a3c-a98d-b62a33e325ad",
        "colab": {
          "base_uri": "https://localhost:8080/",
          "height": 34
        }
      },
      "cell_type": "code",
      "source": [
        "# the list containing all the objects names is named as listofocc\n",
        "# the list containing all the objects is named as all_occ\n",
        "len(listofocc)"
      ],
      "execution_count": 0,
      "outputs": [
        {
          "output_type": "execute_result",
          "data": {
            "text/plain": [
              "21264"
            ]
          },
          "metadata": {
            "tags": []
          },
          "execution_count": 34
        }
      ]
    },
    {
      "metadata": {
        "id": "qEMT7tLKy9WD",
        "colab_type": "code",
        "outputId": "1111856e-08ce-4d2e-ca18-9c03212efd1a",
        "colab": {
          "base_uri": "https://localhost:8080/",
          "height": 34
        }
      },
      "cell_type": "code",
      "source": [
        "len(all_occ)"
      ],
      "execution_count": 0,
      "outputs": [
        {
          "output_type": "execute_result",
          "data": {
            "text/plain": [
              "21264"
            ]
          },
          "metadata": {
            "tags": []
          },
          "execution_count": 36
        }
      ]
    },
    {
      "metadata": {
        "id": "0bJqC1Qm1Xp6",
        "colab_type": "code",
        "outputId": "8b5eef85-29b3-4194-a47b-310b35918411",
        "colab": {
          "base_uri": "https://localhost:8080/",
          "height": 36
        }
      },
      "cell_type": "code",
      "source": [
        "all_occ[2].year"
      ],
      "execution_count": 0,
      "outputs": [
        {
          "output_type": "execute_result",
          "data": {
            "text/plain": [
              "2007"
            ]
          },
          "metadata": {
            "tags": []
          },
          "execution_count": 54
        }
      ]
    },
    {
      "metadata": {
        "id": "FQ2JcXFm1u7q",
        "colab_type": "code",
        "colab": {}
      },
      "cell_type": "code",
      "source": [
        "listofocc"
      ],
      "execution_count": 0,
      "outputs": []
    },
    {
      "metadata": {
        "id": "Y5V4PRz5XmhD",
        "colab_type": "text"
      },
      "cell_type": "markdown",
      "source": [
        "## Build the dictionary based on 13 NAISCS of Real Estate"
      ]
    },
    {
      "metadata": {
        "id": "Gya_v48t1RT3",
        "colab_type": "code",
        "colab": {}
      },
      "cell_type": "code",
      "source": [
        "# Build a dictionary where\n",
        "#   -  keys: the occ object\n",
        "# Values : all the labor econ attributes and The O_net attributes\n",
        "\n",
        "\n",
        "keys = all_occ\n",
        "\n",
        "values =[]\n",
        "# # We first define some functions that we need to search values from Onet\n",
        "# # The function to search for tasks for an occpation:\n",
        "# def gettask(occ_code,Tasks):\n",
        "#   for index, row in Tasks.iterrows():\n",
        "#     temp=Tasks[Tasks['occ_code']==occ_code][['Task ID','Task']]\n",
        "#     onetvalue=temp.values.tolist()\n",
        "#   return onetvalue\n",
        "\n",
        "for index, row in df.iterrows():\n",
        "  #create a sublist to be one element of the values list\n",
        "  temp=row[['occ_code','tot_emp_num', 'emp_prse', 'pct_total', 'pct_rpt', 'h_mean', 'a_mean', 'mean_prse', 'h_pct10', 'h_pct25', 'h_median', 'h_pct75', 'h_pct90', 'a_pct10', 'a_pct25', 'a_median_num', 'a_pct75', 'a_pct90']]\n",
        "\n",
        "  \n",
        "  values.append(temp)\n",
        "  \n",
        "manual= dict(zip(keys, values))"
      ],
      "execution_count": 0,
      "outputs": []
    },
    {
      "metadata": {
        "id": "yf8OCAR80aOM",
        "colab_type": "code",
        "outputId": "68da998e-067a-4f54-d049-243ccbcc861f",
        "colab": {
          "base_uri": "https://localhost:8080/",
          "height": 167
        }
      },
      "cell_type": "code",
      "source": [
        "manual[all_occ[1]]['tot_emp_num']\n"
      ],
      "execution_count": 0,
      "outputs": [
        {
          "output_type": "error",
          "ename": "IndexError",
          "evalue": "ignored",
          "traceback": [
            "\u001b[0;31m---------------------------------------------------------------------------\u001b[0m",
            "\u001b[0;31mIndexError\u001b[0m                                Traceback (most recent call last)",
            "\u001b[0;32m<ipython-input-33-87107fbdaa41>\u001b[0m in \u001b[0;36m<module>\u001b[0;34m()\u001b[0m\n\u001b[0;32m----> 1\u001b[0;31m \u001b[0mmanual\u001b[0m\u001b[0;34m[\u001b[0m\u001b[0mall_occ\u001b[0m\u001b[0;34m[\u001b[0m\u001b[0;36m1\u001b[0m\u001b[0;34m]\u001b[0m\u001b[0;34m]\u001b[0m\u001b[0;34m[\u001b[0m\u001b[0;34m'tot_emp_num'\u001b[0m\u001b[0;34m]\u001b[0m\u001b[0;34m\u001b[0m\u001b[0;34m\u001b[0m\u001b[0m\n\u001b[0m",
            "\u001b[0;31mIndexError\u001b[0m: list index out of range"
          ]
        }
      ]
    },
    {
      "metadata": {
        "id": "yojBypny-X7k",
        "colab_type": "code",
        "colab": {}
      },
      "cell_type": "code",
      "source": [
        "# # Then we have a tasklist for each occupation, but this method is slow\n",
        "# # The function to search for tasks for an occpation:\n",
        "\n",
        "\n",
        "# def gettask(occ_code,Tasks):\n",
        "#   for index, row in Tasks.iterrows():\n",
        "#     temp=Tasks[Tasks['occ_code']==occ_code][['Task ID','Task']]\n",
        "#   return temp\n",
        "# tasklist=gettask(111011,Tasks)"
      ],
      "execution_count": 0,
      "outputs": []
    },
    {
      "metadata": {
        "id": "LrjoeEX1_XQC",
        "colab_type": "code",
        "outputId": "dd4ea3c7-014a-4411-ae0a-442cb0e66e6b",
        "colab": {
          "base_uri": "https://localhost:8080/",
          "height": 74
        }
      },
      "cell_type": "code",
      "source": [
        "# tasklist[2]"
      ],
      "execution_count": 0,
      "outputs": [
        {
          "output_type": "execute_result",
          "data": {
            "text/plain": [
              "[8825,\n",
              " 'Analyze operations to evaluate performance of a company or its staff in meeting objectives or to determine areas of potential cost reduction, program improvement, or policy change.']"
            ]
          },
          "metadata": {
            "tags": []
          },
          "execution_count": 101
        }
      ]
    },
    {
      "metadata": {
        "id": "5ASTbdSeY1E2",
        "colab_type": "text"
      },
      "cell_type": "markdown",
      "source": [
        "### 2 by 2 metrics to assess 13 NAISCS\n",
        "\n"
      ]
    },
    {
      "metadata": {
        "id": "4hWjE4F_Y998",
        "colab_type": "code",
        "colab": {}
      },
      "cell_type": "code",
      "source": [
        "# Among 13 NAISCS industries, we have 528 occupations, the list of occupations is named as targetlist\n",
        "len(targetlist)"
      ],
      "execution_count": 0,
      "outputs": []
    },
    {
      "metadata": {
        "id": "miDhExPFeCya",
        "colab_type": "code",
        "colab": {}
      },
      "cell_type": "code",
      "source": [
        ""
      ],
      "execution_count": 0,
      "outputs": []
    },
    {
      "metadata": {
        "id": "24sHv4ZE_q3g",
        "colab_type": "code",
        "colab": {}
      },
      "cell_type": "code",
      "source": [
        "#   # built a occpationcode list to change 6digit to 8 digit and change the form\n",
        "# onetform=[]\n",
        "# for item in targetlist:\n",
        "#   string=str(item)\n",
        "#   temp=str(string[:1]) + '-' +str(string[2:])+'.00'\n",
        "#   onetform.append(temp)\n",
        "# onetform\n"
      ],
      "execution_count": 0,
      "outputs": []
    },
    {
      "metadata": {
        "id": "zsHrASoZ03CO",
        "colab_type": "code",
        "colab": {}
      },
      "cell_type": "code",
      "source": [
        ""
      ],
      "execution_count": 0,
      "outputs": []
    },
    {
      "metadata": {
        "id": "aryxAV_3zUNE",
        "colab_type": "text"
      },
      "cell_type": "markdown",
      "source": [
        "#### Make a list for Non-routine cognitive- Interactive"
      ]
    },
    {
      "metadata": {
        "id": "lWWnnE8C_qwr",
        "colab_type": "code",
        "colab": {}
      },
      "cell_type": "code",
      "source": [
        "# Make a list for 10 years, use 'negotiation score'in Skills, Element id is 2.B.1.d\n",
        "negotiationlist=[]\n",
        "totalemployment=[]\n",
        "for year in range(2007,2017):\n",
        "  tempsum=0\n",
        "  denom=0\n",
        "  cutyear=df.loc[df['year']==year]\n",
        "  for occcode in targetlist:\n",
        "    cutocc=cutyear.loc[cutyear['occ_code']==occcode]\n",
        "    employment=cutocc['tot_emp_num'].sum()\n",
        "    denom+=employment\n",
        "    temp1=Skills.loc[Skills['SOC Code']==occcode]  \n",
        "    score_series=temp1.loc[temp1['Element ID']=='2.B.1.d']['Data Value']\n",
        "    try:\n",
        "      score=float(score_series)\n",
        "    except:\n",
        "      continue      \n",
        "    weightedscore=int(employment*score)\n",
        "    tempsum+=weightedscore\n",
        "  valueofyear=tempsum/denom\n",
        "  negotiationlist.append(valueofyear)\n",
        "  totalemployment.append(denom)\n",
        "#    "
      ],
      "execution_count": 0,
      "outputs": []
    },
    {
      "metadata": {
        "id": "jWOC7ADy_Wou",
        "colab_type": "text"
      },
      "cell_type": "markdown",
      "source": [
        "#### Change' Negotiation' to 4.A.2.b.6-Organizing, Planning, and Prioritizing Work, Non-Routine Cognitive"
      ]
    },
    {
      "metadata": {
        "id": "TDf4QVQJ-cvI",
        "colab_type": "code",
        "colab": {}
      },
      "cell_type": "code",
      "source": [
        "# Make a list for 10 years,use 'Organizing, Planning, and Prioritizing Work' in Work Activities, Element id is 4.A.2.b.6\n",
        "OPPlist=[]\n",
        "totalemployment=[]\n",
        "for year in range(2007,2017):\n",
        "  tempsum=0\n",
        "  denom=0\n",
        "  cutyear=df.loc[df['year']==year]\n",
        "  for occcode in targetlist:\n",
        "    cutocc=cutyear.loc[cutyear['occ_code']==occcode]\n",
        "    employment=cutocc['tot_emp_num'].sum()\n",
        "    denom+=employment\n",
        "    temp1=Activities.loc[Activities['occ_code']==occcode]  \n",
        "    score_series=temp1.loc[temp1['Element ID']=='4.A.2.b.6']['Data Value']\n",
        "    try:\n",
        "      score=float(score_series)\n",
        "    except:\n",
        "      continue      \n",
        "    weightedscore=int(employment*score)\n",
        "    tempsum+=weightedscore\n",
        "  OPPlist.append(tempsum)\n",
        "  totalemployment.append(denom)\n",
        "\n"
      ],
      "execution_count": 0,
      "outputs": []
    },
    {
      "metadata": {
        "id": "t3b-ZBdyE7_0",
        "colab_type": "code",
        "outputId": "859550ef-1950-4920-899e-740394aab020",
        "colab": {
          "base_uri": "https://localhost:8080/",
          "height": 193
        }
      },
      "cell_type": "code",
      "source": [
        "totalemployment"
      ],
      "execution_count": 38,
      "outputs": [
        {
          "output_type": "execute_result",
          "data": {
            "text/plain": [
              "[11420590.0,\n",
              " 11196570.0,\n",
              " 10161260.0,\n",
              " 9177840.0,\n",
              " 9087980.0,\n",
              " 9241660.0,\n",
              " 9500890.0,\n",
              " 9914140.0,\n",
              " 10302570.0,\n",
              " 10656980.0]"
            ]
          },
          "metadata": {
            "tags": []
          },
          "execution_count": 38
        }
      ]
    },
    {
      "metadata": {
        "id": "q7eAq3YB_qqK",
        "colab_type": "code",
        "outputId": "aa0a252f-53a1-4909-da75-0a24c9037d26",
        "colab": {
          "base_uri": "https://localhost:8080/",
          "height": 191
        }
      },
      "cell_type": "code",
      "source": [
        "OPPlist"
      ],
      "execution_count": 41,
      "outputs": [
        {
          "output_type": "execute_result",
          "data": {
            "text/plain": [
              "[35584424,\n",
              " 34956287,\n",
              " 31859339,\n",
              " 29002715,\n",
              " 28870088,\n",
              " 29410686,\n",
              " 30163494,\n",
              " 31378010,\n",
              " 32568201,\n",
              " 33561354]"
            ]
          },
          "metadata": {
            "tags": []
          },
          "execution_count": 41
        }
      ]
    },
    {
      "metadata": {
        "colab_type": "text",
        "id": "3t5nO_U7z8cc"
      },
      "cell_type": "markdown",
      "source": [
        "#### Make a list for Non-routine cognitive- Analytic"
      ]
    },
    {
      "metadata": {
        "id": "uABCcyLb_qfp",
        "colab_type": "code",
        "colab": {}
      },
      "cell_type": "code",
      "source": [
        "# Make a list for 10 years, use 'Mathematical Reasoning' in Abilities, Element id is 1.A.1.c.1\n",
        "MATHlist=[]\n",
        "for year in range(2007,2017):\n",
        "  tempsum=0\n",
        "  cutyear=df.loc[df['year']==year]\n",
        "  for occcode in targetlist:\n",
        "    cutocc=cutyear.loc[cutyear['occ_code']==occcode]\n",
        "    employment=cutocc['tot_emp_num'].sum()\n",
        "    temp1=Abilities.loc[Abilities['SOC Code']==occcode]  \n",
        "    score_series=temp1.loc[temp1['Element ID']=='1.A.1.c.1']['Data Value']\n",
        "    try:\n",
        "      score=float(score_series)\n",
        "    except:\n",
        "      continue      \n",
        "    weightedscore=int(employment*score)\n",
        "    tempsum+=weightedscore\n",
        "  MATHlist.append(tempsum)"
      ],
      "execution_count": 0,
      "outputs": []
    },
    {
      "metadata": {
        "id": "UZjjnT0o-RIr",
        "colab_type": "code",
        "outputId": "79d3d914-ae28-446e-aca5-18578723e4df",
        "colab": {
          "base_uri": "https://localhost:8080/",
          "height": 193
        }
      },
      "cell_type": "code",
      "source": [
        "MATHlist"
      ],
      "execution_count": 0,
      "outputs": [
        {
          "output_type": "execute_result",
          "data": {
            "text/plain": [
              "[19912594,\n",
              " 19665161,\n",
              " 18041007,\n",
              " 16346415,\n",
              " 16223788,\n",
              " 16444917,\n",
              " 16858215,\n",
              " 17496147,\n",
              " 18181594,\n",
              " 18739184]"
            ]
          },
          "metadata": {
            "tags": []
          },
          "execution_count": 39
        }
      ]
    },
    {
      "metadata": {
        "colab_type": "text",
        "id": "k0FXaxsa1MOS"
      },
      "cell_type": "markdown",
      "source": [
        "#### Make a list for Non-routine Manual"
      ]
    },
    {
      "metadata": {
        "id": "mSHaKASD3kGx",
        "colab_type": "code",
        "colab": {}
      },
      "cell_type": "code",
      "source": [
        "# Make a list for 10 years, use 'Manual Dexterity' in Abilities, Element id is 1.A.2.a.2\n",
        "Manulist=[]\n",
        "for year in range(2007,2017):\n",
        "  tempsum=0\n",
        "  cutyear=df.loc[df['year']==year]\n",
        "  for occcode in targetlist:\n",
        "    cutocc=cutyear.loc[cutyear['occ_code']==occcode]\n",
        "    employment=cutocc['tot_emp_num'].sum()\n",
        "    temp1=Abilities.loc[Abilities['SOC Code']==occcode]  \n",
        "    score_series=temp1.loc[temp1['Element ID']=='1.A.2.a.2']['Data Value']\n",
        "    try:\n",
        "      score=float(score_series)\n",
        "    except:\n",
        "      continue      \n",
        "    weightedscore=int(employment*score)\n",
        "    tempsum+=weightedscore\n",
        "  Manulist.append(tempsum)"
      ],
      "execution_count": 0,
      "outputs": []
    },
    {
      "metadata": {
        "id": "dC_qtXjG14HS",
        "colab_type": "code",
        "outputId": "14510d77-30fb-4124-bfcf-11582714c049",
        "colab": {
          "base_uri": "https://localhost:8080/",
          "height": 193
        }
      },
      "cell_type": "code",
      "source": [
        "Manulist"
      ],
      "execution_count": 0,
      "outputs": [
        {
          "output_type": "execute_result",
          "data": {
            "text/plain": [
              "[22312815,\n",
              " 21779841,\n",
              " 19673674,\n",
              " 17771392,\n",
              " 17570343,\n",
              " 17866598,\n",
              " 18349511,\n",
              " 19184264,\n",
              " 19971208,\n",
              " 20634037]"
            ]
          },
          "metadata": {
            "tags": []
          },
          "execution_count": 41
        }
      ]
    },
    {
      "metadata": {
        "id": "KBTeVKPp43SA",
        "colab_type": "code",
        "colab": {}
      },
      "cell_type": "code",
      "source": [
        ""
      ],
      "execution_count": 0,
      "outputs": []
    },
    {
      "metadata": {
        "colab_type": "text",
        "id": "xNXnSvqs2DFf"
      },
      "cell_type": "markdown",
      "source": [
        "#### Make a list for Routine Manual"
      ]
    },
    {
      "metadata": {
        "id": "N2d2WNFH5FZF",
        "colab_type": "code",
        "colab": {}
      },
      "cell_type": "code",
      "source": [
        "# Make a list for 10 years, use 'Finger Dexterity' in Abilities, Element id is 1.A.2.a.3\n",
        "FingDexlist=[]\n",
        "for year in range(2007,2017):\n",
        "  tempsum=0\n",
        "  cutyear=df.loc[df['year']==year]\n",
        "  for occcode in targetlist:\n",
        "    cutocc=cutyear.loc[cutyear['occ_code']==occcode]\n",
        "    employment=cutocc['tot_emp_num'].sum()\n",
        "    temp1=Abilities.loc[Abilities['SOC Code']==occcode]  \n",
        "    score_series=temp1.loc[temp1['Element ID']=='1.A.2.a.3']['Data Value']\n",
        "    try:\n",
        "      score=float(score_series)\n",
        "    except:\n",
        "      continue      \n",
        "    weightedscore=int(employment*score)\n",
        "    tempsum+=weightedscore\n",
        "  FingDexlist.append(tempsum)"
      ],
      "execution_count": 0,
      "outputs": []
    },
    {
      "metadata": {
        "id": "ONrMMCXJ52L0",
        "colab_type": "code",
        "outputId": "276b15d5-6e40-4f8c-b327-4a684cb83857",
        "colab": {
          "base_uri": "https://localhost:8080/",
          "height": 193
        }
      },
      "cell_type": "code",
      "source": [
        "FingDexlist"
      ],
      "execution_count": 0,
      "outputs": [
        {
          "output_type": "execute_result",
          "data": {
            "text/plain": [
              "[24584630,\n",
              " 24114146,\n",
              " 21950130,\n",
              " 19897246,\n",
              " 19706752,\n",
              " 20027977,\n",
              " 20523187,\n",
              " 21382383,\n",
              " 22214392,\n",
              " 22923699]"
            ]
          },
          "metadata": {
            "tags": []
          },
          "execution_count": 43
        }
      ]
    },
    {
      "metadata": {
        "id": "L7v9UWlH8-Ep",
        "colab_type": "code",
        "colab": {}
      },
      "cell_type": "code",
      "source": [
        ""
      ],
      "execution_count": 0,
      "outputs": []
    },
    {
      "metadata": {
        "colab_type": "text",
        "id": "04MUDDY22woC"
      },
      "cell_type": "markdown",
      "source": [
        "#### Make a list for Routine Cognitive"
      ]
    },
    {
      "metadata": {
        "id": "dlx1vyqDzLJl",
        "colab_type": "code",
        "colab": {}
      },
      "cell_type": "code",
      "source": [
        "# Make a list for 10 years, use 'Guiding, Directing and Motivating' in Work Activities, Element id is 4.A.4.b.4\n",
        "GDMlist=[]\n",
        "for year in range(2007,2017):\n",
        "  tempsum=0\n",
        "  cutyear=df.loc[df['year']==year]\n",
        "  for occcode in targetlist:\n",
        "    cutocc=cutyear.loc[cutyear['occ_code']==occcode]\n",
        "    employment=cutocc['tot_emp_num'].sum()\n",
        "    temp1=Activities.loc[Activities['occ_code']==occcode]  \n",
        "    score_series=temp1.loc[temp1['Element ID']=='4.A.4.b.4']['Data Value']\n",
        "    try:\n",
        "      score=float(score_series)\n",
        "    except:\n",
        "      continue      \n",
        "    weightedscore=int(employment*score)\n",
        "    tempsum+=weightedscore\n",
        "  GDMlist.append(tempsum)"
      ],
      "execution_count": 0,
      "outputs": []
    },
    {
      "metadata": {
        "id": "QJTwDRfrBOwr",
        "colab_type": "text"
      },
      "cell_type": "markdown",
      "source": [
        "#### Change GDM to 4.A.2.a.3 Evaluating Information to Determine Compliance with Standards for Routine Cognitive"
      ]
    },
    {
      "metadata": {
        "id": "mwaeN3toBOT8",
        "colab_type": "code",
        "colab": {}
      },
      "cell_type": "code",
      "source": [
        "# Make a list for 10 years, use 'Evaluating Information to Determine Compliance with Standards' in Work Activities, Element id is 4.A.2.a.3\n",
        "EDClist=[]\n",
        "for year in range(2007,2017):\n",
        "  tempsum=0\n",
        "  cutyear=df.loc[df['year']==year]\n",
        "  for occcode in targetlist:\n",
        "    cutocc=cutyear.loc[cutyear['occ_code']==occcode]\n",
        "    employment=cutocc['tot_emp_num'].sum()\n",
        "    temp1=Activities.loc[Activities['occ_code']==occcode]  \n",
        "    score_series=temp1.loc[temp1['Element ID']=='4.A.2.a.3']['Data Value']\n",
        "    try:\n",
        "      score=float(score_series)\n",
        "    except:\n",
        "      continue      \n",
        "    weightedscore=int(employment*score)\n",
        "    tempsum+=weightedscore\n",
        "  EDClist.append(tempsum)"
      ],
      "execution_count": 0,
      "outputs": []
    },
    {
      "metadata": {
        "id": "yEA3EWso8QF_",
        "colab_type": "code",
        "outputId": "83857402-bd17-46d1-942b-4c49c6b4d091",
        "colab": {
          "base_uri": "https://localhost:8080/",
          "height": 193
        }
      },
      "cell_type": "code",
      "source": [
        "EDClist"
      ],
      "execution_count": 43,
      "outputs": [
        {
          "output_type": "execute_result",
          "data": {
            "text/plain": [
              "[26912723,\n",
              " 26448298,\n",
              " 24094036,\n",
              " 21928552,\n",
              " 21811592,\n",
              " 22215036,\n",
              " 22805286,\n",
              " 23759921,\n",
              " 24694770,\n",
              " 25453051]"
            ]
          },
          "metadata": {
            "tags": []
          },
          "execution_count": 43
        }
      ]
    },
    {
      "metadata": {
        "id": "7_T0yjP59A2x",
        "colab_type": "text"
      },
      "cell_type": "markdown",
      "source": [
        "##Conduct 2*2 Autor analysis for Manufature "
      ]
    },
    {
      "metadata": {
        "id": "L_enVmjl9HT4",
        "colab_type": "code",
        "colab": {}
      },
      "cell_type": "code",
      "source": [
        "!wget \"https://www.dropbox.com/s/mzly495b0ns41wi/oes_nat4d_2007-2016.csv?dl=0\" -q -O \"oes_nat4d_2007-2016.csv\" \n",
        "allOLS=pd.read_csv(\"oes_nat4d_2007-2016.csv\",low_memory=False)"
      ],
      "execution_count": 0,
      "outputs": []
    },
    {
      "metadata": {
        "id": "-QZupVFTMIk4",
        "colab_type": "code",
        "colab": {}
      },
      "cell_type": "code",
      "source": [
        "allOLS"
      ],
      "execution_count": 0,
      "outputs": []
    },
    {
      "metadata": {
        "id": "dsNW3PoqO8c7",
        "colab_type": "code",
        "colab": {}
      },
      "cell_type": "code",
      "source": [
        "# make a series of Manufactureing 4-digit NAICS code\n",
        "!wget \"https://www.dropbox.com/s/sw4i9fj6lgnlq58/4digit_manu.csv?dl=0\" -q -O \"4digit_manu.csv\" \n",
        "manu_naisc=pd.read_csv(\"4digit_manu.csv\",low_memory=False)"
      ],
      "execution_count": 0,
      "outputs": []
    },
    {
      "metadata": {
        "id": "9tVT64VNM5Pv",
        "colab_type": "code",
        "colab": {}
      },
      "cell_type": "code",
      "source": [
        ""
      ],
      "execution_count": 0,
      "outputs": []
    },
    {
      "metadata": {
        "id": "jRS2RYjBNaEz",
        "colab_type": "code",
        "colab": {}
      },
      "cell_type": "code",
      "source": [
        "# Filter out manufature OLS data,build the database called manudf\n",
        "manudf=allOLS.loc[allOLS['naics'].isin(manu_naisc['naisc'])]"
      ],
      "execution_count": 0,
      "outputs": []
    },
    {
      "metadata": {
        "id": "K3Z5gmqiWeCF",
        "colab_type": "code",
        "colab": {}
      },
      "cell_type": "code",
      "source": [
        "# Create occupation list for manufature, and exclude those occ_code end with 00\n",
        "manu_occ=manudf['occ_code'].unique()\n",
        "manu_occ_list=[]\n",
        "for row in manu_occ:\n",
        "  temp=str(row)\n",
        "  if temp[5:]!='00':\n",
        "    new=temp[:2]+temp[3:]\n",
        "    new=int(new)\n",
        "    manu_occ_list.append(new)\n",
        "  else:\n",
        "    continue"
      ],
      "execution_count": 0,
      "outputs": []
    },
    {
      "metadata": {
        "id": "88m8YojVV9A1",
        "colab_type": "code",
        "colab": {}
      },
      "cell_type": "code",
      "source": [
        "# There are 918 occupations in Manufaturinng, and their occ_code does not end with 00\n",
        "manu_occ_list"
      ],
      "execution_count": 0,
      "outputs": []
    },
    {
      "metadata": {
        "id": "t4_jQur9bNjE",
        "colab_type": "code",
        "colab": {}
      },
      "cell_type": "code",
      "source": [
        "manudf"
      ],
      "execution_count": 0,
      "outputs": []
    },
    {
      "metadata": {
        "id": "MuUmklSckUu1",
        "colab_type": "code",
        "colab": {
          "base_uri": "https://localhost:8080/",
          "height": 123
        },
        "outputId": "c440699a-bf43-4c31-8e3f-a8b8510040e1"
      },
      "cell_type": "code",
      "source": [
        "# Transform manufacture occupation code to the right form\n",
        "manudf['occ_code'] = manudf['occ_code'].map(lambda x: x.replace('-',''))"
      ],
      "execution_count": 51,
      "outputs": [
        {
          "output_type": "stream",
          "text": [
            "/usr/local/lib/python3.6/dist-packages/ipykernel_launcher.py:1: SettingWithCopyWarning: \n",
            "A value is trying to be set on a copy of a slice from a DataFrame.\n",
            "Try using .loc[row_indexer,col_indexer] = value instead\n",
            "\n",
            "See the caveats in the documentation: http://pandas.pydata.org/pandas-docs/stable/indexing.html#indexing-view-versus-copy\n",
            "  \"\"\"Entry point for launching an IPython kernel.\n"
          ],
          "name": "stderr"
        }
      ]
    },
    {
      "metadata": {
        "id": "X80ockXsb75S",
        "colab_type": "code",
        "colab": {}
      },
      "cell_type": "code",
      "source": [
        "manudf"
      ],
      "execution_count": 0,
      "outputs": []
    },
    {
      "metadata": {
        "id": "LyOcHicnUBmc",
        "colab_type": "text"
      },
      "cell_type": "markdown",
      "source": [
        "####Non-routine Interactive-Negotiation"
      ]
    },
    {
      "metadata": {
        "id": "pmEaDPrBMJw-",
        "colab_type": "code",
        "colab": {}
      },
      "cell_type": "code",
      "source": [
        "# Make a list for 10 years, use 'negotiation score'in Skills, Element id is 2.B.1.d\n",
        "negotiationlist=[]\n",
        "totalemployment=[]\n",
        "for year in range(2007,2017):\n",
        "  tempsum=0\n",
        "  denom=0\n",
        "  cutyear=manudf.loc[manudf['year']==year]\n",
        "  for occcode in manu_occ_list:\n",
        "    convertocc=str(occcode)\n",
        "    cutocc=cutyear.loc[cutyear['occ_code']==convertocc]\n",
        "    temp=pd.to_numeric(cutocc['tot_emp'], errors='coerce').fillna(0).astype(int)\n",
        "    employment=temp.sum()\n",
        "    denom+=employment\n",
        "    temp1=Skills.loc[Skills['SOC Code']==occcode]  \n",
        "    score_series=temp1.loc[temp1['Element ID']=='2.B.1.d']['Data Value']\n",
        "    try:\n",
        "      score=float(score_series)\n",
        "    except:\n",
        "      continue      \n",
        "    weightedscore=int(employment*score)\n",
        "    tempsum+=weightedscore\n",
        "  negotiationlist.append(tempsum)\n",
        "  totalemployment.append(denom)"
      ],
      "execution_count": 0,
      "outputs": []
    },
    {
      "metadata": {
        "id": "pBtXuEViY0Jh",
        "colab_type": "code",
        "colab": {
          "base_uri": "https://localhost:8080/",
          "height": 167
        },
        "outputId": "64644d22-4416-4260-8eee-a82e3beec480"
      },
      "cell_type": "code",
      "source": [
        "negotiationlist"
      ],
      "execution_count": 10,
      "outputs": [
        {
          "output_type": "error",
          "ename": "NameError",
          "evalue": "ignored",
          "traceback": [
            "\u001b[0;31m---------------------------------------------------------------------------\u001b[0m",
            "\u001b[0;31mNameError\u001b[0m                                 Traceback (most recent call last)",
            "\u001b[0;32m<ipython-input-10-cc61af7c71e5>\u001b[0m in \u001b[0;36m<module>\u001b[0;34m()\u001b[0m\n\u001b[0;32m----> 1\u001b[0;31m \u001b[0mnegotiationlist\u001b[0m\u001b[0;34m\u001b[0m\u001b[0;34m\u001b[0m\u001b[0m\n\u001b[0m",
            "\u001b[0;31mNameError\u001b[0m: name 'negotiationlist' is not defined"
          ]
        }
      ]
    },
    {
      "metadata": {
        "id": "dmqVIZNhOMpA",
        "colab_type": "code",
        "colab": {}
      },
      "cell_type": "code",
      "source": [
        "totalemployment"
      ],
      "execution_count": 0,
      "outputs": []
    },
    {
      "metadata": {
        "id": "QIBYOXgCUPIz",
        "colab_type": "text"
      },
      "cell_type": "markdown",
      "source": [
        "####Non routine- Cognitive\n"
      ]
    },
    {
      "metadata": {
        "id": "Qfqu8KugOs38",
        "colab_type": "code",
        "colab": {}
      },
      "cell_type": "code",
      "source": [
        "# Make a list for 10 years, use 'Mathematical Reasoning' in Abilities, Element id is 1.A.1.c.1\n",
        "MATHlist=[]\n",
        "totalemployment=[]\n",
        "for year in range(2007,2017):\n",
        "  tempsum=0\n",
        "  denom=0\n",
        "  cutyear=manudf.loc[manudf['year']==year]\n",
        "  for occcode in manu_occ_list:\n",
        "    convertocc=str(occcode)\n",
        "    cutocc=cutyear.loc[cutyear['occ_code']==convertocc]\n",
        "    temp=pd.to_numeric(cutocc['tot_emp'], errors='coerce').fillna(0).astype(int)\n",
        "    employment=temp.sum()\n",
        "    denom+=employment\n",
        "    temp1=Abilities.loc[Abilities['SOC Code']==occcode]  \n",
        "    score_series=temp1.loc[temp1['Element ID']=='1.A.1.c.1']['Data Value']\n",
        "    try:\n",
        "      score=float(score_series)\n",
        "    except:\n",
        "      continue      \n",
        "    weightedscore=int(employment*score)\n",
        "    tempsum+=weightedscore\n",
        "  MATHlist.append(tempsum)\n",
        "  totalemployment.append(denom)"
      ],
      "execution_count": 0,
      "outputs": []
    },
    {
      "metadata": {
        "id": "bvyjz6zxSe3E",
        "colab_type": "code",
        "colab": {
          "base_uri": "https://localhost:8080/",
          "height": 193
        },
        "outputId": "33ebeb03-7220-4490-d561-ac8d2e3c2f21"
      },
      "cell_type": "code",
      "source": [
        "MATHlist"
      ],
      "execution_count": 103,
      "outputs": [
        {
          "output_type": "execute_result",
          "data": {
            "text/plain": [
              "[24895469,\n",
              " 24197304,\n",
              " 22450898,\n",
              " 4196242,\n",
              " 4228090,\n",
              " 4353602,\n",
              " 4407863,\n",
              " 4423514,\n",
              " 4409465,\n",
              " 4369336]"
            ]
          },
          "metadata": {
            "tags": []
          },
          "execution_count": 103
        }
      ]
    },
    {
      "metadata": {
        "id": "iUwjWxpuSo8q",
        "colab_type": "code",
        "colab": {}
      },
      "cell_type": "code",
      "source": [
        "totalemployment"
      ],
      "execution_count": 0,
      "outputs": []
    },
    {
      "metadata": {
        "id": "SgtLmxttVnWh",
        "colab_type": "text"
      },
      "cell_type": "markdown",
      "source": [
        "#### Routine-manu\n"
      ]
    },
    {
      "metadata": {
        "id": "tfy0Q7DSYoPF",
        "colab_type": "code",
        "colab": {}
      },
      "cell_type": "code",
      "source": [
        "# Make a list for 10 years, use 'Finger Dexterity' in Abilities, Element id is 1.A.2.a.3\n",
        "\n",
        "FingDexlist=[]\n",
        "for year in range(2007,2017):\n",
        "  tempsum=0\n",
        "  denom=0\n",
        "  cutyear=manudf.loc[manudf['year']==year]\n",
        "  for occcode in manu_occ_list:\n",
        "    convertocc=str(occcode)\n",
        "    cutocc=cutyear.loc[cutyear['occ_code']==convertocc]\n",
        "    temp=pd.to_numeric(cutocc['tot_emp'], errors='coerce').fillna(0).astype(int)\n",
        "    employment=temp.sum()\n",
        "    denom+=employment\n",
        "    temp1=Abilities.loc[Abilities['SOC Code']==occcode]  \n",
        "    score_series=temp1.loc[temp1['Element ID']=='1.A.2.a.3']['Data Value']\n",
        "    try:\n",
        "      score=float(score_series)\n",
        "    except:\n",
        "      continue      \n",
        "    weightedscore=int(employment*score)\n",
        "    tempsum+=weightedscore\n",
        "  FingDexlist.append(tempsum)\n",
        "\n"
      ],
      "execution_count": 0,
      "outputs": []
    },
    {
      "metadata": {
        "id": "GENqQC4zWFkU",
        "colab_type": "code",
        "colab": {
          "base_uri": "https://localhost:8080/",
          "height": 193
        },
        "outputId": "dd6f971b-81a1-410d-dd59-a1d7e8672930"
      },
      "cell_type": "code",
      "source": [
        "FingDexlist"
      ],
      "execution_count": 105,
      "outputs": [
        {
          "output_type": "execute_result",
          "data": {
            "text/plain": [
              "[32605177,\n",
              " 31759841,\n",
              " 29040601,\n",
              " 4342780,\n",
              " 4362194,\n",
              " 4469341,\n",
              " 4502345,\n",
              " 4504191,\n",
              " 4475162,\n",
              " 4447947]"
            ]
          },
          "metadata": {
            "tags": []
          },
          "execution_count": 105
        }
      ]
    },
    {
      "metadata": {
        "id": "AygnwCeAWQTc",
        "colab_type": "text"
      },
      "cell_type": "markdown",
      "source": [
        "#### NonRoutine-manu"
      ]
    },
    {
      "metadata": {
        "id": "ZODA0HUwWS3t",
        "colab_type": "code",
        "colab": {}
      },
      "cell_type": "code",
      "source": [
        "# Make a list for 10 years, use 'Manual Dexterity' in Abilities, Element id is 1.A.2.a.2\n",
        "Manulist=[]\n",
        "for year in range(2007,2017):\n",
        "  tempsum=0\n",
        "  denom=0\n",
        "  cutyear=manudf.loc[manudf['year']==year]\n",
        "  for occcode in manu_occ_list:\n",
        "    convertocc=str(occcode)\n",
        "    cutocc=cutyear.loc[cutyear['occ_code']==convertocc]\n",
        "    temp=pd.to_numeric(cutocc['tot_emp'], errors='coerce').fillna(0).astype(int)\n",
        "    employment=temp.sum()\n",
        "    denom+=employment\n",
        "    temp1=Abilities.loc[Abilities['SOC Code']==occcode]  \n",
        "    score_series=temp1.loc[temp1['Element ID']=='1.A.2.a.2']['Data Value']\n",
        "    try:\n",
        "      score=float(score_series)\n",
        "    except:\n",
        "      continue      \n",
        "    weightedscore=int(employment*score)\n",
        "    tempsum+=weightedscore\n",
        "  Manulist.append(tempsum)"
      ],
      "execution_count": 0,
      "outputs": []
    },
    {
      "metadata": {
        "id": "LrIj0vvOXTWM",
        "colab_type": "code",
        "colab": {
          "base_uri": "https://localhost:8080/",
          "height": 193
        },
        "outputId": "401f068a-856e-4b42-8520-4725b9359d51"
      },
      "cell_type": "code",
      "source": [
        "Manulist"
      ],
      "execution_count": 107,
      "outputs": [
        {
          "output_type": "execute_result",
          "data": {
            "text/plain": [
              "[29583455,\n",
              " 28878985,\n",
              " 26265325,\n",
              " 3503432,\n",
              " 3501768,\n",
              " 3542388,\n",
              " 3559342,\n",
              " 3547666,\n",
              " 3523351,\n",
              " 3507404]"
            ]
          },
          "metadata": {
            "tags": []
          },
          "execution_count": 107
        }
      ]
    },
    {
      "metadata": {
        "id": "ZVtvp9CVYudk",
        "colab_type": "text"
      },
      "cell_type": "markdown",
      "source": [
        "#### Routine Cognitive"
      ]
    },
    {
      "metadata": {
        "id": "RoGE2U5bYxbW",
        "colab_type": "code",
        "colab": {}
      },
      "cell_type": "code",
      "source": [
        "# Make a list for 10 years, use 'Guiding, Directing and Motivating' in Work Activities, Element id is 4.A.4.b.4\n",
        "GDMlist=[]\n",
        "for year in range(2007,2017):\n",
        "  tempsum=0\n",
        "  denom=0\n",
        "  cutyear=manudf.loc[manudf['year']==year]\n",
        "  for occcode in manu_occ_list:\n",
        "    convertocc=str(occcode)\n",
        "    cutocc=cutyear.loc[cutyear['occ_code']==convertocc]\n",
        "    temp=pd.to_numeric(cutocc['tot_emp'], errors='coerce').fillna(0).astype(int)\n",
        "    employment=temp.sum()\n",
        "    denom+=employment\n",
        "    temp1=Activities.loc[Activities['occ_code']==occcode]  \n",
        "    score_series=temp1.loc[temp1['Element ID']=='4.A.4.b.4']['Data Value']\n",
        "    try:\n",
        "      score=float(score_series)\n",
        "    except:\n",
        "      continue      \n",
        "    weightedscore=int(employment*score)\n",
        "    tempsum+=weightedscore\n",
        "  GDMlist.append(tempsum)\n"
      ],
      "execution_count": 0,
      "outputs": []
    },
    {
      "metadata": {
        "id": "702pt_98ZuBh",
        "colab_type": "code",
        "colab": {
          "base_uri": "https://localhost:8080/",
          "height": 193
        },
        "outputId": "10e5f71c-8bbe-4795-dabd-c36888480cfa"
      },
      "cell_type": "code",
      "source": [
        "GDMlist"
      ],
      "execution_count": 110,
      "outputs": [
        {
          "output_type": "execute_result",
          "data": {
            "text/plain": [
              "[26407883,\n",
              " 25687314,\n",
              " 23709918,\n",
              " 4045822,\n",
              " 4086543,\n",
              " 4260177,\n",
              " 4300382,\n",
              " 4339293,\n",
              " 4329824,\n",
              " 4272381]"
            ]
          },
          "metadata": {
            "tags": []
          },
          "execution_count": 110
        }
      ]
    },
    {
      "metadata": {
        "id": "gKLx85g8eSjk",
        "colab_type": "text"
      },
      "cell_type": "markdown",
      "source": [
        "## 2*2 Autor for Construction"
      ]
    },
    {
      "metadata": {
        "id": "ezjmBPgQnq6a",
        "colab_type": "code",
        "colab": {}
      },
      "cell_type": "code",
      "source": [
        "\n",
        "import numpy as np\n",
        "import pandas as pd\n",
        "import matplotlib\n",
        "import matplotlib.pyplot as pp\n",
        "\n",
        "#Download the CSV files that we need for Autor Method\n",
        "!wget \"https://www.dropbox.com/s/pnvz35bcthloy6n/Abilities.csv?dl=0\" -q -O \"Abilities.csv\" \n",
        "Abilities=pd.read_csv(\"Abilities.csv\",low_memory=False)\n",
        "!wget \"https://www.dropbox.com/s/5btim1otk24j05d/Skills.csv?dl=0\" -q -O \"Skills.csv\" \n",
        "Skills=pd.read_csv(\"Skills.csv\",low_memory=False)\n",
        "!wget \"https://www.dropbox.com/s/9ajd56nnhlrfo2m/Task%20Statements.csv?dl=0\" -q -O \"Task Statements.csv\" \n",
        "Tasks = pd.read_csv(\"Task Statements.csv\",low_memory=False)\n",
        "!wget \"https://www.dropbox.com/s/9ez75cfcojjpyur/Work%20Activities.csv?dl=0\" -q -O \"Work Activities.csv\" \n",
        "Activities = pd.read_csv(\"Work Activities.csv\",low_memory=False)\n",
        "# Dataframe\n",
        "\n",
        "!wget \"https://www.dropbox.com/s/mzly495b0ns41wi/oes_nat4d_2007-2016.csv?dl=0\" -q -O \"oes_nat4d_2007-2016.csv\" \n",
        "allOLS=pd.read_csv(\"oes_nat4d_2007-2016.csv\",low_memory=False)"
      ],
      "execution_count": 0,
      "outputs": []
    },
    {
      "metadata": {
        "id": "4dBOHL4xqRq9",
        "colab_type": "code",
        "colab": {}
      },
      "cell_type": "code",
      "source": [
        "!wget \"https://www.dropbox.com/s/mzly495b0ns41wi/oes_nat4d_2007-2016.csv?dl=0\" -q -O \"oes_nat4d_2007-2016.csv\" \n",
        "df=pd.read_csv(\"oes_nat4d_2007-2016.csv\",low_memory=False)"
      ],
      "execution_count": 0,
      "outputs": []
    },
    {
      "metadata": {
        "id": "SJ3cjuzGeQih",
        "colab_type": "code",
        "colab": {}
      },
      "cell_type": "code",
      "source": [
        "\n",
        "\n",
        "# make a series of Manufactureing 4-digit NAICS code\n",
        "\n",
        "\n",
        "# Filter out manufature OLS data,build the database called manudf\n",
        "df['naics'] = df['naics'].astype(str)\n",
        "df=df.loc[df['naics'].str.startswith(('23'))]\n",
        "list_naisc=df['naics']\n",
        "\n",
        "\n",
        "\n",
        "# Create occupation list for manufature, and exclude those occ_code end with 00\n",
        "industry_occ=df['occ_code'].unique()\n",
        "industry_occ_list=[]\n",
        "for row in industry_occ:\n",
        "  temp=str(row)\n",
        "  if temp[5:]!='00':\n",
        "    new=temp[:2]+temp[3:]\n",
        "    new=int(new)\n",
        "    industry_occ_list.append(new)\n",
        "  else:\n",
        "    continue\n",
        "# There are 918 occupations in Manufaturinng, and their occ_code does not end with 00\n",
        "industry_occ_list\n",
        "# Transform manufacture occupation code to the right form\n",
        "df['occ_code'] = df['occ_code'].map(lambda x: x.replace('-',''))"
      ],
      "execution_count": 0,
      "outputs": []
    },
    {
      "metadata": {
        "id": "NZqtTovbk1DB",
        "colab_type": "code",
        "colab": {}
      },
      "cell_type": "code",
      "source": [
        "df"
      ],
      "execution_count": 0,
      "outputs": []
    },
    {
      "metadata": {
        "id": "W0_Ecb7rj4ED",
        "colab_type": "code",
        "colab": {}
      },
      "cell_type": "code",
      "source": [
        "industry_occ_list"
      ],
      "execution_count": 0,
      "outputs": []
    },
    {
      "metadata": {
        "id": "ZsbiBXRDqZkg",
        "colab_type": "code",
        "colab": {}
      },
      "cell_type": "code",
      "source": [
        "# Make a list for 10 years, use 'negotiation score'in Skills, Element id is 2.B.1.d\n",
        "negotiationlist=[]\n",
        "totalemployment=[]\n",
        "for year in range(2007,2017):\n",
        "  tempsum=0\n",
        "  denom=0\n",
        "  cutyear=df.loc[df['year']==year]\n",
        "  for occcode in industry_occ_list:\n",
        "    convertocc=str(occcode)\n",
        "    cutocc=cutyear.loc[cutyear['occ_code']==convertocc]\n",
        "    temp=pd.to_numeric(cutocc['tot_emp'], errors='coerce').fillna(0).astype(int)\n",
        "    employment=temp.sum()\n",
        "    denom+=employment\n",
        "    temp1=Skills.loc[Skills['SOC Code']==occcode]  \n",
        "    score_series=temp1.loc[temp1['Element ID']=='2.B.1.d']['Data Value']\n",
        "    try:\n",
        "      score=float(score_series)\n",
        "    except:\n",
        "      continue      \n",
        "    weightedscore=int(employment*score)\n",
        "    tempsum+=weightedscore\n",
        "  negotiationlist.append(tempsum)\n",
        "  totalemployment.append(denom)\n",
        "# Make a list for 10 years, use 'Mathematical Reasoning' in Abilities, Element id is 1.A.1.c.1\n",
        "MATHlist=[]\n",
        "for year in range(2007,2017):\n",
        "  tempsum=0\n",
        "  denom=0\n",
        "  cutyear=df.loc[df['year']==year]\n",
        "  for occcode in industry_occ_list:\n",
        "    convertocc=str(occcode)\n",
        "    cutocc=cutyear.loc[cutyear['occ_code']==convertocc]\n",
        "    temp=pd.to_numeric(cutocc['tot_emp'], errors='coerce').fillna(0).astype(int)\n",
        "    employment=temp.sum()\n",
        "    denom+=employment\n",
        "    temp1=Abilities.loc[Abilities['SOC Code']==occcode]  \n",
        "    score_series=temp1.loc[temp1['Element ID']=='1.A.1.c.1']['Data Value']\n",
        "    try:\n",
        "      score=float(score_series)\n",
        "    except:\n",
        "      continue      \n",
        "    weightedscore=int(employment*score)\n",
        "    tempsum+=weightedscore\n",
        "  MATHlist.append(tempsum)  \n",
        "  \n",
        "# Make a list for 10 years, use 'Finger Dexterity' in Abilities, Element id is 1.A.2.a.3\n",
        "\n",
        "FingDexlist=[]\n",
        "for year in range(2007,2017):\n",
        "  tempsum=0\n",
        "  denom=0\n",
        "  cutyear=df.loc[df['year']==year]\n",
        "  for occcode in industry_occ_list:\n",
        "    convertocc=str(occcode)\n",
        "    cutocc=cutyear.loc[cutyear['occ_code']==convertocc]\n",
        "    temp=pd.to_numeric(cutocc['tot_emp'], errors='coerce').fillna(0).astype(int)\n",
        "    employment=temp.sum()\n",
        "    denom+=employment\n",
        "    temp1=Abilities.loc[Abilities['SOC Code']==occcode]  \n",
        "    score_series=temp1.loc[temp1['Element ID']=='1.A.2.a.3']['Data Value']\n",
        "    try:\n",
        "      score=float(score_series)\n",
        "    except:\n",
        "      continue      \n",
        "    weightedscore=int(employment*score)\n",
        "    tempsum+=weightedscore\n",
        "  FingDexlist.append(tempsum)\n",
        "  \n",
        "# Make a list for 10 years, use 'Manual Dexterity' in Abilities, Element id is 1.A.2.a.2\n",
        "Manulist=[]\n",
        "for year in range(2007,2017):\n",
        "  tempsum=0\n",
        "  denom=0\n",
        "  cutyear=df.loc[df['year']==year]\n",
        "  for occcode in industry_occ_list:\n",
        "    convertocc=str(occcode)\n",
        "    cutocc=cutyear.loc[cutyear['occ_code']==convertocc]\n",
        "    temp=pd.to_numeric(cutocc['tot_emp'], errors='coerce').fillna(0).astype(int)\n",
        "    employment=temp.sum()\n",
        "    denom+=employment\n",
        "    temp1=Abilities.loc[Abilities['SOC Code']==occcode]  \n",
        "    score_series=temp1.loc[temp1['Element ID']=='1.A.2.a.2']['Data Value']\n",
        "    try:\n",
        "      score=float(score_series)\n",
        "    except:\n",
        "      continue      \n",
        "    weightedscore=int(employment*score)\n",
        "    tempsum+=weightedscore\n",
        "  Manulist.append(tempsum)\n",
        "# Make a list for 10 years, use 'Guiding, Directing and Motivating' in Work Activities, Element id is 4.A.4.b.4\n",
        "GDMlist=[]\n",
        "for year in range(2007,2017):\n",
        "  tempsum=0\n",
        "  denom=0\n",
        "  cutyear=df.loc[df['year']==year]\n",
        "  for occcode in industry_occ_list:\n",
        "    convertocc=str(occcode)\n",
        "    cutocc=cutyear.loc[cutyear['occ_code']==convertocc]\n",
        "    temp=pd.to_numeric(cutocc['tot_emp'], errors='coerce').fillna(0).astype(int)\n",
        "    employment=temp.sum()\n",
        "    denom+=employment\n",
        "    temp1=Activities.loc[Activities['occ_code']==occcode]  \n",
        "    score_series=temp1.loc[temp1['Element ID']=='4.A.4.b.4']['Data Value']\n",
        "    try:\n",
        "      score=float(score_series)\n",
        "    except:\n",
        "      continue      \n",
        "    weightedscore=int(employment*score)\n",
        "    tempsum+=weightedscore\n",
        "  GDMlist.append(tempsum)"
      ],
      "execution_count": 0,
      "outputs": []
    },
    {
      "metadata": {
        "id": "5t-tyxkQstM_",
        "colab_type": "code",
        "colab": {
          "base_uri": "https://localhost:8080/",
          "height": 193
        },
        "outputId": "b9e55f82-b6c5-4009-f895-60e12156a0b9"
      },
      "cell_type": "code",
      "source": [
        "totalemployment"
      ],
      "execution_count": 33,
      "outputs": [
        {
          "output_type": "execute_result",
          "data": {
            "text/plain": [
              "[7616450,\n",
              " 7314590,\n",
              " 6437390,\n",
              " 242890,\n",
              " 242430,\n",
              " 452580,\n",
              " 461920,\n",
              " 455890,\n",
              " 464360,\n",
              " 477980]"
            ]
          },
          "metadata": {
            "tags": []
          },
          "execution_count": 33
        }
      ]
    },
    {
      "metadata": {
        "id": "fz8dngnpstF1",
        "colab_type": "code",
        "colab": {
          "base_uri": "https://localhost:8080/",
          "height": 193
        },
        "outputId": "8e6375ba-5f7e-4cfa-e750-e277d6b75c57"
      },
      "cell_type": "code",
      "source": [
        "# non-routine interactive\n",
        "negotiationlist"
      ],
      "execution_count": 164,
      "outputs": [
        {
          "output_type": "execute_result",
          "data": {
            "text/plain": [
              "[21272064,\n",
              " 20978248,\n",
              " 19167736,\n",
              " 738965,\n",
              " 764538,\n",
              " 779717,\n",
              " 760388,\n",
              " 747050,\n",
              " 761819,\n",
              " 779367]"
            ]
          },
          "metadata": {
            "tags": []
          },
          "execution_count": 164
        }
      ]
    },
    {
      "metadata": {
        "id": "UNsl9io-ss8J",
        "colab_type": "code",
        "colab": {
          "base_uri": "https://localhost:8080/",
          "height": 193
        },
        "outputId": "31ddd0af-9da0-43c7-a48a-71387024a2af"
      },
      "cell_type": "code",
      "source": [
        "# non-routine analytic\n",
        "MATHlist"
      ],
      "execution_count": 165,
      "outputs": [
        {
          "output_type": "execute_result",
          "data": {
            "text/plain": [
              "[19127772,\n",
              " 18862771,\n",
              " 17241274,\n",
              " 684231,\n",
              " 704233,\n",
              " 722086,\n",
              " 704181,\n",
              " 687504,\n",
              " 704162,\n",
              " 725600]"
            ]
          },
          "metadata": {
            "tags": []
          },
          "execution_count": 165
        }
      ]
    },
    {
      "metadata": {
        "id": "3F4XUWaouL_y",
        "colab_type": "code",
        "colab": {
          "base_uri": "https://localhost:8080/",
          "height": 193
        },
        "outputId": "ecfc06e3-783f-4ef1-d17f-d8ea4a22e2a4"
      },
      "cell_type": "code",
      "source": [
        "# non routine manu\n",
        "FingDexlist"
      ],
      "execution_count": 166,
      "outputs": [
        {
          "output_type": "execute_result",
          "data": {
            "text/plain": [
              "[23470378,\n",
              " 22977819,\n",
              " 20820998,\n",
              " 708657,\n",
              " 734296,\n",
              " 753971,\n",
              " 740623,\n",
              " 725902,\n",
              " 734455,\n",
              " 752129]"
            ]
          },
          "metadata": {
            "tags": []
          },
          "execution_count": 166
        }
      ]
    },
    {
      "metadata": {
        "id": "oC9s5J-Bssy-",
        "colab_type": "code",
        "colab": {
          "base_uri": "https://localhost:8080/",
          "height": 193
        },
        "outputId": "93d63d5d-93ab-47bd-9d15-85d61f2eb997"
      },
      "cell_type": "code",
      "source": [
        "# routine manu\n",
        "Manulist"
      ],
      "execution_count": 167,
      "outputs": [
        {
          "output_type": "execute_result",
          "data": {
            "text/plain": [
              "[21311658,\n",
              " 20761268,\n",
              " 18662369,\n",
              " 560691,\n",
              " 582656,\n",
              " 593494,\n",
              " 586562,\n",
              " 573560,\n",
              " 576754,\n",
              " 582314]"
            ]
          },
          "metadata": {
            "tags": []
          },
          "execution_count": 167
        }
      ]
    },
    {
      "metadata": {
        "id": "YTln6yI0uVtr",
        "colab_type": "code",
        "colab": {
          "base_uri": "https://localhost:8080/",
          "height": 193
        },
        "outputId": "2422f751-27c4-44cc-8a87-51f37394d71b"
      },
      "cell_type": "code",
      "source": [
        "# routine cognitive\n",
        "GDMlist"
      ],
      "execution_count": 168,
      "outputs": [
        {
          "output_type": "execute_result",
          "data": {
            "text/plain": [
              "[22103895,\n",
              " 21684769,\n",
              " 19622479,\n",
              " 771695,\n",
              " 767265,\n",
              " 802164,\n",
              " 778840,\n",
              " 757418,\n",
              " 779691,\n",
              " 792494]"
            ]
          },
          "metadata": {
            "tags": []
          },
          "execution_count": 168
        }
      ]
    },
    {
      "metadata": {
        "id": "WLCu5VlVsslB",
        "colab_type": "code",
        "colab": {}
      },
      "cell_type": "code",
      "source": [
        ""
      ],
      "execution_count": 0,
      "outputs": []
    },
    {
      "metadata": {
        "id": "V71eMKDNozMm",
        "colab_type": "code",
        "colab": {}
      },
      "cell_type": "code",
      "source": [
        ""
      ],
      "execution_count": 0,
      "outputs": []
    },
    {
      "metadata": {
        "id": "ElShhHGtnP0w",
        "colab_type": "code",
        "colab": {}
      },
      "cell_type": "code",
      "source": [
        ""
      ],
      "execution_count": 0,
      "outputs": []
    },
    {
      "metadata": {
        "id": "6Z-GvKQ0wZLo",
        "colab_type": "text"
      },
      "cell_type": "markdown",
      "source": [
        "## Redo 2*2 for 13NAICS"
      ]
    },
    {
      "metadata": {
        "id": "0pIijY5dwekm",
        "colab_type": "code",
        "colab": {}
      },
      "cell_type": "code",
      "source": [
        "df"
      ],
      "execution_count": 0,
      "outputs": []
    },
    {
      "metadata": {
        "id": "m50DkT4Q5Yi0",
        "colab_type": "code",
        "colab": {}
      },
      "cell_type": "code",
      "source": [
        "df=result"
      ],
      "execution_count": 0,
      "outputs": []
    },
    {
      "metadata": {
        "id": "xhXzCvucxPXK",
        "colab_type": "code",
        "colab": {}
      },
      "cell_type": "code",
      "source": [
        "# naisccode=[2361,\t2362,\t2372,\t2381,\t2382,\t2383,\t2389,\t5311,\t5312,\t5313,\t5413,\t5414,\t5617]\n",
        "# naiscstr=[]\n",
        "# for num in naisccode:\n",
        "#   naiscstr.append(str(num))\n",
        "# naiscstr\n",
        "  \n",
        "\n"
      ],
      "execution_count": 0,
      "outputs": []
    },
    {
      "metadata": {
        "id": "dO2c2-yF4xmP",
        "colab_type": "code",
        "colab": {
          "base_uri": "https://localhost:8080/",
          "height": 52
        },
        "outputId": "2661c3bb-0281-4b5e-9382-242bbcd5214a"
      },
      "cell_type": "code",
      "source": [
        "industry_occ=df['occ_code'].unique()\n",
        "industry_occ"
      ],
      "execution_count": 158,
      "outputs": [
        {
          "output_type": "execute_result",
          "data": {
            "text/plain": [
              "array(['00-0000', '11-0000', '11-1011', ..., '11-1030', '33-3030',\n",
              "       '25-3097'], dtype=object)"
            ]
          },
          "metadata": {
            "tags": []
          },
          "execution_count": 158
        }
      ]
    },
    {
      "metadata": {
        "id": "m7pLWRP0wo7e",
        "colab_type": "code",
        "colab": {}
      },
      "cell_type": "code",
      "source": [
        "\n",
        "# Filter out industry OLS data,build the database called df\n",
        "df['naics'] = df['naics'].astype(str)\n",
        "df=df.loc[df['naics'].str.startswith(('2361','2362','2372','2381','2382','2383','2389','5311','5312','5313','5413','5414','5617'))]\n",
        "list_naisc=df['naics']\n",
        "\n",
        "\n",
        "\n",
        "# Create occupation list for industry, and exclude those occ_code end with 00\n",
        "industry_occ=df['occ_code'].unique()\n",
        "industry_occ_list=[]\n",
        "for row in industry_occ:\n",
        "  temp=str(row)\n",
        "  if temp and temp[5:]!='00':\n",
        "    new=temp[:2]+temp[3:]\n",
        "    try:\n",
        "      new=int(new)\n",
        "    except:\n",
        "      continue\n",
        "    industry_occ_list.append(new)\n",
        "  else:\n",
        "    continue\n",
        "# There are 918 occupations in Manufaturinng, and their occ_code does not end with 00\n",
        "industry_occ_list\n",
        "# Transform manufacture occupation code to the right form\n",
        "df['occ_code'] = df['occ_code'].astype(str)\n",
        "df['occ_code'] = df['occ_code'].map(lambda x: x.replace('-',''))\n",
        "df['year'] = df['year'].astype(int)"
      ],
      "execution_count": 0,
      "outputs": []
    },
    {
      "metadata": {
        "id": "mR2_ZnOa9n8q",
        "colab_type": "code",
        "colab": {}
      },
      "cell_type": "code",
      "source": [
        ""
      ],
      "execution_count": 0,
      "outputs": []
    },
    {
      "metadata": {
        "id": "R261K3VN5pEx",
        "colab_type": "code",
        "colab": {}
      },
      "cell_type": "code",
      "source": [
        ""
      ],
      "execution_count": 0,
      "outputs": []
    },
    {
      "metadata": {
        "id": "cCHrXILa8GUT",
        "colab_type": "code",
        "colab": {
          "base_uri": "https://localhost:8080/",
          "height": 123
        },
        "outputId": "29593639-c415-4ff0-b242-15ca7f6bf957"
      },
      "cell_type": "code",
      "source": [
        "\n",
        "  "
      ],
      "execution_count": 132,
      "outputs": [
        {
          "output_type": "stream",
          "text": [
            "/usr/local/lib/python3.6/dist-packages/ipykernel_launcher.py:1: SettingWithCopyWarning: \n",
            "A value is trying to be set on a copy of a slice from a DataFrame.\n",
            "Try using .loc[row_indexer,col_indexer] = value instead\n",
            "\n",
            "See the caveats in the documentation: http://pandas.pydata.org/pandas-docs/stable/indexing.html#indexing-view-versus-copy\n",
            "  \"\"\"Entry point for launching an IPython kernel.\n"
          ],
          "name": "stderr"
        }
      ]
    },
    {
      "metadata": {
        "id": "NqxO9r3cx-Fv",
        "colab_type": "code",
        "colab": {}
      },
      "cell_type": "code",
      "source": [
        ""
      ],
      "execution_count": 0,
      "outputs": []
    },
    {
      "metadata": {
        "id": "SBdN7JMN7GMo",
        "colab_type": "code",
        "colab": {
          "base_uri": "https://localhost:8080/",
          "height": 35
        },
        "outputId": "3905320c-383e-4952-a406-d1878a6e4c7e"
      },
      "cell_type": "code",
      "source": [
        "len(templist)"
      ],
      "execution_count": 99,
      "outputs": [
        {
          "output_type": "execute_result",
          "data": {
            "text/plain": [
              "1180"
            ]
          },
          "metadata": {
            "tags": []
          },
          "execution_count": 99
        }
      ]
    },
    {
      "metadata": {
        "id": "gLp9dE8ex_QR",
        "colab_type": "code",
        "colab": {}
      },
      "cell_type": "code",
      "source": [
        "df['year'].unique()"
      ],
      "execution_count": 0,
      "outputs": []
    },
    {
      "metadata": {
        "id": "FrgEoBIFyMp4",
        "colab_type": "code",
        "colab": {}
      },
      "cell_type": "code",
      "source": [
        "industry_occ_list"
      ],
      "execution_count": 0,
      "outputs": []
    },
    {
      "metadata": {
        "id": "sH3zdc2Hyj9K",
        "colab_type": "code",
        "colab": {}
      },
      "cell_type": "code",
      "source": [
        "# Make a list for 10 years, use 'negotiation score'in Skills, Element id is 2.B.1.d\n",
        "negotiationlist=[]\n",
        "totalemployment=[]\n",
        "for year in range(2007,2017):\n",
        "  tempsum=0\n",
        "  denom=0\n",
        "  cutyear=df.loc[df['year']==year]\n",
        "  for occcode in industry_occ_list:\n",
        "    convertocc=str(occcode)\n",
        "    cutocc=cutyear.loc[cutyear['occ_code']==convertocc]\n",
        "    temp=pd.to_numeric(cutocc['tot_emp'], errors='coerce').fillna(0).astype(int)\n",
        "    employment=temp.sum()\n",
        "    denom+=employment\n",
        "    temp1=Skills.loc[Skills['SOC Code']==occcode]  \n",
        "    score_series=temp1.loc[temp1['Element ID']=='2.B.1.d']['Data Value']\n",
        "    try:\n",
        "      score=float(score_series)\n",
        "    except:\n",
        "      continue      \n",
        "    weightedscore=int(employment*score)\n",
        "    tempsum+=weightedscore\n",
        "  negotiationlist.append(tempsum)\n",
        "  totalemployment.append(denom)\n",
        "# Make a list for 10 years, use 'Mathematical Reasoning' in Abilities, Element id is 1.A.1.c.1\n",
        "MATHlist=[]\n",
        "for year in range(2007,2017):\n",
        "  tempsum=0\n",
        "  denom=0\n",
        "  cutyear=df.loc[df['year']==year]\n",
        "  for occcode in industry_occ_list:\n",
        "    convertocc=str(occcode)\n",
        "    cutocc=cutyear.loc[cutyear['occ_code']==convertocc]\n",
        "    temp=pd.to_numeric(cutocc['tot_emp'], errors='coerce').fillna(0).astype(int)\n",
        "    employment=temp.sum()\n",
        "    denom+=employment\n",
        "    temp1=Abilities.loc[Abilities['SOC Code']==occcode]  \n",
        "    score_series=temp1.loc[temp1['Element ID']=='1.A.1.c.1']['Data Value']\n",
        "    try:\n",
        "      score=float(score_series)\n",
        "    except:\n",
        "      continue      \n",
        "    weightedscore=int(employment*score)\n",
        "    tempsum+=weightedscore\n",
        "  MATHlist.append(tempsum)  \n",
        "  \n",
        "# Make a list for 10 years, use 'Finger Dexterity' in Abilities, Element id is 1.A.2.a.3\n",
        "\n",
        "FingDexlist=[]\n",
        "for year in range(2007,2017):\n",
        "  tempsum=0\n",
        "  denom=0\n",
        "  cutyear=df.loc[df['year']==year]\n",
        "  for occcode in industry_occ_list:\n",
        "    convertocc=str(occcode)\n",
        "    cutocc=cutyear.loc[cutyear['occ_code']==convertocc]\n",
        "    temp=pd.to_numeric(cutocc['tot_emp'], errors='coerce').fillna(0).astype(int)\n",
        "    employment=temp.sum()\n",
        "    denom+=employment\n",
        "    temp1=Abilities.loc[Abilities['SOC Code']==occcode]  \n",
        "    score_series=temp1.loc[temp1['Element ID']=='1.A.2.a.3']['Data Value']\n",
        "    try:\n",
        "      score=float(score_series)\n",
        "    except:\n",
        "      continue      \n",
        "    weightedscore=int(employment*score)\n",
        "    tempsum+=weightedscore\n",
        "  FingDexlist.append(tempsum)\n",
        "  \n",
        "# Make a list for 10 years, use 'Manual Dexterity' in Abilities, Element id is 1.A.2.a.2\n",
        "Manulist=[]\n",
        "for year in range(2007,2017):\n",
        "  tempsum=0\n",
        "  denom=0\n",
        "  cutyear=df.loc[df['year']==year]\n",
        "  for occcode in industry_occ_list:\n",
        "    convertocc=str(occcode)\n",
        "    cutocc=cutyear.loc[cutyear['occ_code']==convertocc]\n",
        "    temp=pd.to_numeric(cutocc['tot_emp'], errors='coerce').fillna(0).astype(int)\n",
        "    employment=temp.sum()\n",
        "    denom+=employment\n",
        "    temp1=Abilities.loc[Abilities['SOC Code']==occcode]  \n",
        "    score_series=temp1.loc[temp1['Element ID']=='1.A.2.a.2']['Data Value']\n",
        "    try:\n",
        "      score=float(score_series)\n",
        "    except:\n",
        "      continue      \n",
        "    weightedscore=int(employment*score)\n",
        "    tempsum+=weightedscore\n",
        "  Manulist.append(tempsum)\n",
        "# Make a list for 10 years, use 'Guiding, Directing and Motivating' in Work Activities, Element id is 4.A.4.b.4\n",
        "GDMlist=[]\n",
        "for year in range(2007,2017):\n",
        "  tempsum=0\n",
        "  denom=0\n",
        "  cutyear=df.loc[df['year']==year]\n",
        "  for occcode in industry_occ_list:\n",
        "    convertocc=str(occcode)\n",
        "    cutocc=cutyear.loc[cutyear['occ_code']==convertocc]\n",
        "    temp=pd.to_numeric(cutocc['tot_emp'], errors='coerce').fillna(0).astype(int)\n",
        "    employment=temp.sum()\n",
        "    denom+=employment\n",
        "    temp1=Activities.loc[Activities['occ_code']==occcode]  \n",
        "    score_series=temp1.loc[temp1['Element ID']=='4.A.4.b.4']['Data Value']\n",
        "    try:\n",
        "      score=float(score_series)\n",
        "    except:\n",
        "      continue      \n",
        "    weightedscore=int(employment*score)\n",
        "    tempsum+=weightedscore\n",
        "  GDMlist.append(tempsum)"
      ],
      "execution_count": 0,
      "outputs": []
    },
    {
      "metadata": {
        "id": "aR9gPJREzPT0",
        "colab_type": "code",
        "colab": {
          "base_uri": "https://localhost:8080/",
          "height": 193
        },
        "outputId": "2555f916-f633-44eb-a6e6-350bd095037f"
      },
      "cell_type": "code",
      "source": [
        "totalemployment"
      ],
      "execution_count": 163,
      "outputs": [
        {
          "output_type": "execute_result",
          "data": {
            "text/plain": [
              "[11569800,\n",
              " 11343030,\n",
              " 10296880,\n",
              " 371030,\n",
              " 374010,\n",
              " 673310,\n",
              " 667110,\n",
              " 648710,\n",
              " 659590,\n",
              " 676850]"
            ]
          },
          "metadata": {
            "tags": []
          },
          "execution_count": 163
        }
      ]
    }
  ]
}