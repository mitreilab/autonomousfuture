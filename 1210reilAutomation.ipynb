{
  "nbformat": 4,
  "nbformat_minor": 0,
  "metadata": {
    "colab": {
      "name": "1210reilAutomation.ipynb",
      "version": "0.3.2",
      "provenance": [],
      "collapsed_sections": [
        "SaW5pHN8D0E2"
      ],
      "toc_visible": true,
      "include_colab_link": true
    },
    "kernelspec": {
      "name": "python3",
      "display_name": "Python 3"
    },
    "accelerator": "GPU"
  },
  "cells": [
    {
      "cell_type": "markdown",
      "metadata": {
        "id": "view-in-github",
        "colab_type": "text"
      },
      "source": [
        "<a href=\"https://colab.research.google.com/github/mitreilab/autonomousfuture/blob/master/1210reilAutomation.ipynb\" target=\"_parent\"><img src=\"https://colab.research.google.com/assets/colab-badge.svg\" alt=\"Open In Colab\"/></a>"
      ]
    },
    {
      "metadata": {
        "id": "wEAKnMja1sHx",
        "colab_type": "text"
      },
      "cell_type": "markdown",
      "source": [
        "## Import OES Data"
      ]
    },
    {
      "metadata": {
        "id": "8xQ0hltz1zjV",
        "colab_type": "code",
        "colab": {}
      },
      "cell_type": "code",
      "source": [
        "import numpy as np\n",
        "import pandas as pd\n",
        "import matplotlib\n",
        "import matplotlib.pyplot as pp\n",
        "!wget \"https://www.dropbox.com/s/t4444pduqc7rtgs/recentyears.csv?dl=0\" -q -O \"recent.csv\" \n",
        "!wget \"https://www.dropbox.com/s/6gglwj5jedmfvhi/oldyears.csv?dl=0\" -q -O \"old.csv\" \n",
        "#Download raw csv file from Dropbox and rename to \"rawdatanaics.csv\"\n",
        "new = pd.read_csv(\"recent.csv\",low_memory=False)\n",
        "old=pd.read_csv(\"old.csv\",low_memory=False)\n"
      ],
      "execution_count": 0,
      "outputs": []
    },
    {
      "metadata": {
        "id": "SaW5pHN8D0E2",
        "colab_type": "text"
      },
      "cell_type": "markdown",
      "source": [
        "## Import ONet Data ##"
      ]
    },
    {
      "metadata": {
        "id": "P0atFUe0D2JX",
        "colab_type": "code",
        "outputId": "690dc344-66f4-4d25-bd79-ab3c00cad6c6",
        "colab": {
          "base_uri": "https://localhost:8080/",
          "height": 34
        }
      },
      "cell_type": "code",
      "source": [
        "!wget \"https://www.dropbox.com/s/5cjlzvxqtoq5mm4/combined.sqlite?dl=0\" -q -O  \"onet.sqlite\"  \n",
        "#Download raw SQLite file from Dropbox and rename to \"onet.sqlite\"\n",
        "import sqlite3\n",
        "onetConnection = sqlite3.connect('onet.sqlite')\n",
        "cur = onetConnection.cursor()\n",
        "query = \"SELECT * FROM occupation_data\";\n",
        "occdata = pd.read_sql_query(query, onetConnection)\n",
        "len(occdata)\n",
        "# Onet surveyed 1109 occupations.\n"
      ],
      "execution_count": 0,
      "outputs": [
        {
          "output_type": "execute_result",
          "data": {
            "text/plain": [
              "1109"
            ]
          },
          "metadata": {
            "tags": []
          },
          "execution_count": 2
        }
      ]
    },
    {
      "metadata": {
        "id": "R7b1aU2rark-",
        "colab_type": "code",
        "colab": {}
      },
      "cell_type": "code",
      "source": [
        "#Download the CSV files that we need for Autor Method\n",
        "!wget \"https://www.dropbox.com/s/pnvz35bcthloy6n/Abilities.csv?dl=0\" -q -O \"Abilities.csv\" \n",
        "Abilities=pd.read_csv(\"Abilities.csv\",low_memory=False)\n",
        "!wget \"https://www.dropbox.com/s/5btim1otk24j05d/Skills.csv?dl=0\" -q -O \"Skills.csv\" \n",
        "Skills=pd.read_csv(\"Skills.csv\",low_memory=False)\n",
        "!wget \"https://www.dropbox.com/s/9ajd56nnhlrfo2m/Task%20Statements.csv?dl=0\" -q -O \"Task Statements.csv\" \n",
        "Tasks = pd.read_csv(\"Task Statements.csv\",low_memory=False)\n",
        "!wget \"https://www.dropbox.com/s/9ez75cfcojjpyur/Work%20Activities.csv?dl=0\" -q -O \"Work Activities.csv\" \n",
        "Activities = pd.read_csv(\"Work Activities.csv\",low_memory=False)\n"
      ],
      "execution_count": 0,
      "outputs": []
    },
    {
      "metadata": {
        "id": "7Z35kElLdrlP",
        "colab_type": "text"
      },
      "cell_type": "markdown",
      "source": [
        "## OES Data cleaning"
      ]
    },
    {
      "metadata": {
        "id": "q_N-45psJbRe",
        "colab_type": "text"
      },
      "cell_type": "markdown",
      "source": [
        "##Link old occ code with occ code after 2010\n"
      ]
    },
    {
      "metadata": {
        "id": "bZIxrCojJkT2",
        "colab_type": "code",
        "colab": {}
      },
      "cell_type": "code",
      "source": [
        "!wget \"https://www.dropbox.com/s/30fryvdkh5qnk1z/crosswalktable.csv?dl=0\" -q -O \"crosswalk.csv\" \n",
        "match=pd.read_csv(\"crosswalk.csv\",low_memory=False)\n"
      ],
      "execution_count": 0,
      "outputs": []
    },
    {
      "metadata": {
        "id": "dlcwSkzcLH-C",
        "colab_type": "code",
        "outputId": "b3c2ea46-4f7d-478d-dc3a-dbb3fb82e59d",
        "colab": {
          "base_uri": "https://localhost:8080/",
          "height": 122
        }
      },
      "cell_type": "code",
      "source": [
        "old.columns"
      ],
      "execution_count": 0,
      "outputs": [
        {
          "output_type": "execute_result",
          "data": {
            "text/plain": [
              "Index(['year', 'naics', 'naics_title', 'occ_code', 'occ_title', 'group',\n",
              "       'tot_emp_num', 'emp_prse', 'pct_total', 'pct_rpt', 'h_mean', 'a_mean',\n",
              "       'mean_prse', 'h_pct10', 'h_pct25', 'h_median', 'h_pct75', 'h_pct90',\n",
              "       'a_pct10', 'a_pct25', 'a_median_num', 'a_pct75', 'a_pct90',\n",
              "       'naics_codedescription', 'occ_code-title', 'detailed'],\n",
              "      dtype='object')"
            ]
          },
          "metadata": {
            "tags": []
          },
          "execution_count": 5
        }
      ]
    },
    {
      "metadata": {
        "id": "rNKUQWbdL0Rz",
        "colab_type": "code",
        "outputId": "05624896-3466-4b68-ebe2-e7b50105abdc",
        "colab": {
          "base_uri": "https://localhost:8080/",
          "height": 34
        }
      },
      "cell_type": "code",
      "source": [
        "# Build a dictionary for old code to be transformed into new\n",
        "oldlist=match['2000 SOC code'].tolist()\n",
        "newlist=match['2010 SOC code'].tolist()\n",
        "keys = oldlist\n",
        "values = newlist\n",
        "matchbook= dict(zip(keys, values))\n",
        "matchbook[113041]"
      ],
      "execution_count": 0,
      "outputs": [
        {
          "output_type": "execute_result",
          "data": {
            "text/plain": [
              "113111"
            ]
          },
          "metadata": {
            "tags": []
          },
          "execution_count": 6
        }
      ]
    },
    {
      "metadata": {
        "id": "Y1Edy573ZtoB",
        "colab_type": "code",
        "outputId": "4a1cfab6-23f8-44a5-8d37-6a6272c57c41",
        "colab": {
          "base_uri": "https://localhost:8080/",
          "height": 34
        }
      },
      "cell_type": "code",
      "source": [
        "tobecorrect=old['occ_code'].tolist()\n",
        "len(tobecorrect)"
      ],
      "execution_count": 0,
      "outputs": [
        {
          "output_type": "execute_result",
          "data": {
            "text/plain": [
              "7166"
            ]
          },
          "metadata": {
            "tags": []
          },
          "execution_count": 7
        }
      ]
    },
    {
      "metadata": {
        "id": "H_FMVwEUXNkl",
        "colab_type": "code",
        "colab": {}
      },
      "cell_type": "code",
      "source": [
        "for i in range(len(tobecorrect)):\n",
        "  oldcode=tobecorrect[i]\n",
        "  try:\n",
        "    temp=matchbook[oldcode]\n",
        "    tobecorrect[i]=temp\n",
        "  except:\n",
        "    continue\n",
        "correctcode= tobecorrect   \n",
        "  \n"
      ],
      "execution_count": 0,
      "outputs": []
    },
    {
      "metadata": {
        "id": "BVfN5pxoL0Kj",
        "colab_type": "code",
        "colab": {}
      },
      "cell_type": "code",
      "source": [
        "\n",
        "correctcode=pd.DataFrame(correctcode)\n"
      ],
      "execution_count": 0,
      "outputs": []
    },
    {
      "metadata": {
        "id": "VaW1nUmmL0C7",
        "colab_type": "code",
        "colab": {}
      },
      "cell_type": "code",
      "source": [
        "old['occ_code']=correctcode"
      ],
      "execution_count": 0,
      "outputs": []
    },
    {
      "metadata": {
        "id": "MPJ0o4o0Lz2s",
        "colab_type": "code",
        "colab": {}
      },
      "cell_type": "code",
      "source": [
        "old.reset_index(drop=True, inplace=True)\n",
        "new.reset_index(drop=True, inplace=True)\n",
        "result = pd.concat([old,new])"
      ],
      "execution_count": 0,
      "outputs": []
    },
    {
      "metadata": {
        "id": "srJ2w8tDeQ-B",
        "colab_type": "code",
        "outputId": "3e09a860-bfe1-4873-f5cf-33a0a15dd782",
        "colab": {
          "base_uri": "https://localhost:8080/",
          "height": 34
        }
      },
      "cell_type": "code",
      "source": [
        "old.shape"
      ],
      "execution_count": 0,
      "outputs": [
        {
          "output_type": "execute_result",
          "data": {
            "text/plain": [
              "(7166, 26)"
            ]
          },
          "metadata": {
            "tags": []
          },
          "execution_count": 12
        }
      ]
    },
    {
      "metadata": {
        "id": "9eudO3HIeZCT",
        "colab_type": "code",
        "outputId": "c1ebc6e3-4c49-4d97-8977-e703dd08629e",
        "colab": {
          "base_uri": "https://localhost:8080/",
          "height": 34
        }
      },
      "cell_type": "code",
      "source": [
        "new.shape"
      ],
      "execution_count": 0,
      "outputs": [
        {
          "output_type": "execute_result",
          "data": {
            "text/plain": [
              "(15628, 26)"
            ]
          },
          "metadata": {
            "tags": []
          },
          "execution_count": 13
        }
      ]
    },
    {
      "metadata": {
        "id": "X5NbE-AWgkwq",
        "colab_type": "code",
        "colab": {}
      },
      "cell_type": "code",
      "source": [
        "result.reset_index(drop=True, inplace=True)"
      ],
      "execution_count": 0,
      "outputs": []
    },
    {
      "metadata": {
        "id": "9l_XrJRDgkq3",
        "colab_type": "code",
        "outputId": "87716989-794b-4788-9ada-82396d9a1dd0",
        "colab": {
          "base_uri": "https://localhost:8080/",
          "height": 34
        }
      },
      "cell_type": "code",
      "source": [
        "len(newlist)\n",
        "# There are 792  detailed ocupations in total in US"
      ],
      "execution_count": 0,
      "outputs": [
        {
          "output_type": "execute_result",
          "data": {
            "text/plain": [
              "792"
            ]
          },
          "metadata": {
            "tags": []
          },
          "execution_count": 15
        }
      ]
    },
    {
      "metadata": {
        "id": "hWfYzmWqgklT",
        "colab_type": "code",
        "outputId": "7e63709d-0c2e-48e5-ad7c-74ac5d9456c5",
        "colab": {
          "base_uri": "https://localhost:8080/",
          "height": 34
        }
      },
      "cell_type": "code",
      "source": [
        "df=result[result['occ_code'].isin(newlist)]\n",
        "df.shape\n",
        "# Now we finishe building the OLS dabatase for the 13 Real Estate NAICS\n",
        "\n"
      ],
      "execution_count": 0,
      "outputs": [
        {
          "output_type": "execute_result",
          "data": {
            "text/plain": [
              "(21264, 26)"
            ]
          },
          "metadata": {
            "tags": []
          },
          "execution_count": 16
        }
      ]
    },
    {
      "metadata": {
        "id": "y-TphPoLgjvi",
        "colab_type": "code",
        "outputId": "bac301ff-c2f1-4e6b-cd09-796500e991b7",
        "colab": {
          "base_uri": "https://localhost:8080/",
          "height": 34
        }
      },
      "cell_type": "code",
      "source": [
        "# After we choose 13 industries (using 4_digit NAISC)\n",
        "# We have 528 detailed occupations\n",
        "targetlist=df['occ_code'].unique()\n",
        "len(targetlist)"
      ],
      "execution_count": 0,
      "outputs": [
        {
          "output_type": "execute_result",
          "data": {
            "text/plain": [
              "528"
            ]
          },
          "metadata": {
            "tags": []
          },
          "execution_count": 17
        }
      ]
    },
    {
      "metadata": {
        "id": "eGKLo1f7gjny",
        "colab_type": "code",
        "colab": {}
      },
      "cell_type": "code",
      "source": [
        "df.head()"
      ],
      "execution_count": 0,
      "outputs": []
    },
    {
      "metadata": {
        "id": "1sPV6mcpgje4",
        "colab_type": "code",
        "colab": {}
      },
      "cell_type": "code",
      "source": [
        ""
      ],
      "execution_count": 0,
      "outputs": []
    },
    {
      "metadata": {
        "id": "T5WcmXpTZX_L",
        "colab_type": "text"
      },
      "cell_type": "markdown",
      "source": [
        "### Target the occupations that are 1. In Real Estate industry 2. Not General Group 3. Onet has surveyed\n"
      ]
    },
    {
      "metadata": {
        "id": "MpdkLpRlZ9UR",
        "colab_type": "code",
        "colab": {}
      },
      "cell_type": "code",
      "source": [
        "# !wget \"https://www.dropbox.com/s/329edv8yrn3ik25/Occupation%20Data.csv?dl=0\"-q -O  \"Occupation Data.csv\" \n",
        "# occ_onet=pd.read_csv(\"Occupation Data.csv\",low_memory=False)\n",
        "# #Download 'Occupation Data' CSV that changes the 8-digit Onet-code to 6-digit, ommiting the last two digits.\n",
        "# del_occ_endwith_00_and_in_Onet=oes.loc[oes['occ_code'].isin(occ_onet['O*NET-SOC Code'])]\n",
        "# #Delete the occupation if the code is not in 'Occupation Data'\n",
        "# del_occ_endwith_00_and_in_Onet.shape"
      ],
      "execution_count": 0,
      "outputs": []
    },
    {
      "metadata": {
        "id": "NGLAv20Bd5qR",
        "colab_type": "code",
        "colab": {}
      },
      "cell_type": "code",
      "source": [
        "# target_occ=set(del_occ_endwith_00_and_in_Onet['occ_code'])\n",
        "# target_occ=list(target_occ)\n",
        "# target=pd.DataFrame({'target_occ': target_occ})\n",
        "# len(target)\n",
        "# # we target 558 occupations."
      ],
      "execution_count": 0,
      "outputs": []
    },
    {
      "metadata": {
        "id": "k6rLO1XWeu6n",
        "colab_type": "text"
      },
      "cell_type": "markdown",
      "source": [
        "### Drop the columns in the oes.csv that contains duplicated or redundant data."
      ]
    },
    {
      "metadata": {
        "id": "LmSKkbK8fJon",
        "colab_type": "code",
        "colab": {}
      },
      "cell_type": "code",
      "source": [
        "# del_occ_endwith_00_and_in_Onet.columns\n",
        "# #drop the colomuns that contain duplicate information\n",
        "# del_duplicated_column=del_occ_endwith_00_and_in_Onet.drop(['title_code','occ_title_code', 'occ_title_mid', 'year.1', 'naics.1', 'naics_title.1', 'occ_code.1', 'occ_title.1', 'group', 'naics_codedescription', 'year-naics-occ_code', 'year-naics-occ_code.1','year.2', 'naics.2', 'naics_title.2', 'occ_code.2', 'title_code.1', 'dominant_lifecycle.1', 'occ_title.2', 'occ_title_code.1', 'occ_title_mid.1','group.1', 'naics_codedescription.1', 'keepsy'],axis=1)\n",
        "# # the columns # decrease to 37 from 61\n",
        "# del_duplicated_column.shape"
      ],
      "execution_count": 0,
      "outputs": []
    },
    {
      "metadata": {
        "id": "j0QACoI1gpG3",
        "colab_type": "text"
      },
      "cell_type": "markdown",
      "source": [
        "## Call BLS data by 6-digit occupation code"
      ]
    },
    {
      "metadata": {
        "id": "zK-dVy5ShHTW",
        "colab_type": "code",
        "colab": {}
      },
      "cell_type": "code",
      "source": [
        "# try to extract data by occ_code \n",
        "# dx = del_duplicated_column[del_duplicated_column['occ_code'] == '11-1011']\n",
        "# dx[['year','naics_title', 'tot_emp_num']].head(3)"
      ],
      "execution_count": 0,
      "outputs": []
    },
    {
      "metadata": {
        "id": "8S8H1sX4hOnm",
        "colab_type": "code",
        "colab": {}
      },
      "cell_type": "code",
      "source": [
        "# assign the matrix of \"year\" and \"naics_code\" to a specific occ_code, call it 'labour_economy_data'\n",
        "# first, create a function that generate the lb_econ_matrix for an occ_code\n",
        "def lb_econ (occ_code,field,data):\n",
        "    # this function yield a data frame for a given occ_code and a field\n",
        "    # get all unique naics titles in the data\n",
        "    feature_list = data['naics'].unique()\n",
        "    # get all unique year in the data\n",
        "    years = sorted(data['year'].unique())    \n",
        "    mt_result = pd.DataFrame(0.00, index = years, columns = feature_list)   \n",
        "    # filter out all rows and columns that have the given occ_code and fields\n",
        "    df_occ = data[data['occ_code'] == occ_code][['year','naics_title', field]]\n",
        "    for index, row in df_occ.iterrows():\n",
        "        try:\n",
        "            mt_result.loc[row['year']][row['naics_title']] = float(row[field])\n",
        "        except:\n",
        "            mt_result.loc[row['year']][row['naics_title']] = np.nan\n",
        "    return mt_result.round(2)\n"
      ],
      "execution_count": 0,
      "outputs": []
    },
    {
      "metadata": {
        "id": "7JNwpGFQhdRp",
        "colab_type": "code",
        "colab": {}
      },
      "cell_type": "code",
      "source": [
        "# An example of how to use the function\n",
        "# data1=del_duplicated_column\n",
        "# # the lb_Econ_features contains all the fields' name that we can choose from, there're 17 all together.\n",
        "# lb_econ_features=['occ_code','tot_emp_num', 'emp_prse', 'pct_total', 'pct_rpt', 'h_mean', 'a_mean', 'mean_prse', 'h_pct10', 'h_pct25', 'h_median', 'h_pct75', 'h_pct90', 'a_pct10', 'a_pct25', 'a_median_num', 'a_pct75', 'a_pct90']\n",
        "# #try to input a field name called 'tot_emp_num'\n",
        "# aa=lb_econ (111011,'tot_emp_num',df)\n",
        "# aa.head()"
      ],
      "execution_count": 0,
      "outputs": []
    },
    {
      "metadata": {
        "id": "gcJHcg70dnSg",
        "colab_type": "text"
      },
      "cell_type": "markdown",
      "source": [
        ""
      ]
    },
    {
      "metadata": {
        "id": "SDFwgywni3Bh",
        "colab_type": "code",
        "outputId": "85321123-3c57-4d8a-f00e-65ac51e6703f",
        "colab": {
          "base_uri": "https://localhost:8080/",
          "height": 122
        }
      },
      "cell_type": "code",
      "source": [
        "df.columns"
      ],
      "execution_count": 0,
      "outputs": [
        {
          "output_type": "execute_result",
          "data": {
            "text/plain": [
              "Index(['year', 'naics', 'naics_title', 'occ_code', 'occ_title', 'group',\n",
              "       'tot_emp_num', 'emp_prse', 'pct_total', 'pct_rpt', 'h_mean', 'a_mean',\n",
              "       'mean_prse', 'h_pct10', 'h_pct25', 'h_median', 'h_pct75', 'h_pct90',\n",
              "       'a_pct10', 'a_pct25', 'a_median_num', 'a_pct75', 'a_pct90',\n",
              "       'naics_codedescription', 'occ_code-title', 'detailed'],\n",
              "      dtype='object')"
            ]
          },
          "metadata": {
            "tags": []
          },
          "execution_count": 21
        }
      ]
    },
    {
      "metadata": {
        "id": "RUqI754ecqcZ",
        "colab_type": "text"
      },
      "cell_type": "markdown",
      "source": [
        "# Object Oriented Programming (OOP)"
      ]
    },
    {
      "metadata": {
        "id": "XelbsrqgcwLP",
        "colab_type": "code",
        "colab": {}
      },
      "cell_type": "code",
      "source": [
        "# laborfeature include:'tot_emp_num', 'emp_prse', 'pct_total', 'pct_rpt', 'h_mean', 'a_mean',\n",
        "#        'mean_prse', 'h_pct10', 'h_pct25', 'h_median', 'h_pct75', 'h_pct90',\n",
        "#        'a_pct10', 'a_pct25', 'a_median_num', 'a_pct75', 'a_pct90',\n",
        "#        'naics_codedescription'\n",
        "# year include: 2007 to 2016\n",
        "# industry include:\n",
        "# 'Residential Building Construction',\n",
        "# 'Nonresidential Building Construction',\n",
        "# 'Land Subdivision',\n",
        "# 'Foundation, Structure, and Building Exterior Contractors',\n",
        "# 'Building Equipment Contractors',\n",
        "# 'Building Finishing Contractors',\n",
        "# 'Other Specialty Trade Contractors',\n",
        "# 'Lessors of Real Estate',\n",
        "# 'Offices of Real Estate Agents and Brokers',\n",
        "# 'Activities Related to Real Estate',\n",
        "# 'Architectural, Engineering, and Related Services',\n",
        "# 'Specialized Design Services',\n",
        "# 'Services to Buildings and Dwellings',\n",
        "      \n",
        "class occ(object):\n",
        "  # add attributes to occ\n",
        "  def __init__(self,code,title,year,industry,industrycode,name,negotiation,math,GDM,finger,manual):\n",
        "    self.code=code\n",
        "    self.title=title\n",
        "    self.year=year  \n",
        "    self.industry=industry\n",
        "    self.industrycode=industrycode\n",
        "    self.name=name\n",
        "    self.negotiation=negotiation\n",
        "    self.math=math\n",
        "    self.GDM=GDM\n",
        "    self.finger=finger\n",
        "    self.manual=manual\n",
        "\n",
        "#     yearemp,\n",
        "#               emp_prse, pct_total, pct_rpt, h_mean, a_mean,\n",
        "#        mean_prse, h_pct10, h_pct25, h_median, h_pct75, h_pct90,\n",
        "#        a_pct10, a_pct25, a_median_num, a_pct75, a_pct90,\n",
        "#       naics_codedescription,tasks,abilities,knowledge,skills,work_activities\n",
        "#     self.yearemp=yearemp\n",
        "#     self.emp_prse=emp_prse\n",
        "#     self.pct_total=pct_total\n",
        "#     self.pct_rpt=pct_rpt\n",
        "#     self.h_mean=h_mean\n",
        "#     self.a_mean=a.mean\n",
        "#     self.mean_prse=mean_prse\n",
        "#     self.h_pct10=h_pct10\n",
        "#     self.h_pct25=h_pct25\n",
        "#     self.h_median=h_median\n",
        "#     self.h_pct75=h_pct75\n",
        "#     self.h_pct90=h_pct90\n",
        "#     self.a_pct10=a_pct10\n",
        "#     self.a_pct25=a_pct25\n",
        "#     self.a_median_num=a_median_num\n",
        "#     self.a_pct75=a_pct75\n",
        "#     self.a_pct90=a_pct90\n",
        "#     self.naics_codedescription=naics_codedescription\n",
        "#     self.laborfeature=laborfeature\n",
        "#     self.task=tasks\n",
        "#     self.abilities=abilities\n",
        "#     self.knowledge=knowledge\n",
        "#     self.skills=skills\n",
        "#     self.work_activities=work_activities\n",
        "  def __str__(self):\n",
        "    return str(self.code)+str(self.title)+str(self.year)+str(self.industry+str(self.industrycode))\n",
        "#   def__add__(self,other):\n",
        "#     result=self.yearemp+other.yearemp\n",
        "#     return result\n",
        "#   def__eq__(self,other):\n",
        "    \n",
        "  # define methods:\n",
        "  # total employment calculate employment number of each occ in all 13 industries\n",
        "  # inputs for this function should be the 13 occ objects\n",
        "  # with same code,title,year\n",
        "  # with different industry,industry code,13 industries in the same year\n",
        "#   def sumemp(self,other):\n",
        "#     if self.code==other.code and self.year==other.year:\n",
        "#       return self.yearemp+other.yearemp\n",
        "\n"
      ],
      "execution_count": 0,
      "outputs": []
    },
    {
      "metadata": {
        "id": "A1g288EDsUFs",
        "colab_type": "text"
      },
      "cell_type": "markdown",
      "source": [
        "## make all the objects for Real Estate using 13 NAICS (528 times 10 years times 13 industries)\n"
      ]
    },
    {
      "metadata": {
        "id": "9kIbgv20u6Lh",
        "colab_type": "code",
        "outputId": "d225ab9c-546d-4b90-8524-4401988b418d",
        "colab": {
          "base_uri": "https://localhost:8080/",
          "height": 34
        }
      },
      "cell_type": "code",
      "source": [
        "row=df.iloc[0]\n",
        "type(row[['year','naics']])\n"
      ],
      "execution_count": 0,
      "outputs": [
        {
          "output_type": "execute_result",
          "data": {
            "text/plain": [
              "pandas.core.series.Series"
            ]
          },
          "metadata": {
            "tags": []
          },
          "execution_count": 23
        }
      ]
    },
    {
      "metadata": {
        "id": "EJwHou_PvWZl",
        "colab_type": "code",
        "colab": {}
      },
      "cell_type": "code",
      "source": [
        "# a=occ(row['occ_code'],row['occ_title'],row['year'],row['naics_title'],row['naics'],'name1')\n",
        "# b=occ(row2['occ_code'],row2['occ_title'],row2['year'],row2['naics_title'],row2['naics'],'name2')"
      ],
      "execution_count": 0,
      "outputs": []
    },
    {
      "metadata": {
        "id": "gFAvPJpAvZLw",
        "colab_type": "code",
        "colab": {}
      },
      "cell_type": "code",
      "source": [
        "# newlist.append(a.name)\n",
        "# newlist"
      ],
      "execution_count": 0,
      "outputs": []
    },
    {
      "metadata": {
        "id": "T4uTu7pmrwjE",
        "colab_type": "code",
        "colab": {}
      },
      "cell_type": "code",
      "source": [
        "# there are at most 68640 occ objects in total\n",
        "# now we create them out and name them by 'occ+their occ_code'\n",
        "listofocc=[]\n",
        "all_occ=[]\n",
        "for index, row in df.iterrows():\n",
        "  #create a new object\n",
        "  name=str(row['occ_code'])+str(row['occ_title'])+'in year'+str(row['year'])+'in industry'+str(row['naics'])\n",
        "  temp=occ(row['occ_code'],row['occ_title'],row['year'],row['naics_title'],row['naics'],name)\n",
        "  listofocc.append(temp.name)\n",
        "  all_occ.append(temp)\n",
        "  \n",
        "  "
      ],
      "execution_count": 0,
      "outputs": []
    },
    {
      "metadata": {
        "id": "VaklCKHzlIrM",
        "colab_type": "code",
        "colab": {}
      },
      "cell_type": "code",
      "source": [
        "    # get all unique naics titles in the data\n",
        "    feature_list = data['naics'].unique()\n",
        "    # get all unique year in the data\n",
        "    years = sorted(data['year'].unique())    \n",
        "    mt_result = pd.DataFrame(0.00, index = years, columns = feature_list)   \n",
        "    # filter out all rows and columns that have the given occ_code and fields\n",
        "    df_occ = data[data['occ_code'] == occ_code][['year','naics_title', field]]\n",
        "    for index, row in df_occ.iterrows():\n",
        "        try:\n",
        "            mt_result.loc[row['year']][row['naics_title']] = float(row[field])\n",
        "        except:\n",
        "            mt_result.loc[row['year']][row['naics_title']] = np.nan\n",
        "    return mt_result.round(2)"
      ],
      "execution_count": 0,
      "outputs": []
    },
    {
      "metadata": {
        "id": "JG9TEyq7nSX0",
        "colab_type": "code",
        "colab": {}
      },
      "cell_type": "code",
      "source": [
        "# # Make a list for 2007, negotiation\n",
        "# negotiationlist=[]\n",
        "# for year in range(2007,2017):\n",
        "#   tempsum=0\n",
        "#   for occ in all_occ:\n",
        "#     if occ.year==year:\n",
        "#       employment=manual[occ]['tot_emp_num']\n",
        "#       temp1=Skills.loc[Skills['SOC Code']==occ.code]  \n",
        "#       negotiation_score=temp1.loc[temp1['Element ID']=='2.B.1.d']['Data Value']\n"
      ],
      "execution_count": 0,
      "outputs": []
    },
    {
      "metadata": {
        "id": "yx1oBu1TrWYZ",
        "colab_type": "code",
        "colab": {}
      },
      "cell_type": "code",
      "source": [
        "\n"
      ],
      "execution_count": 0,
      "outputs": []
    },
    {
      "metadata": {
        "id": "3iEao9RlxxX7",
        "colab_type": "code",
        "colab": {}
      },
      "cell_type": "code",
      "source": [
        "occcode=111011\n",
        "cutocc=cutyear.loc[cutyear['occ_code']==occcode]\n",
        "employment=cutocc['tot_emp_num'].sum()\n",
        "temp1=Skills.loc[Skills['SOC Code']==occcode]  \n",
        "score_series=temp1.loc[temp1['Element ID']=='2.B.1.d']['Data Value']"
      ],
      "execution_count": 0,
      "outputs": []
    },
    {
      "metadata": {
        "id": "Vt7hKEVcx9Gp",
        "colab_type": "code",
        "colab": {}
      },
      "cell_type": "code",
      "source": [
        "float(score_series)"
      ],
      "execution_count": 0,
      "outputs": []
    },
    {
      "metadata": {
        "id": "dua5yw7jwqcd",
        "colab_type": "code",
        "colab": {}
      },
      "cell_type": "code",
      "source": [
        "tempsum=0\n",
        "cutyear=df.loc[df['year']==2007]\n",
        "occcode=111011\n",
        "cutocc=cutyear.loc[cutyear['occ_code']==occcode]\n",
        "employment=cutocc['tot_emp_num'].sum()\n",
        "temp1=Skills.loc[Skills['SOC Code']==occcode]  \n",
        "score=float(temp1.loc[temp1['Element ID']=='2.B.1.d']['Data Value']\n",
        "weightedscore=employment*score\n"
      ],
      "execution_count": 0,
      "outputs": []
    },
    {
      "metadata": {
        "id": "1vubYU8OxKvE",
        "colab_type": "code",
        "outputId": "f715de95-7be0-4202-9d1d-a6e5c5e5e432",
        "colab": {
          "base_uri": "https://localhost:8080/",
          "height": 34
        }
      },
      "cell_type": "code",
      "source": [
        "type(weightedscore)"
      ],
      "execution_count": 0,
      "outputs": [
        {
          "output_type": "execute_result",
          "data": {
            "text/plain": [
              "pandas.core.series.Series"
            ]
          },
          "metadata": {
            "tags": []
          },
          "execution_count": 77
        }
      ]
    },
    {
      "metadata": {
        "id": "u2POt35yxQtJ",
        "colab_type": "code",
        "outputId": "f68ad345-186d-4b2e-e29e-685567efa18f",
        "colab": {
          "base_uri": "https://localhost:8080/",
          "height": 34
        }
      },
      "cell_type": "code",
      "source": [
        "float(score)"
      ],
      "execution_count": 0,
      "outputs": [
        {
          "output_type": "execute_result",
          "data": {
            "text/plain": [
              "4.62"
            ]
          },
          "metadata": {
            "tags": []
          },
          "execution_count": 83
        }
      ]
    },
    {
      "metadata": {
        "id": "x6SOB46NuCgv",
        "colab_type": "code",
        "outputId": "523ac525-24e1-4180-d06d-093214283d79",
        "colab": {
          "base_uri": "https://localhost:8080/",
          "height": 34
        }
      },
      "cell_type": "code",
      "source": [
        "len(negotiationlist)"
      ],
      "execution_count": 0,
      "outputs": [
        {
          "output_type": "execute_result",
          "data": {
            "text/plain": [
              "10"
            ]
          },
          "metadata": {
            "tags": []
          },
          "execution_count": 71
        }
      ]
    },
    {
      "metadata": {
        "id": "cyITlRksuTYf",
        "colab_type": "code",
        "outputId": "f22c8f49-b815-4894-e66f-f1640e35331d",
        "colab": {
          "base_uri": "https://localhost:8080/",
          "height": 193
        }
      },
      "cell_type": "code",
      "source": [
        "negotiationlist"
      ],
      "execution_count": 0,
      "outputs": [
        {
          "output_type": "execute_result",
          "data": {
            "text/plain": [
              "[21923192,\n",
              " 21643695,\n",
              " 19831040,\n",
              " 18090637,\n",
              " 18014899,\n",
              " 18335014,\n",
              " 18767207,\n",
              " 19461503,\n",
              " 20162399,\n",
              " 20784521]"
            ]
          },
          "metadata": {
            "tags": []
          },
          "execution_count": 95
        }
      ]
    },
    {
      "metadata": {
        "id": "AEayVlYYoNjW",
        "colab_type": "code",
        "colab": {}
      },
      "cell_type": "code",
      "source": [
        "temp1=Skills.loc[Skills['SOC Code']==111011]\n"
      ],
      "execution_count": 0,
      "outputs": []
    },
    {
      "metadata": {
        "id": "vZb2dM7tofeJ",
        "colab_type": "code",
        "outputId": "3dc3988e-ff1f-47bd-b413-afd7357bbb5a",
        "colab": {
          "base_uri": "https://localhost:8080/",
          "height": 52
        }
      },
      "cell_type": "code",
      "source": [
        "temp1.loc[temp1['Element ID']=='2.B.1.d']['Data Value']"
      ],
      "execution_count": 0,
      "outputs": [
        {
          "output_type": "execute_result",
          "data": {
            "text/plain": [
              "13    4.62\n",
              "Name: Data Value, dtype: float64"
            ]
          },
          "metadata": {
            "tags": []
          },
          "execution_count": 30
        }
      ]
    },
    {
      "metadata": {
        "id": "oI2xxTp1nk5a",
        "colab_type": "code",
        "colab": {}
      },
      "cell_type": "code",
      "source": [
        " Skills.loc[Skills['SOC Code']=='111011' and ['Element ID']=='2.B.1.d']"
      ],
      "execution_count": 0,
      "outputs": []
    },
    {
      "metadata": {
        "id": "tzmnGqBYkYmC",
        "colab_type": "code",
        "colab": {}
      },
      "cell_type": "code",
      "source": [
        "for occ in all_occ:\n",
        "  temp=Skills[Skills['SOC Code']==occ.code and Skills['Element ID']=='2.B.1.d']\n",
        "  occ.negotiation=\n",
        "\n",
        "for index,row in Abilities.iterrows():\n",
        "  "
      ],
      "execution_count": 0,
      "outputs": []
    },
    {
      "metadata": {
        "id": "TOE2zFdExqkm",
        "colab_type": "code",
        "outputId": "70d10283-d53f-4a3c-a98d-b62a33e325ad",
        "colab": {
          "base_uri": "https://localhost:8080/",
          "height": 34
        }
      },
      "cell_type": "code",
      "source": [
        "# the list containing all the objects names is named as listofocc\n",
        "# the list containing all the objects is named as all_occ\n",
        "len(listofocc)"
      ],
      "execution_count": 0,
      "outputs": [
        {
          "output_type": "execute_result",
          "data": {
            "text/plain": [
              "21264"
            ]
          },
          "metadata": {
            "tags": []
          },
          "execution_count": 34
        }
      ]
    },
    {
      "metadata": {
        "id": "qEMT7tLKy9WD",
        "colab_type": "code",
        "outputId": "1111856e-08ce-4d2e-ca18-9c03212efd1a",
        "colab": {
          "base_uri": "https://localhost:8080/",
          "height": 34
        }
      },
      "cell_type": "code",
      "source": [
        "len(all_occ)"
      ],
      "execution_count": 0,
      "outputs": [
        {
          "output_type": "execute_result",
          "data": {
            "text/plain": [
              "21264"
            ]
          },
          "metadata": {
            "tags": []
          },
          "execution_count": 36
        }
      ]
    },
    {
      "metadata": {
        "id": "0bJqC1Qm1Xp6",
        "colab_type": "code",
        "outputId": "8b5eef85-29b3-4194-a47b-310b35918411",
        "colab": {
          "base_uri": "https://localhost:8080/",
          "height": 36
        }
      },
      "cell_type": "code",
      "source": [
        "all_occ[2].year"
      ],
      "execution_count": 0,
      "outputs": [
        {
          "output_type": "execute_result",
          "data": {
            "text/plain": [
              "2007"
            ]
          },
          "metadata": {
            "tags": []
          },
          "execution_count": 54
        }
      ]
    },
    {
      "metadata": {
        "id": "FQ2JcXFm1u7q",
        "colab_type": "code",
        "colab": {}
      },
      "cell_type": "code",
      "source": [
        "listofocc"
      ],
      "execution_count": 0,
      "outputs": []
    },
    {
      "metadata": {
        "id": "Y5V4PRz5XmhD",
        "colab_type": "text"
      },
      "cell_type": "markdown",
      "source": [
        "## Build the dictionary based on 13 NAISCS of Real Estate"
      ]
    },
    {
      "metadata": {
        "id": "Gya_v48t1RT3",
        "colab_type": "code",
        "colab": {}
      },
      "cell_type": "code",
      "source": [
        "# Build a dictionary where\n",
        "#   -  keys: the occ object\n",
        "# Values : all the labor econ attributes and The O_net attributes\n",
        "\n",
        "\n",
        "keys = all_occ\n",
        "\n",
        "values =[]\n",
        "# # We first define some functions that we need to search values from Onet\n",
        "# # The function to search for tasks for an occpation:\n",
        "# def gettask(occ_code,Tasks):\n",
        "#   for index, row in Tasks.iterrows():\n",
        "#     temp=Tasks[Tasks['occ_code']==occ_code][['Task ID','Task']]\n",
        "#     onetvalue=temp.values.tolist()\n",
        "#   return onetvalue\n",
        "\n",
        "for index, row in df.iterrows():\n",
        "  #create a sublist to be one element of the values list\n",
        "  temp=row[['occ_code','tot_emp_num', 'emp_prse', 'pct_total', 'pct_rpt', 'h_mean', 'a_mean', 'mean_prse', 'h_pct10', 'h_pct25', 'h_median', 'h_pct75', 'h_pct90', 'a_pct10', 'a_pct25', 'a_median_num', 'a_pct75', 'a_pct90']]\n",
        "\n",
        "  \n",
        "  values.append(temp)\n",
        "  \n",
        "manual= dict(zip(keys, values))"
      ],
      "execution_count": 0,
      "outputs": []
    },
    {
      "metadata": {
        "id": "yf8OCAR80aOM",
        "colab_type": "code",
        "outputId": "68da998e-067a-4f54-d049-243ccbcc861f",
        "colab": {
          "base_uri": "https://localhost:8080/",
          "height": 167
        }
      },
      "cell_type": "code",
      "source": [
        "manual[all_occ[1]]['tot_emp_num']\n"
      ],
      "execution_count": 0,
      "outputs": [
        {
          "output_type": "error",
          "ename": "IndexError",
          "evalue": "ignored",
          "traceback": [
            "\u001b[0;31m---------------------------------------------------------------------------\u001b[0m",
            "\u001b[0;31mIndexError\u001b[0m                                Traceback (most recent call last)",
            "\u001b[0;32m<ipython-input-33-87107fbdaa41>\u001b[0m in \u001b[0;36m<module>\u001b[0;34m()\u001b[0m\n\u001b[0;32m----> 1\u001b[0;31m \u001b[0mmanual\u001b[0m\u001b[0;34m[\u001b[0m\u001b[0mall_occ\u001b[0m\u001b[0;34m[\u001b[0m\u001b[0;36m1\u001b[0m\u001b[0;34m]\u001b[0m\u001b[0;34m]\u001b[0m\u001b[0;34m[\u001b[0m\u001b[0;34m'tot_emp_num'\u001b[0m\u001b[0;34m]\u001b[0m\u001b[0;34m\u001b[0m\u001b[0;34m\u001b[0m\u001b[0m\n\u001b[0m",
            "\u001b[0;31mIndexError\u001b[0m: list index out of range"
          ]
        }
      ]
    },
    {
      "metadata": {
        "id": "yojBypny-X7k",
        "colab_type": "code",
        "colab": {}
      },
      "cell_type": "code",
      "source": [
        "# # Then we have a tasklist for each occupation, but this method is slow\n",
        "# # The function to search for tasks for an occpation:\n",
        "\n",
        "\n",
        "# def gettask(occ_code,Tasks):\n",
        "#   for index, row in Tasks.iterrows():\n",
        "#     temp=Tasks[Tasks['occ_code']==occ_code][['Task ID','Task']]\n",
        "#   return temp\n",
        "# tasklist=gettask(111011,Tasks)"
      ],
      "execution_count": 0,
      "outputs": []
    },
    {
      "metadata": {
        "id": "LrjoeEX1_XQC",
        "colab_type": "code",
        "outputId": "dd4ea3c7-014a-4411-ae0a-442cb0e66e6b",
        "colab": {
          "base_uri": "https://localhost:8080/",
          "height": 74
        }
      },
      "cell_type": "code",
      "source": [
        "# tasklist[2]"
      ],
      "execution_count": 0,
      "outputs": [
        {
          "output_type": "execute_result",
          "data": {
            "text/plain": [
              "[8825,\n",
              " 'Analyze operations to evaluate performance of a company or its staff in meeting objectives or to determine areas of potential cost reduction, program improvement, or policy change.']"
            ]
          },
          "metadata": {
            "tags": []
          },
          "execution_count": 101
        }
      ]
    },
    {
      "metadata": {
        "id": "5ASTbdSeY1E2",
        "colab_type": "text"
      },
      "cell_type": "markdown",
      "source": [
        "### 2 by 2 metrics to assess 13 NAISCS\n",
        "\n"
      ]
    },
    {
      "metadata": {
        "id": "4hWjE4F_Y998",
        "colab_type": "code",
        "outputId": "ce25959f-7746-459f-ed19-32864efb4074",
        "colab": {
          "base_uri": "https://localhost:8080/",
          "height": 34
        }
      },
      "cell_type": "code",
      "source": [
        "# Among 13 NAISCS industries, we have 528 occupations, the list of occupations is named as targetlist\n",
        "len(targetlist)"
      ],
      "execution_count": 0,
      "outputs": [
        {
          "output_type": "execute_result",
          "data": {
            "text/plain": [
              "528"
            ]
          },
          "metadata": {
            "tags": []
          },
          "execution_count": 34
        }
      ]
    },
    {
      "metadata": {
        "id": "miDhExPFeCya",
        "colab_type": "code",
        "colab": {}
      },
      "cell_type": "code",
      "source": [
        ""
      ],
      "execution_count": 0,
      "outputs": []
    },
    {
      "metadata": {
        "id": "24sHv4ZE_q3g",
        "colab_type": "code",
        "colab": {}
      },
      "cell_type": "code",
      "source": [
        "#   # built a occpationcode list to change 6digit to 8 digit and change the form\n",
        "# onetform=[]\n",
        "# for item in targetlist:\n",
        "#   string=str(item)\n",
        "#   temp=str(string[:1]) + '-' +str(string[2:])+'.00'\n",
        "#   onetform.append(temp)\n",
        "# onetform\n"
      ],
      "execution_count": 0,
      "outputs": []
    },
    {
      "metadata": {
        "id": "aryxAV_3zUNE",
        "colab_type": "text"
      },
      "cell_type": "markdown",
      "source": [
        "#### Make a list for Non-routine cognitive- Interactive"
      ]
    },
    {
      "metadata": {
        "id": "lWWnnE8C_qwr",
        "colab_type": "code",
        "colab": {}
      },
      "cell_type": "code",
      "source": [
        "# Make a list for 10 years, use 'negotiation score'in Skills, Element id is 2.B.1.d\n",
        "negotiationlist=[]\n",
        "totalemployment=[]\n",
        "for year in range(2007,2017):\n",
        "  tempsum=0\n",
        "  denom=0\n",
        "  cutyear=df.loc[df['year']==year]\n",
        "  for occcode in targetlist:\n",
        "    cutocc=cutyear.loc[cutyear['occ_code']==occcode]\n",
        "    employment=cutocc['tot_emp_num'].sum()\n",
        "    denom+=employment\n",
        "    temp1=Skills.loc[Skills['SOC Code']==occcode]  \n",
        "    score_series=temp1.loc[temp1['Element ID']=='2.B.1.d']['Data Value']\n",
        "    try:\n",
        "      score=float(score_series)\n",
        "    except:\n",
        "      continue      \n",
        "    weightedscore=int(employment*score)\n",
        "    tempsum+=weightedscore\n",
        "  valueofyear=tempsum/denom\n",
        "  negotiationlist.append(valueofyear)\n",
        "  totalemployment.append(denom)\n",
        "    "
      ],
      "execution_count": 0,
      "outputs": []
    },
    {
      "metadata": {
        "id": "t3b-ZBdyE7_0",
        "colab_type": "code",
        "outputId": "5acedfd5-9dbf-4b1b-93f4-0073bbf64cbb",
        "colab": {
          "base_uri": "https://localhost:8080/",
          "height": 193
        }
      },
      "cell_type": "code",
      "source": [
        "totalemployment"
      ],
      "execution_count": 0,
      "outputs": [
        {
          "output_type": "execute_result",
          "data": {
            "text/plain": [
              "[11420590.0,\n",
              " 11196570.0,\n",
              " 10161260.0,\n",
              " 9177840.0,\n",
              " 9087980.0,\n",
              " 9241660.0,\n",
              " 9500890.0,\n",
              " 9914140.0,\n",
              " 10302570.0,\n",
              " 10656980.0]"
            ]
          },
          "metadata": {
            "tags": []
          },
          "execution_count": 36
        }
      ]
    },
    {
      "metadata": {
        "id": "q7eAq3YB_qqK",
        "colab_type": "code",
        "outputId": "6df938c8-5444-4092-a13a-fb300a6bb3dd",
        "colab": {
          "base_uri": "https://localhost:8080/",
          "height": 193
        }
      },
      "cell_type": "code",
      "source": [
        "negotiationlist"
      ],
      "execution_count": 0,
      "outputs": [
        {
          "output_type": "execute_result",
          "data": {
            "text/plain": [
              "[1.9196199145578294,\n",
              " 1.9330647689426315,\n",
              " 1.9516319826478212,\n",
              " 1.9711214185472834,\n",
              " 1.9822775798362233,\n",
              " 1.983952450100956,\n",
              " 1.9753104182871288,\n",
              " 1.9630046579935325,\n",
              " 1.9570261594922431,\n",
              " 1.950319978080094]"
            ]
          },
          "metadata": {
            "tags": []
          },
          "execution_count": 37
        }
      ]
    },
    {
      "metadata": {
        "colab_type": "text",
        "id": "3t5nO_U7z8cc"
      },
      "cell_type": "markdown",
      "source": [
        "#### Make a list for Non-routine cognitive- Analytic"
      ]
    },
    {
      "metadata": {
        "id": "uABCcyLb_qfp",
        "colab_type": "code",
        "colab": {}
      },
      "cell_type": "code",
      "source": [
        "# Make a list for 10 years, use 'Mathematical Reasoning' in Abilities, Element id is 1.A.1.c.1\n",
        "MATHlist=[]\n",
        "for year in range(2007,2017):\n",
        "  tempsum=0\n",
        "  cutyear=df.loc[df['year']==year]\n",
        "  for occcode in targetlist:\n",
        "    cutocc=cutyear.loc[cutyear['occ_code']==occcode]\n",
        "    employment=cutocc['tot_emp_num'].sum()\n",
        "    temp1=Abilities.loc[Abilities['SOC Code']==occcode]  \n",
        "    score_series=temp1.loc[temp1['Element ID']=='1.A.1.c.1']['Data Value']\n",
        "    try:\n",
        "      score=float(score_series)\n",
        "    except:\n",
        "      continue      \n",
        "    weightedscore=int(employment*score)\n",
        "    tempsum+=weightedscore\n",
        "  MATHlist.append(tempsum)"
      ],
      "execution_count": 0,
      "outputs": []
    },
    {
      "metadata": {
        "id": "UZjjnT0o-RIr",
        "colab_type": "code",
        "outputId": "79d3d914-ae28-446e-aca5-18578723e4df",
        "colab": {
          "base_uri": "https://localhost:8080/",
          "height": 193
        }
      },
      "cell_type": "code",
      "source": [
        "MATHlist"
      ],
      "execution_count": 0,
      "outputs": [
        {
          "output_type": "execute_result",
          "data": {
            "text/plain": [
              "[19912594,\n",
              " 19665161,\n",
              " 18041007,\n",
              " 16346415,\n",
              " 16223788,\n",
              " 16444917,\n",
              " 16858215,\n",
              " 17496147,\n",
              " 18181594,\n",
              " 18739184]"
            ]
          },
          "metadata": {
            "tags": []
          },
          "execution_count": 39
        }
      ]
    },
    {
      "metadata": {
        "colab_type": "text",
        "id": "k0FXaxsa1MOS"
      },
      "cell_type": "markdown",
      "source": [
        "#### Make a list for Non-routine Manual"
      ]
    },
    {
      "metadata": {
        "id": "mSHaKASD3kGx",
        "colab_type": "code",
        "colab": {}
      },
      "cell_type": "code",
      "source": [
        "# Make a list for 10 years, use 'Manual Dexterity' in Abilities, Element id is 1.A.2.a.2\n",
        "Manulist=[]\n",
        "for year in range(2007,2017):\n",
        "  tempsum=0\n",
        "  cutyear=df.loc[df['year']==year]\n",
        "  for occcode in targetlist:\n",
        "    cutocc=cutyear.loc[cutyear['occ_code']==occcode]\n",
        "    employment=cutocc['tot_emp_num'].sum()\n",
        "    temp1=Abilities.loc[Abilities['SOC Code']==occcode]  \n",
        "    score_series=temp1.loc[temp1['Element ID']=='1.A.2.a.2']['Data Value']\n",
        "    try:\n",
        "      score=float(score_series)\n",
        "    except:\n",
        "      continue      \n",
        "    weightedscore=int(employment*score)\n",
        "    tempsum+=weightedscore\n",
        "  Manulist.append(tempsum)"
      ],
      "execution_count": 0,
      "outputs": []
    },
    {
      "metadata": {
        "id": "dC_qtXjG14HS",
        "colab_type": "code",
        "outputId": "14510d77-30fb-4124-bfcf-11582714c049",
        "colab": {
          "base_uri": "https://localhost:8080/",
          "height": 193
        }
      },
      "cell_type": "code",
      "source": [
        "Manulist"
      ],
      "execution_count": 0,
      "outputs": [
        {
          "output_type": "execute_result",
          "data": {
            "text/plain": [
              "[22312815,\n",
              " 21779841,\n",
              " 19673674,\n",
              " 17771392,\n",
              " 17570343,\n",
              " 17866598,\n",
              " 18349511,\n",
              " 19184264,\n",
              " 19971208,\n",
              " 20634037]"
            ]
          },
          "metadata": {
            "tags": []
          },
          "execution_count": 41
        }
      ]
    },
    {
      "metadata": {
        "id": "KBTeVKPp43SA",
        "colab_type": "code",
        "colab": {}
      },
      "cell_type": "code",
      "source": [
        ""
      ],
      "execution_count": 0,
      "outputs": []
    },
    {
      "metadata": {
        "colab_type": "text",
        "id": "xNXnSvqs2DFf"
      },
      "cell_type": "markdown",
      "source": [
        "#### Make a list for Routine Manual"
      ]
    },
    {
      "metadata": {
        "id": "N2d2WNFH5FZF",
        "colab_type": "code",
        "colab": {}
      },
      "cell_type": "code",
      "source": [
        "# Make a list for 10 years, use 'Finger Dexterity' in Abilities, Element id is 1.A.2.a.3\n",
        "FingDexlist=[]\n",
        "for year in range(2007,2017):\n",
        "  tempsum=0\n",
        "  cutyear=df.loc[df['year']==year]\n",
        "  for occcode in targetlist:\n",
        "    cutocc=cutyear.loc[cutyear['occ_code']==occcode]\n",
        "    employment=cutocc['tot_emp_num'].sum()\n",
        "    temp1=Abilities.loc[Abilities['SOC Code']==occcode]  \n",
        "    score_series=temp1.loc[temp1['Element ID']=='1.A.2.a.3']['Data Value']\n",
        "    try:\n",
        "      score=float(score_series)\n",
        "    except:\n",
        "      continue      \n",
        "    weightedscore=int(employment*score)\n",
        "    tempsum+=weightedscore\n",
        "  FingDexlist.append(tempsum)"
      ],
      "execution_count": 0,
      "outputs": []
    },
    {
      "metadata": {
        "id": "ONrMMCXJ52L0",
        "colab_type": "code",
        "outputId": "276b15d5-6e40-4f8c-b327-4a684cb83857",
        "colab": {
          "base_uri": "https://localhost:8080/",
          "height": 193
        }
      },
      "cell_type": "code",
      "source": [
        "FingDexlist"
      ],
      "execution_count": 0,
      "outputs": [
        {
          "output_type": "execute_result",
          "data": {
            "text/plain": [
              "[24584630,\n",
              " 24114146,\n",
              " 21950130,\n",
              " 19897246,\n",
              " 19706752,\n",
              " 20027977,\n",
              " 20523187,\n",
              " 21382383,\n",
              " 22214392,\n",
              " 22923699]"
            ]
          },
          "metadata": {
            "tags": []
          },
          "execution_count": 43
        }
      ]
    },
    {
      "metadata": {
        "id": "L7v9UWlH8-Ep",
        "colab_type": "code",
        "colab": {}
      },
      "cell_type": "code",
      "source": [
        ""
      ],
      "execution_count": 0,
      "outputs": []
    },
    {
      "metadata": {
        "colab_type": "text",
        "id": "04MUDDY22woC"
      },
      "cell_type": "markdown",
      "source": [
        "#### Make a list for Routine Cognitive"
      ]
    },
    {
      "metadata": {
        "id": "dlx1vyqDzLJl",
        "colab_type": "code",
        "colab": {}
      },
      "cell_type": "code",
      "source": [
        "# Make a list for 10 years, use 'Guiding, Directing and Motivating' in Work Activities, Element id is 4.A.4.b.4\n",
        "GDMlist=[]\n",
        "for year in range(2007,2017):\n",
        "  tempsum=0\n",
        "  cutyear=df.loc[df['year']==year]\n",
        "  for occcode in targetlist:\n",
        "    cutocc=cutyear.loc[cutyear['occ_code']==occcode]\n",
        "    employment=cutocc['tot_emp_num'].sum()\n",
        "    temp1=Activities.loc[Activities['occ_code']==occcode]  \n",
        "    score_series=temp1.loc[temp1['Element ID']=='4.A.4.b.4']['Data Value']\n",
        "    try:\n",
        "      score=float(score_series)\n",
        "    except:\n",
        "      continue      \n",
        "    weightedscore=int(employment*score)\n",
        "    tempsum+=weightedscore\n",
        "  GDMlist.append(tempsum)"
      ],
      "execution_count": 0,
      "outputs": []
    },
    {
      "metadata": {
        "id": "yEA3EWso8QF_",
        "colab_type": "code",
        "outputId": "f593e08c-d62d-4b32-d99c-eae685ba81e9",
        "colab": {
          "base_uri": "https://localhost:8080/",
          "height": 193
        }
      },
      "cell_type": "code",
      "source": [
        "GDMlist"
      ],
      "execution_count": 0,
      "outputs": [
        {
          "output_type": "execute_result",
          "data": {
            "text/plain": [
              "[22618677,\n",
              " 22206466,\n",
              " 20155615,\n",
              " 18257599,\n",
              " 18135412,\n",
              " 18468149,\n",
              " 18987629,\n",
              " 19778819,\n",
              " 20597364,\n",
              " 21233458]"
            ]
          },
          "metadata": {
            "tags": []
          },
          "execution_count": 45
        }
      ]
    },
    {
      "metadata": {
        "id": "7_T0yjP59A2x",
        "colab_type": "text"
      },
      "cell_type": "markdown",
      "source": [
        "##Conduct 2*2 Autor analysis for Manufature "
      ]
    },
    {
      "metadata": {
        "id": "L_enVmjl9HT4",
        "colab_type": "code",
        "colab": {}
      },
      "cell_type": "code",
      "source": [
        "!wget \"https://www.dropbox.com/s/mzly495b0ns41wi/oes_nat4d_2007-2016.csv?dl=0\" -q -O \"oes_nat4d_2007-2016.csv\" \n",
        "allOLS=pd.read_csv(\"oes_nat4d_2007-2016.csv\",low_memory=False)"
      ],
      "execution_count": 0,
      "outputs": []
    },
    {
      "metadata": {
        "id": "-QZupVFTMIk4",
        "colab_type": "code",
        "colab": {}
      },
      "cell_type": "code",
      "source": [
        "allOLS"
      ],
      "execution_count": 0,
      "outputs": []
    },
    {
      "metadata": {
        "id": "dsNW3PoqO8c7",
        "colab_type": "code",
        "colab": {}
      },
      "cell_type": "code",
      "source": [
        "# make a series of Manufactureing 4-digit NAICS code\n",
        "!wget \"https://www.dropbox.com/s/sw4i9fj6lgnlq58/4digit_manu.csv?dl=0\" -q -O \"4digit_manu.csv\" \n",
        "manu_naisc=pd.read_csv(\"4dixxxxxxxxxxxxxxxxxxxxxxxxxxxccgit_manu.csv\",low_memory=False)"
      ],
      "execution_count": 0,
      "outputs": []
    },
    {
      "metadata": {
        "id": "9tVT64VNM5Pv",
        "colab_type": "code",
        "colab": {}
      },
      "cell_type": "code",
      "source": [
        ""
      ],
      "execution_count": 0,
      "outputs": []
    },
    {
      "metadata": {
        "id": "jRS2RYjBNaEz",
        "colab_type": "code",
        "colab": {}
      },
      "cell_type": "code",
      "source": [
        "# Filter out manufature OLS data\n",
        "manudf=allOLS.loc[allOLS['naics'].isin(manu_naisc['naisc'])]"
      ],
      "execution_count": 0,
      "outputs": []
    },
    {
      "metadata": {
        "id": "K3Z5gmqiWeCF",
        "colab_type": "code",
        "colab": {}
      },
      "cell_type": "code",
      "source": [
        "# Create occupation list for manufature, and exclude those occ_code end with 00\n",
        "manu_occ=manudf['occ_code'].unique()\n",
        "manu_occ_list=[]\n",
        "for row in manu_occ:\n",
        "  temp=str(row)\n",
        "  if temp[5:]!='00':\n",
        "    new=temp[:2]+temp[3:]\n",
        "    new=int(new)\n",
        "    manu_occ_list.append(new)\n",
        "  else:\n",
        "    continue"
      ],
      "execution_count": 0,
      "outputs": []
    },
    {
      "metadata": {
        "id": "88m8YojVV9A1",
        "colab_type": "code",
        "colab": {}
      },
      "cell_type": "code",
      "source": [
        "# There are 918 occupations in Manufaturinng\n",
        "manu_occ_list"
      ],
      "execution_count": 0,
      "outputs": []
    },
    {
      "metadata": {
        "id": "t4_jQur9bNjE",
        "colab_type": "code",
        "colab": {}
      },
      "cell_type": "code",
      "source": [
        "manudf"
      ],
      "execution_count": 0,
      "outputs": []
    },
    {
      "metadata": {
        "id": "MuUmklSckUu1",
        "colab_type": "code",
        "colab": {}
      },
      "cell_type": "code",
      "source": [
        "# Transform manufacture occupation code to the right form\n",
        "manudf['occ_code'] = manudf['occ_code'].map(lambda x: x.replace('-',''))"
      ],
      "execution_count": 0,
      "outputs": []
    },
    {
      "metadata": {
        "id": "X80ockXsb75S",
        "colab_type": "code",
        "colab": {}
      },
      "cell_type": "code",
      "source": [
        "manudf"
      ],
      "execution_count": 0,
      "outputs": []
    },
    {
      "metadata": {
        "id": "pmEaDPrBMJw-",
        "colab_type": "code",
        "outputId": "ad7633bf-fe70-4bbc-9b9e-cc7a9c0a0c42",
        "colab": {
          "base_uri": "https://localhost:8080/",
          "height": 237
        }
      },
      "cell_type": "code",
      "source": [
        "# Make a list for 10 years, use 'negotiation score'in Skills, Element id is 2.B.1.d\n",
        "negotiationlist=[]\n",
        "totalemployment=[]\n",
        "for year in range(2007,2017):\n",
        "  tempsum=0\n",
        "  denom=0\n",
        "  cutyear=manudf.loc[manudf['year']==year]\n",
        "  for occcode in manu_occ_list:\n",
        "    cutocc=cutyear.loc[cutyear['occ_code']==occcode]\n",
        "    employment=cutocc['tot_emp'].sum()\n",
        "    denom+=employment\n",
        "    temp1=Skills.loc[Skills['SOC Code']==occcode]  \n",
        "    score_series=temp1.loc[temp1['Element ID']=='2.B.1.d']['Data Value']\n",
        "    try:\n",
        "      score=float(score_series)\n",
        "    except:\n",
        "      continue      \n",
        "    weightedscore=int(employment*score)\n",
        "    tempsum+=weightedscore\n",
        "  valueofyear=tempsum/denom\n",
        "  negotiationlist.append(valueofyear)\n",
        "  totalemployment.append(denom)"
      ],
      "execution_count": 0,
      "outputs": [
        {
          "output_type": "error",
          "ename": "NameError",
          "evalue": "ignored",
          "traceback": [
            "\u001b[0;31m---------------------------------------------------------------------------\u001b[0m",
            "\u001b[0;31mNameError\u001b[0m                                 Traceback (most recent call last)",
            "\u001b[0;32m<ipython-input-55-7a7fd975c320>\u001b[0m in \u001b[0;36m<module>\u001b[0;34m()\u001b[0m\n\u001b[1;32m      9\u001b[0m     \u001b[0memployment\u001b[0m\u001b[0;34m=\u001b[0m\u001b[0mcutocc\u001b[0m\u001b[0;34m[\u001b[0m\u001b[0;34m'tot_emp'\u001b[0m\u001b[0;34m]\u001b[0m\u001b[0;34m.\u001b[0m\u001b[0msum\u001b[0m\u001b[0;34m(\u001b[0m\u001b[0;34m)\u001b[0m\u001b[0;34m\u001b[0m\u001b[0;34m\u001b[0m\u001b[0m\n\u001b[1;32m     10\u001b[0m     \u001b[0mdenom\u001b[0m\u001b[0;34m+=\u001b[0m\u001b[0memployment\u001b[0m\u001b[0;34m\u001b[0m\u001b[0;34m\u001b[0m\u001b[0m\n\u001b[0;32m---> 11\u001b[0;31m     \u001b[0mtemp1\u001b[0m\u001b[0;34m=\u001b[0m\u001b[0mSkills\u001b[0m\u001b[0;34m.\u001b[0m\u001b[0mloc\u001b[0m\u001b[0;34m[\u001b[0m\u001b[0mSkills\u001b[0m\u001b[0;34m[\u001b[0m\u001b[0;34m'SOC Code'\u001b[0m\u001b[0;34m]\u001b[0m\u001b[0;34m==\u001b[0m\u001b[0mocccode\u001b[0m\u001b[0;34m]\u001b[0m\u001b[0;34m\u001b[0m\u001b[0;34m\u001b[0m\u001b[0m\n\u001b[0m\u001b[1;32m     12\u001b[0m     \u001b[0mscore_series\u001b[0m\u001b[0;34m=\u001b[0m\u001b[0mtemp1\u001b[0m\u001b[0;34m.\u001b[0m\u001b[0mloc\u001b[0m\u001b[0;34m[\u001b[0m\u001b[0mtemp1\u001b[0m\u001b[0;34m[\u001b[0m\u001b[0;34m'Element ID'\u001b[0m\u001b[0;34m]\u001b[0m\u001b[0;34m==\u001b[0m\u001b[0;34m'2.B.1.d'\u001b[0m\u001b[0;34m]\u001b[0m\u001b[0;34m[\u001b[0m\u001b[0;34m'Data Value'\u001b[0m\u001b[0;34m]\u001b[0m\u001b[0;34m\u001b[0m\u001b[0;34m\u001b[0m\u001b[0m\n\u001b[1;32m     13\u001b[0m     \u001b[0;32mtry\u001b[0m\u001b[0;34m:\u001b[0m\u001b[0;34m\u001b[0m\u001b[0;34m\u001b[0m\u001b[0m\n",
            "\u001b[0;31mNameError\u001b[0m: name 'Skills' is not defined"
          ]
        }
      ]
    },
    {
      "metadata": {
        "id": "pBtXuEViY0Jh",
        "colab_type": "code",
        "colab": {}
      },
      "cell_type": "code",
      "source": [
        "cutyear=manudf.loc[manudf['year']==2007]\n",
        "cutyear"
      ],
      "execution_count": 0,
      "outputs": []
    },
    {
      "metadata": {
        "id": "tfy0Q7DSYoPF",
        "colab_type": "code",
        "outputId": "57ad1407-596a-4dc1-89a2-3c70c46e4c6a",
        "colab": {
          "base_uri": "https://localhost:8080/",
          "height": 34
        }
      },
      "cell_type": "code",
      "source": [
        "totalemployment"
      ],
      "execution_count": 0,
      "outputs": [
        {
          "output_type": "execute_result",
          "data": {
            "text/plain": [
              "[0, 0, 0, 0, 0, 0, 0, 0, 0, 0]"
            ]
          },
          "metadata": {
            "tags": []
          },
          "execution_count": 164
        }
      ]
    }
  ]
}